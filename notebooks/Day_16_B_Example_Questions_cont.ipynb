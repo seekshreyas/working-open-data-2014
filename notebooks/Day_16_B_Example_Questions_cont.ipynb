{
 "metadata": {
  "name": "",
  "signature": "sha256:1c9c0d174dc331d2feb2d83313cdd1b55ff0be3459b17d693386fc33f646bd3b"
 },
 "nbformat": 3,
 "nbformat_minor": 0,
 "worksheets": [
  {
   "cells": [
    {
     "cell_type": "markdown",
     "metadata": {},
     "source": [
      "**Read in JSON and DataFrame Basics**"
     ]
    },
    {
     "cell_type": "code",
     "collapsed": false,
     "input": [
      "# read population in\n",
      "import json\n",
      "import requests\n",
      "from pandas import DataFrame\n",
      "\n",
      "# pop_json_url holds a \n",
      "pop_json_url = \"https://gist.github.com/rdhyee/8511607/raw/f16257434352916574473e63612fcea55a0c1b1c/population_of_countries.json\"\n",
      "pop_list= requests.get(pop_json_url).json()\n",
      "\n",
      "df = DataFrame(pop_list)\n",
      "df[:5]"
     ],
     "language": "python",
     "metadata": {},
     "outputs": [
      {
       "html": [
        "<div style=\"max-height:1000px;max-width:1500px;overflow:auto;\">\n",
        "<table border=\"1\" class=\"dataframe\">\n",
        "  <thead>\n",
        "    <tr style=\"text-align: right;\">\n",
        "      <th></th>\n",
        "      <th>0</th>\n",
        "      <th>1</th>\n",
        "      <th>2</th>\n",
        "    </tr>\n",
        "  </thead>\n",
        "  <tbody>\n",
        "    <tr>\n",
        "      <th>0</th>\n",
        "      <td> 1</td>\n",
        "      <td>         China</td>\n",
        "      <td> 1385566537</td>\n",
        "    </tr>\n",
        "    <tr>\n",
        "      <th>1</th>\n",
        "      <td> 2</td>\n",
        "      <td>         India</td>\n",
        "      <td> 1252139596</td>\n",
        "    </tr>\n",
        "    <tr>\n",
        "      <th>2</th>\n",
        "      <td> 3</td>\n",
        "      <td> United States</td>\n",
        "      <td>  320050716</td>\n",
        "    </tr>\n",
        "    <tr>\n",
        "      <th>3</th>\n",
        "      <td> 4</td>\n",
        "      <td>     Indonesia</td>\n",
        "      <td>  249865631</td>\n",
        "    </tr>\n",
        "    <tr>\n",
        "      <th>4</th>\n",
        "      <td> 5</td>\n",
        "      <td>        Brazil</td>\n",
        "      <td>  200361925</td>\n",
        "    </tr>\n",
        "  </tbody>\n",
        "</table>\n",
        "<p>5 rows \u00d7 3 columns</p>\n",
        "</div>"
       ],
       "metadata": {},
       "output_type": "pyout",
       "prompt_number": 2,
       "text": [
        "   0              1           2\n",
        "0  1          China  1385566537\n",
        "1  2          India  1252139596\n",
        "2  3  United States   320050716\n",
        "3  4      Indonesia   249865631\n",
        "4  5         Brazil   200361925\n",
        "\n",
        "[5 rows x 3 columns]"
       ]
      }
     ],
     "prompt_number": 2
    },
    {
     "cell_type": "code",
     "collapsed": false,
     "input": [
      "df.dtypes"
     ],
     "language": "python",
     "metadata": {},
     "outputs": [
      {
       "metadata": {},
       "output_type": "pyout",
       "prompt_number": 11,
       "text": [
        "0    float64\n",
        "1     object\n",
        "2      int64\n",
        "dtype: object"
       ]
      }
     ],
     "prompt_number": 11
    },
    {
     "cell_type": "markdown",
     "metadata": {},
     "source": [
      "Q: Based on the above statement, which of these would you expect to see in pop_list?\n",
      "    \n",
      "1. ```['1', 'United States', '320050716']```\n",
      "1. ```[1, 'United States', 320050716]```\n",
      "1. ```['United States', 320050716]```\n",
      "1. ```[1, 'United States', '320050716']```"
     ]
    },
    {
     "cell_type": "markdown",
     "metadata": {},
     "source": [
      "Q: What is the relationship between `s` and the population of China?\n",
      "\n",
      "    s = sum(df[df[1].str.startswith('C')][2])\n",
      "    \n",
      "1. `s` is **greater** than the population of China\n",
      "1. `s` is the **same** as the population of China\n",
      "1. `s` is **less** than the population of China\n",
      "1. `s` is not a number.\n",
      "\n"
     ]
    },
    {
     "cell_type": "markdown",
     "metadata": {},
     "source": [
      "Q: This statement does the following?\n",
      "\n",
      "    df.columns = ['Number','Country','Population']\n",
      "    \n",
      "1. Nothing\n",
      "1. df gets a new attribute called `columns`\n",
      "1. df's columns are renamed based on the list\n",
      "1. Throws an exception"
     ]
    },
    {
     "cell_type": "markdown",
     "metadata": {},
     "source": [
      "Q: How would you rewrite this statement to get the same result\n",
      "\n",
      "    s = sum(df[df[1].str.startswith('C')][2])\n",
      "\n",
      "after running:\n",
      "\n",
      "    df.columns = ['Number','Country','Population']"
     ]
    },
    {
     "cell_type": "markdown",
     "metadata": {},
     "source": [
      "**Series Examples**"
     ]
    },
    {
     "cell_type": "code",
     "collapsed": false,
     "input": [
      "from pandas import DataFrame, Series\n",
      "import numpy as np\n",
      "\n",
      "s1 = Series(np.arange(1,4))\n",
      "s1"
     ],
     "language": "python",
     "metadata": {},
     "outputs": [
      {
       "metadata": {},
       "output_type": "pyout",
       "prompt_number": 54,
       "text": [
        "0    1\n",
        "1    2\n",
        "2    3\n",
        "dtype: int64"
       ]
      }
     ],
     "prompt_number": 54
    },
    {
     "cell_type": "markdown",
     "metadata": {},
     "source": [
      "Q: What is\n",
      "\n",
      "    s1 + 1"
     ]
    },
    {
     "cell_type": "markdown",
     "metadata": {},
     "source": [
      "Q:  What is\n",
      "    \n",
      "    s1.apply(lambda k: 2*k).sum()\n",
      "   "
     ]
    },
    {
     "cell_type": "markdown",
     "metadata": {},
     "source": [
      "Q: What is \n",
      "\n",
      "    s1.cumsum()[1]"
     ]
    },
    {
     "cell_type": "markdown",
     "metadata": {},
     "source": [
      "Q: What is\n",
      "\n",
      "    s1.cumsum() + s1.cumsum()"
     ]
    },
    {
     "cell_type": "markdown",
     "metadata": {},
     "source": [
      "Q: Describe what is happening in these statements:\n",
      "\n",
      "    s1 + 1\n",
      "\n",
      "and\n",
      "\n",
      "    s1.cumsum() + s1.cumsum()"
     ]
    },
    {
     "cell_type": "markdown",
     "metadata": {},
     "source": [
      "Q: What is\n",
      "\n",
      "    np.any(s1 > 2)"
     ]
    },
    {
     "cell_type": "markdown",
     "metadata": {},
     "source": [
      "** Census API Examples ** "
     ]
    },
    {
     "cell_type": "code",
     "collapsed": false,
     "input": [
      "from census import Census\n",
      "from us import states\n",
      "\n",
      "import settings\n",
      "\n",
      "c = Census(settings.CENSUS_KEY)\n",
      "c.sf1.get(('NAME', 'P0010001'), {'for': 'state:%s' % states.CA.fips})"
     ],
     "language": "python",
     "metadata": {},
     "outputs": [
      {
       "metadata": {},
       "output_type": "pyout",
       "prompt_number": 62,
       "text": [
        "[{u'NAME': u'California', u'P0010001': u'37253956', u'state': u'06'}]"
       ]
      }
     ],
     "prompt_number": 62
    },
    {
     "cell_type": "markdown",
     "metadata": {},
     "source": [
      "Q: What is the purpose of `settings.CENSUS_KEY`?\n",
      "\n",
      "1. It is the password for the Census Python package\n",
      "1. It is an API Access key for authentication with the Census API\n",
      "1. It is an API Access key for authentication with Github\n",
      "1. It is key shared by all users of the Census API"
     ]
    },
    {
     "cell_type": "markdown",
     "metadata": {},
     "source": [
      "Q: What is the difference between `r1` and `r2`?\n",
      "\n",
      "    r1 = c.sf1.get(('NAME', 'P0010001'), {'for': 'county:*', 'in': 'state:%s' % states.CA.fips})\n",
      "    r2 = c.sf1.get(('NAME', 'P0010001'), {'for': 'county:*', 'in': 'state:*' })"
     ]
    },
    {
     "cell_type": "markdown",
     "metadata": {},
     "source": [
      "Q: Which is the correct geographic hierarchy?\n",
      "\n",
      "Nation > States = Nation is subdivided into States\n",
      "\n",
      "1. Counties > States\n",
      "1. Counties > Census Blocks > Census Tracks\n",
      "1. Places > Counties\n",
      "1. Census Tracts > Block Groups > Census Blocks"
     ]
    },
    {
     "cell_type": "code",
     "collapsed": false,
     "input": [
      "from pandas import DataFrame\n",
      "\n",
      "r = c.sf1.get(('NAME', 'P0010001'), {'for': 'state:*'})\n",
      "df = DataFrame(r)\n",
      "\n",
      "df.head()"
     ],
     "language": "python",
     "metadata": {},
     "outputs": [
      {
       "html": [
        "<div style=\"max-height:1000px;max-width:1500px;overflow:auto;\">\n",
        "<table border=\"1\" class=\"dataframe\">\n",
        "  <thead>\n",
        "    <tr style=\"text-align: right;\">\n",
        "      <th></th>\n",
        "      <th>NAME</th>\n",
        "      <th>P0010001</th>\n",
        "      <th>state</th>\n",
        "    </tr>\n",
        "  </thead>\n",
        "  <tbody>\n",
        "    <tr>\n",
        "      <th>0</th>\n",
        "      <td>    Alabama</td>\n",
        "      <td>  4779736</td>\n",
        "      <td> 01</td>\n",
        "    </tr>\n",
        "    <tr>\n",
        "      <th>1</th>\n",
        "      <td>     Alaska</td>\n",
        "      <td>   710231</td>\n",
        "      <td> 02</td>\n",
        "    </tr>\n",
        "    <tr>\n",
        "      <th>2</th>\n",
        "      <td>    Arizona</td>\n",
        "      <td>  6392017</td>\n",
        "      <td> 04</td>\n",
        "    </tr>\n",
        "    <tr>\n",
        "      <th>3</th>\n",
        "      <td>   Arkansas</td>\n",
        "      <td>  2915918</td>\n",
        "      <td> 05</td>\n",
        "    </tr>\n",
        "    <tr>\n",
        "      <th>4</th>\n",
        "      <td> California</td>\n",
        "      <td> 37253956</td>\n",
        "      <td> 06</td>\n",
        "    </tr>\n",
        "  </tbody>\n",
        "</table>\n",
        "<p>5 rows \u00d7 3 columns</p>\n",
        "</div>"
       ],
       "metadata": {},
       "output_type": "pyout",
       "prompt_number": 72,
       "text": [
        "         NAME  P0010001 state\n",
        "0     Alabama   4779736    01\n",
        "1      Alaska    710231    02\n",
        "2     Arizona   6392017    04\n",
        "3    Arkansas   2915918    05\n",
        "4  California  37253956    06\n",
        "\n",
        "[5 rows x 3 columns]"
       ]
      }
     ],
     "prompt_number": 72
    },
    {
     "cell_type": "markdown",
     "metadata": {},
     "source": [
      "Q: Why does `df` have 52 items? Please explain"
     ]
    },
    {
     "cell_type": "code",
     "collapsed": false,
     "input": [
      "len(df)"
     ],
     "language": "python",
     "metadata": {},
     "outputs": [
      {
       "metadata": {},
       "output_type": "pyout",
       "prompt_number": 75,
       "text": [
        "52"
       ]
      }
     ],
     "prompt_number": 75
    },
    {
     "cell_type": "markdown",
     "metadata": {},
     "source": [
      "Q: Why are the results below different? Please explain"
     ]
    },
    {
     "cell_type": "code",
     "collapsed": false,
     "input": [
      "print df.P0010001.sum()\n",
      "print\n",
      "print df.P0010001.astype(int).sum()"
     ],
     "language": "python",
     "metadata": {},
     "outputs": [
      {
       "output_type": "stream",
       "stream": "stdout",
       "text": [
        "477973671023163920172915918372539565029196357409789793460172318801310968765313603011567582128306326483802304635528531184339367453337213283615773552654762998836405303925296729759889279894151826341270055113164708791894205917919378102953548367259111536504375135138310741270237910525674625364814180634610525145561276388562574180010246724540185299456869865636263725789\n",
        "\n",
        "312471327\n"
       ]
      }
     ],
     "prompt_number": 84
    },
    {
     "cell_type": "markdown",
     "metadata": {},
     "source": [
      "Q: Describe the output of the following:\n",
      "\n",
      "    df.P0010001 = df.P0010001.astype(int)\n",
      "    df[['NAME','P0010001']].sort('P0010001', ascending=False).head()"
     ]
    },
    {
     "cell_type": "markdown",
     "metadata": {},
     "source": [
      "Q: After running:\n",
      "\n",
      "    df.set_index('NAME', inplace=True)\n",
      "\n",
      "how would you access the Series for the state of Alaska?\n",
      "\n",
      "1. df['Alaska']\n",
      "1. df[1]\n",
      "1. df.ix['Alaska']\n",
      "1. df[df['NAME'] == 'Alaska']"
     ]
    },
    {
     "cell_type": "code",
     "collapsed": false,
     "input": [
      "np.in1d([ s.fips for s in states.STATES], df.state)"
     ],
     "language": "python",
     "metadata": {},
     "outputs": [
      {
       "metadata": {},
       "output_type": "pyout",
       "prompt_number": 90,
       "text": [
        "array([ True,  True,  True,  True,  True,  True,  True,  True,  True,\n",
        "        True,  True,  True,  True,  True,  True,  True,  True,  True,\n",
        "        True,  True,  True,  True,  True,  True,  True,  True,  True,\n",
        "        True,  True,  True,  True,  True,  True,  True,  True,  True,\n",
        "        True,  True,  True,  True,  True,  True,  True,  True,  True,\n",
        "        True,  True,  True,  True,  True,  True], dtype=bool)"
       ]
      }
     ],
     "prompt_number": 90
    },
    {
     "cell_type": "code",
     "collapsed": false,
     "input": [
      "df[np.in1d(df.state, [ s.fips for s in states.STATES])]"
     ],
     "language": "python",
     "metadata": {},
     "outputs": [
      {
       "html": [
        "<div style=\"max-height:1000px;max-width:1500px;overflow:auto;\">\n",
        "<table border=\"1\" class=\"dataframe\">\n",
        "  <thead>\n",
        "    <tr style=\"text-align: right;\">\n",
        "      <th></th>\n",
        "      <th>NAME</th>\n",
        "      <th>P0010001</th>\n",
        "      <th>state</th>\n",
        "    </tr>\n",
        "  </thead>\n",
        "  <tbody>\n",
        "    <tr>\n",
        "      <th>0 </th>\n",
        "      <td>              Alabama</td>\n",
        "      <td>  4779736</td>\n",
        "      <td> 01</td>\n",
        "    </tr>\n",
        "    <tr>\n",
        "      <th>1 </th>\n",
        "      <td>               Alaska</td>\n",
        "      <td>   710231</td>\n",
        "      <td> 02</td>\n",
        "    </tr>\n",
        "    <tr>\n",
        "      <th>2 </th>\n",
        "      <td>              Arizona</td>\n",
        "      <td>  6392017</td>\n",
        "      <td> 04</td>\n",
        "    </tr>\n",
        "    <tr>\n",
        "      <th>3 </th>\n",
        "      <td>             Arkansas</td>\n",
        "      <td>  2915918</td>\n",
        "      <td> 05</td>\n",
        "    </tr>\n",
        "    <tr>\n",
        "      <th>4 </th>\n",
        "      <td>           California</td>\n",
        "      <td> 37253956</td>\n",
        "      <td> 06</td>\n",
        "    </tr>\n",
        "    <tr>\n",
        "      <th>5 </th>\n",
        "      <td>             Colorado</td>\n",
        "      <td>  5029196</td>\n",
        "      <td> 08</td>\n",
        "    </tr>\n",
        "    <tr>\n",
        "      <th>6 </th>\n",
        "      <td>          Connecticut</td>\n",
        "      <td>  3574097</td>\n",
        "      <td> 09</td>\n",
        "    </tr>\n",
        "    <tr>\n",
        "      <th>7 </th>\n",
        "      <td>             Delaware</td>\n",
        "      <td>   897934</td>\n",
        "      <td> 10</td>\n",
        "    </tr>\n",
        "    <tr>\n",
        "      <th>8 </th>\n",
        "      <td> District of Columbia</td>\n",
        "      <td>   601723</td>\n",
        "      <td> 11</td>\n",
        "    </tr>\n",
        "    <tr>\n",
        "      <th>9 </th>\n",
        "      <td>              Florida</td>\n",
        "      <td> 18801310</td>\n",
        "      <td> 12</td>\n",
        "    </tr>\n",
        "    <tr>\n",
        "      <th>10</th>\n",
        "      <td>              Georgia</td>\n",
        "      <td>  9687653</td>\n",
        "      <td> 13</td>\n",
        "    </tr>\n",
        "    <tr>\n",
        "      <th>11</th>\n",
        "      <td>               Hawaii</td>\n",
        "      <td>  1360301</td>\n",
        "      <td> 15</td>\n",
        "    </tr>\n",
        "    <tr>\n",
        "      <th>12</th>\n",
        "      <td>                Idaho</td>\n",
        "      <td>  1567582</td>\n",
        "      <td> 16</td>\n",
        "    </tr>\n",
        "    <tr>\n",
        "      <th>13</th>\n",
        "      <td>             Illinois</td>\n",
        "      <td> 12830632</td>\n",
        "      <td> 17</td>\n",
        "    </tr>\n",
        "    <tr>\n",
        "      <th>14</th>\n",
        "      <td>              Indiana</td>\n",
        "      <td>  6483802</td>\n",
        "      <td> 18</td>\n",
        "    </tr>\n",
        "    <tr>\n",
        "      <th>15</th>\n",
        "      <td>                 Iowa</td>\n",
        "      <td>  3046355</td>\n",
        "      <td> 19</td>\n",
        "    </tr>\n",
        "    <tr>\n",
        "      <th>16</th>\n",
        "      <td>               Kansas</td>\n",
        "      <td>  2853118</td>\n",
        "      <td> 20</td>\n",
        "    </tr>\n",
        "    <tr>\n",
        "      <th>17</th>\n",
        "      <td>             Kentucky</td>\n",
        "      <td>  4339367</td>\n",
        "      <td> 21</td>\n",
        "    </tr>\n",
        "    <tr>\n",
        "      <th>18</th>\n",
        "      <td>            Louisiana</td>\n",
        "      <td>  4533372</td>\n",
        "      <td> 22</td>\n",
        "    </tr>\n",
        "    <tr>\n",
        "      <th>19</th>\n",
        "      <td>                Maine</td>\n",
        "      <td>  1328361</td>\n",
        "      <td> 23</td>\n",
        "    </tr>\n",
        "    <tr>\n",
        "      <th>20</th>\n",
        "      <td>             Maryland</td>\n",
        "      <td>  5773552</td>\n",
        "      <td> 24</td>\n",
        "    </tr>\n",
        "    <tr>\n",
        "      <th>21</th>\n",
        "      <td>        Massachusetts</td>\n",
        "      <td>  6547629</td>\n",
        "      <td> 25</td>\n",
        "    </tr>\n",
        "    <tr>\n",
        "      <th>22</th>\n",
        "      <td>             Michigan</td>\n",
        "      <td>  9883640</td>\n",
        "      <td> 26</td>\n",
        "    </tr>\n",
        "    <tr>\n",
        "      <th>23</th>\n",
        "      <td>            Minnesota</td>\n",
        "      <td>  5303925</td>\n",
        "      <td> 27</td>\n",
        "    </tr>\n",
        "    <tr>\n",
        "      <th>24</th>\n",
        "      <td>          Mississippi</td>\n",
        "      <td>  2967297</td>\n",
        "      <td> 28</td>\n",
        "    </tr>\n",
        "    <tr>\n",
        "      <th>25</th>\n",
        "      <td>             Missouri</td>\n",
        "      <td>  5988927</td>\n",
        "      <td> 29</td>\n",
        "    </tr>\n",
        "    <tr>\n",
        "      <th>26</th>\n",
        "      <td>              Montana</td>\n",
        "      <td>   989415</td>\n",
        "      <td> 30</td>\n",
        "    </tr>\n",
        "    <tr>\n",
        "      <th>27</th>\n",
        "      <td>             Nebraska</td>\n",
        "      <td>  1826341</td>\n",
        "      <td> 31</td>\n",
        "    </tr>\n",
        "    <tr>\n",
        "      <th>28</th>\n",
        "      <td>               Nevada</td>\n",
        "      <td>  2700551</td>\n",
        "      <td> 32</td>\n",
        "    </tr>\n",
        "    <tr>\n",
        "      <th>29</th>\n",
        "      <td>        New Hampshire</td>\n",
        "      <td>  1316470</td>\n",
        "      <td> 33</td>\n",
        "    </tr>\n",
        "    <tr>\n",
        "      <th>30</th>\n",
        "      <td>           New Jersey</td>\n",
        "      <td>  8791894</td>\n",
        "      <td> 34</td>\n",
        "    </tr>\n",
        "    <tr>\n",
        "      <th>31</th>\n",
        "      <td>           New Mexico</td>\n",
        "      <td>  2059179</td>\n",
        "      <td> 35</td>\n",
        "    </tr>\n",
        "    <tr>\n",
        "      <th>32</th>\n",
        "      <td>             New York</td>\n",
        "      <td> 19378102</td>\n",
        "      <td> 36</td>\n",
        "    </tr>\n",
        "    <tr>\n",
        "      <th>33</th>\n",
        "      <td>       North Carolina</td>\n",
        "      <td>  9535483</td>\n",
        "      <td> 37</td>\n",
        "    </tr>\n",
        "    <tr>\n",
        "      <th>34</th>\n",
        "      <td>         North Dakota</td>\n",
        "      <td>   672591</td>\n",
        "      <td> 38</td>\n",
        "    </tr>\n",
        "    <tr>\n",
        "      <th>35</th>\n",
        "      <td>                 Ohio</td>\n",
        "      <td> 11536504</td>\n",
        "      <td> 39</td>\n",
        "    </tr>\n",
        "    <tr>\n",
        "      <th>36</th>\n",
        "      <td>             Oklahoma</td>\n",
        "      <td>  3751351</td>\n",
        "      <td> 40</td>\n",
        "    </tr>\n",
        "    <tr>\n",
        "      <th>37</th>\n",
        "      <td>               Oregon</td>\n",
        "      <td>  3831074</td>\n",
        "      <td> 41</td>\n",
        "    </tr>\n",
        "    <tr>\n",
        "      <th>38</th>\n",
        "      <td>         Pennsylvania</td>\n",
        "      <td> 12702379</td>\n",
        "      <td> 42</td>\n",
        "    </tr>\n",
        "    <tr>\n",
        "      <th>39</th>\n",
        "      <td>         Rhode Island</td>\n",
        "      <td>  1052567</td>\n",
        "      <td> 44</td>\n",
        "    </tr>\n",
        "    <tr>\n",
        "      <th>40</th>\n",
        "      <td>       South Carolina</td>\n",
        "      <td>  4625364</td>\n",
        "      <td> 45</td>\n",
        "    </tr>\n",
        "    <tr>\n",
        "      <th>41</th>\n",
        "      <td>         South Dakota</td>\n",
        "      <td>   814180</td>\n",
        "      <td> 46</td>\n",
        "    </tr>\n",
        "    <tr>\n",
        "      <th>42</th>\n",
        "      <td>            Tennessee</td>\n",
        "      <td>  6346105</td>\n",
        "      <td> 47</td>\n",
        "    </tr>\n",
        "    <tr>\n",
        "      <th>43</th>\n",
        "      <td>                Texas</td>\n",
        "      <td> 25145561</td>\n",
        "      <td> 48</td>\n",
        "    </tr>\n",
        "    <tr>\n",
        "      <th>44</th>\n",
        "      <td>                 Utah</td>\n",
        "      <td>  2763885</td>\n",
        "      <td> 49</td>\n",
        "    </tr>\n",
        "    <tr>\n",
        "      <th>45</th>\n",
        "      <td>              Vermont</td>\n",
        "      <td>   625741</td>\n",
        "      <td> 50</td>\n",
        "    </tr>\n",
        "    <tr>\n",
        "      <th>46</th>\n",
        "      <td>             Virginia</td>\n",
        "      <td>  8001024</td>\n",
        "      <td> 51</td>\n",
        "    </tr>\n",
        "    <tr>\n",
        "      <th>47</th>\n",
        "      <td>           Washington</td>\n",
        "      <td>  6724540</td>\n",
        "      <td> 53</td>\n",
        "    </tr>\n",
        "    <tr>\n",
        "      <th>48</th>\n",
        "      <td>        West Virginia</td>\n",
        "      <td>  1852994</td>\n",
        "      <td> 54</td>\n",
        "    </tr>\n",
        "    <tr>\n",
        "      <th>49</th>\n",
        "      <td>            Wisconsin</td>\n",
        "      <td>  5686986</td>\n",
        "      <td> 55</td>\n",
        "    </tr>\n",
        "    <tr>\n",
        "      <th>50</th>\n",
        "      <td>              Wyoming</td>\n",
        "      <td>   563626</td>\n",
        "      <td> 56</td>\n",
        "    </tr>\n",
        "  </tbody>\n",
        "</table>\n",
        "<p>51 rows \u00d7 3 columns</p>\n",
        "</div>"
       ],
       "metadata": {},
       "output_type": "pyout",
       "prompt_number": 91,
       "text": [
        "                    NAME  P0010001 state\n",
        "0                Alabama   4779736    01\n",
        "1                 Alaska    710231    02\n",
        "2                Arizona   6392017    04\n",
        "3               Arkansas   2915918    05\n",
        "4             California  37253956    06\n",
        "5               Colorado   5029196    08\n",
        "6            Connecticut   3574097    09\n",
        "7               Delaware    897934    10\n",
        "8   District of Columbia    601723    11\n",
        "9                Florida  18801310    12\n",
        "10               Georgia   9687653    13\n",
        "11                Hawaii   1360301    15\n",
        "12                 Idaho   1567582    16\n",
        "13              Illinois  12830632    17\n",
        "14               Indiana   6483802    18\n",
        "15                  Iowa   3046355    19\n",
        "16                Kansas   2853118    20\n",
        "17              Kentucky   4339367    21\n",
        "18             Louisiana   4533372    22\n",
        "19                 Maine   1328361    23\n",
        "20              Maryland   5773552    24\n",
        "21         Massachusetts   6547629    25\n",
        "22              Michigan   9883640    26\n",
        "23             Minnesota   5303925    27\n",
        "24           Mississippi   2967297    28\n",
        "25              Missouri   5988927    29\n",
        "26               Montana    989415    30\n",
        "27              Nebraska   1826341    31\n",
        "28                Nevada   2700551    32\n",
        "29         New Hampshire   1316470    33\n",
        "30            New Jersey   8791894    34\n",
        "31            New Mexico   2059179    35\n",
        "32              New York  19378102    36\n",
        "33        North Carolina   9535483    37\n",
        "34          North Dakota    672591    38\n",
        "35                  Ohio  11536504    39\n",
        "36              Oklahoma   3751351    40\n",
        "37                Oregon   3831074    41\n",
        "38          Pennsylvania  12702379    42\n",
        "39          Rhode Island   1052567    44\n",
        "40        South Carolina   4625364    45\n",
        "41          South Dakota    814180    46\n",
        "42             Tennessee   6346105    47\n",
        "43                 Texas  25145561    48\n",
        "44                  Utah   2763885    49\n",
        "45               Vermont    625741    50\n",
        "46              Virginia   8001024    51\n",
        "47            Washington   6724540    53\n",
        "48         West Virginia   1852994    54\n",
        "49             Wisconsin   5686986    55\n",
        "50               Wyoming    563626    56\n",
        "\n",
        "[51 rows x 3 columns]"
       ]
      }
     ],
     "prompt_number": 91
    }
   ],
   "metadata": {}
  }
 ]
}