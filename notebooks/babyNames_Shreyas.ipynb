{
 "metadata": {
  "name": ""
 },
 "nbformat": 3,
 "nbformat_minor": 0,
 "worksheets": [
  {
   "cells": [
    {
     "cell_type": "code",
     "collapsed": false,
     "input": [
      "%pylab --no-import-all inline"
     ],
     "language": "python",
     "metadata": {},
     "outputs": [
      {
       "output_type": "stream",
       "stream": "stdout",
       "text": [
        "Populating the interactive namespace from numpy and matplotlib\n"
       ]
      }
     ],
     "prompt_number": 1
    },
    {
     "cell_type": "heading",
     "level": 2,
     "metadata": {},
     "source": [
      "Library Load"
     ]
    },
    {
     "cell_type": "code",
     "collapsed": false,
     "input": [
      "import os\n",
      "\n",
      "\n",
      "# NAMES_DIR = os.path.join(os.pardir, \"pydata-book\", \"ch02\", \"names\")\n",
      "my_path = '/Users/shreyas/Documents/_Berkeley/sem4/i290TOpenData/'\n",
      "NAMES_DIR = os.path.join(my_path, \"pydata-book\", \"ch02\", \"names\")\n",
      "\n",
      "assert os.path.exists(NAMES_DIR)"
     ],
     "language": "python",
     "metadata": {},
     "outputs": [],
     "prompt_number": 2
    },
    {
     "cell_type": "code",
     "collapsed": false,
     "input": [
      "import matplotlib.pyplot as plt\n",
      "import numpy as np\n",
      "\n",
      "from pylab import figure, show\n",
      "\n",
      "from pandas import DataFrame, Series\n",
      "import pandas as pd\n",
      "import seaborn as sns"
     ],
     "language": "python",
     "metadata": {},
     "outputs": [],
     "prompt_number": 3
    },
    {
     "cell_type": "heading",
     "level": 2,
     "metadata": {},
     "source": [
      "Data Load"
     ]
    },
    {
     "cell_type": "code",
     "collapsed": false,
     "input": [
      "# borrowed from the Raymond notebook\n",
      "\n",
      "# 2010 is the last available year in the pydata-book repo\n",
      "import os\n",
      "\n",
      "years = range(1880, 2011)\n",
      "\n",
      "pieces = []\n",
      "columns = ['name', 'sex', 'births']\n",
      "\n",
      "for year in years:\n",
      "    path = os.path.join(NAMES_DIR, 'yob%d.txt' % year)\n",
      "    frame = pd.read_csv(path, names=columns)\n",
      "\n",
      "    frame['year'] = year\n",
      "    pieces.append(frame)\n",
      "\n",
      "# Concatenate everything into a single DataFrame\n",
      "names = pd.concat(pieces, ignore_index=True)\n"
     ],
     "language": "python",
     "metadata": {},
     "outputs": [],
     "prompt_number": 4
    },
    {
     "cell_type": "code",
     "collapsed": false,
     "input": [
      "names.count()"
     ],
     "language": "python",
     "metadata": {},
     "outputs": [
      {
       "metadata": {},
       "output_type": "pyout",
       "prompt_number": 5,
       "text": [
        "name      1690784\n",
        "sex       1690784\n",
        "births    1690784\n",
        "year      1690784\n",
        "dtype: int64"
       ]
      }
     ],
     "prompt_number": 5
    },
    {
     "cell_type": "code",
     "collapsed": false,
     "input": [
      "names.head()"
     ],
     "language": "python",
     "metadata": {},
     "outputs": [
      {
       "html": [
        "<div style=\"max-height:1000px;max-width:1500px;overflow:auto;\">\n",
        "<table border=\"1\" class=\"dataframe\">\n",
        "  <thead>\n",
        "    <tr style=\"text-align: right;\">\n",
        "      <th></th>\n",
        "      <th>name</th>\n",
        "      <th>sex</th>\n",
        "      <th>births</th>\n",
        "      <th>year</th>\n",
        "    </tr>\n",
        "  </thead>\n",
        "  <tbody>\n",
        "    <tr>\n",
        "      <th>0</th>\n",
        "      <td>      Mary</td>\n",
        "      <td> F</td>\n",
        "      <td> 7065</td>\n",
        "      <td> 1880</td>\n",
        "    </tr>\n",
        "    <tr>\n",
        "      <th>1</th>\n",
        "      <td>      Anna</td>\n",
        "      <td> F</td>\n",
        "      <td> 2604</td>\n",
        "      <td> 1880</td>\n",
        "    </tr>\n",
        "    <tr>\n",
        "      <th>2</th>\n",
        "      <td>      Emma</td>\n",
        "      <td> F</td>\n",
        "      <td> 2003</td>\n",
        "      <td> 1880</td>\n",
        "    </tr>\n",
        "    <tr>\n",
        "      <th>3</th>\n",
        "      <td> Elizabeth</td>\n",
        "      <td> F</td>\n",
        "      <td> 1939</td>\n",
        "      <td> 1880</td>\n",
        "    </tr>\n",
        "    <tr>\n",
        "      <th>4</th>\n",
        "      <td>    Minnie</td>\n",
        "      <td> F</td>\n",
        "      <td> 1746</td>\n",
        "      <td> 1880</td>\n",
        "    </tr>\n",
        "  </tbody>\n",
        "</table>\n",
        "<p>5 rows \u00d7 4 columns</p>\n",
        "</div>"
       ],
       "metadata": {},
       "output_type": "pyout",
       "prompt_number": 6,
       "text": [
        "        name sex  births  year\n",
        "0       Mary   F    7065  1880\n",
        "1       Anna   F    2604  1880\n",
        "2       Emma   F    2003  1880\n",
        "3  Elizabeth   F    1939  1880\n",
        "4     Minnie   F    1746  1880\n",
        "\n",
        "[5 rows x 4 columns]"
       ]
      }
     ],
     "prompt_number": 6
    },
    {
     "cell_type": "code",
     "collapsed": false,
     "input": [
      "names.describe()"
     ],
     "language": "python",
     "metadata": {},
     "outputs": [
      {
       "html": [
        "<div style=\"max-height:1000px;max-width:1500px;overflow:auto;\">\n",
        "<table border=\"1\" class=\"dataframe\">\n",
        "  <thead>\n",
        "    <tr style=\"text-align: right;\">\n",
        "      <th></th>\n",
        "      <th>births</th>\n",
        "      <th>year</th>\n",
        "    </tr>\n",
        "  </thead>\n",
        "  <tbody>\n",
        "    <tr>\n",
        "      <th>count</th>\n",
        "      <td> 1690784.000000</td>\n",
        "      <td> 1690784.000000</td>\n",
        "    </tr>\n",
        "    <tr>\n",
        "      <th>mean</th>\n",
        "      <td>     190.682386</td>\n",
        "      <td>    1969.454384</td>\n",
        "    </tr>\n",
        "    <tr>\n",
        "      <th>std</th>\n",
        "      <td>    1615.899711</td>\n",
        "      <td>      32.823526</td>\n",
        "    </tr>\n",
        "    <tr>\n",
        "      <th>min</th>\n",
        "      <td>       5.000000</td>\n",
        "      <td>    1880.000000</td>\n",
        "    </tr>\n",
        "    <tr>\n",
        "      <th>25%</th>\n",
        "      <td>       7.000000</td>\n",
        "      <td>    1946.000000</td>\n",
        "    </tr>\n",
        "    <tr>\n",
        "      <th>50%</th>\n",
        "      <td>      12.000000</td>\n",
        "      <td>    1979.000000</td>\n",
        "    </tr>\n",
        "    <tr>\n",
        "      <th>75%</th>\n",
        "      <td>      32.000000</td>\n",
        "      <td>    1997.000000</td>\n",
        "    </tr>\n",
        "    <tr>\n",
        "      <th>max</th>\n",
        "      <td>   99651.000000</td>\n",
        "      <td>    2010.000000</td>\n",
        "    </tr>\n",
        "  </tbody>\n",
        "</table>\n",
        "<p>8 rows \u00d7 2 columns</p>\n",
        "</div>"
       ],
       "metadata": {},
       "output_type": "pyout",
       "prompt_number": 7,
       "text": [
        "               births            year\n",
        "count  1690784.000000  1690784.000000\n",
        "mean       190.682386     1969.454384\n",
        "std       1615.899711       32.823526\n",
        "min          5.000000     1880.000000\n",
        "25%          7.000000     1946.000000\n",
        "50%         12.000000     1979.000000\n",
        "75%         32.000000     1997.000000\n",
        "max      99651.000000     2010.000000\n",
        "\n",
        "[8 rows x 2 columns]"
       ]
      }
     ],
     "prompt_number": 7
    },
    {
     "cell_type": "heading",
     "level": 2,
     "metadata": {},
     "source": [
      "Feature Extraction"
     ]
    },
    {
     "cell_type": "markdown",
     "metadata": {},
     "source": [
      "I intend to extract the following features from the name attribute:\n",
      "\n",
      "- first character\n",
      "- last character\n",
      "- name length\n",
      "- num of vowels\n",
      "\n",
      "And then do some classification and clustering analysis on them"
     ]
    },
    {
     "cell_type": "code",
     "collapsed": false,
     "input": [
      "vowels = ['a', 'e', 'i', 'o', 'u']    \n",
      "\n",
      "names['firstChar'] = names['name'].map(lambda n: n.lower()[0]).astype(str)\n",
      "names['lastChar'] = names['name'].map(lambda n: n.lower()[-1]).astype(str)\n",
      "names['nameLen'] = names['name'].map(lambda n: len(n)).astype(int)\n",
      "names['numVowel'] = names['name'].map(lambda n: sum([n.lower().count(v) for v in vowels])).astype(int)"
     ],
     "language": "python",
     "metadata": {},
     "outputs": [],
     "prompt_number": 8
    },
    {
     "cell_type": "code",
     "collapsed": false,
     "input": [
      "names.head()"
     ],
     "language": "python",
     "metadata": {},
     "outputs": [
      {
       "html": [
        "<div style=\"max-height:1000px;max-width:1500px;overflow:auto;\">\n",
        "<table border=\"1\" class=\"dataframe\">\n",
        "  <thead>\n",
        "    <tr style=\"text-align: right;\">\n",
        "      <th></th>\n",
        "      <th>name</th>\n",
        "      <th>sex</th>\n",
        "      <th>births</th>\n",
        "      <th>year</th>\n",
        "      <th>firstChar</th>\n",
        "      <th>lastChar</th>\n",
        "      <th>nameLen</th>\n",
        "      <th>numVowel</th>\n",
        "    </tr>\n",
        "  </thead>\n",
        "  <tbody>\n",
        "    <tr>\n",
        "      <th>0</th>\n",
        "      <td>      Mary</td>\n",
        "      <td> F</td>\n",
        "      <td> 7065</td>\n",
        "      <td> 1880</td>\n",
        "      <td> m</td>\n",
        "      <td> y</td>\n",
        "      <td> 4</td>\n",
        "      <td> 1</td>\n",
        "    </tr>\n",
        "    <tr>\n",
        "      <th>1</th>\n",
        "      <td>      Anna</td>\n",
        "      <td> F</td>\n",
        "      <td> 2604</td>\n",
        "      <td> 1880</td>\n",
        "      <td> a</td>\n",
        "      <td> a</td>\n",
        "      <td> 4</td>\n",
        "      <td> 2</td>\n",
        "    </tr>\n",
        "    <tr>\n",
        "      <th>2</th>\n",
        "      <td>      Emma</td>\n",
        "      <td> F</td>\n",
        "      <td> 2003</td>\n",
        "      <td> 1880</td>\n",
        "      <td> e</td>\n",
        "      <td> a</td>\n",
        "      <td> 4</td>\n",
        "      <td> 2</td>\n",
        "    </tr>\n",
        "    <tr>\n",
        "      <th>3</th>\n",
        "      <td> Elizabeth</td>\n",
        "      <td> F</td>\n",
        "      <td> 1939</td>\n",
        "      <td> 1880</td>\n",
        "      <td> e</td>\n",
        "      <td> h</td>\n",
        "      <td> 9</td>\n",
        "      <td> 4</td>\n",
        "    </tr>\n",
        "    <tr>\n",
        "      <th>4</th>\n",
        "      <td>    Minnie</td>\n",
        "      <td> F</td>\n",
        "      <td> 1746</td>\n",
        "      <td> 1880</td>\n",
        "      <td> m</td>\n",
        "      <td> e</td>\n",
        "      <td> 6</td>\n",
        "      <td> 3</td>\n",
        "    </tr>\n",
        "  </tbody>\n",
        "</table>\n",
        "<p>5 rows \u00d7 8 columns</p>\n",
        "</div>"
       ],
       "metadata": {},
       "output_type": "pyout",
       "prompt_number": 9,
       "text": [
        "        name sex  births  year firstChar lastChar  nameLen  numVowel\n",
        "0       Mary   F    7065  1880         m        y        4         1\n",
        "1       Anna   F    2604  1880         a        a        4         2\n",
        "2       Emma   F    2003  1880         e        a        4         2\n",
        "3  Elizabeth   F    1939  1880         e        h        9         4\n",
        "4     Minnie   F    1746  1880         m        e        6         3\n",
        "\n",
        "[5 rows x 8 columns]"
       ]
      }
     ],
     "prompt_number": 9
    },
    {
     "cell_type": "code",
     "collapsed": false,
     "input": [
      "names.tail()"
     ],
     "language": "python",
     "metadata": {},
     "outputs": [
      {
       "html": [
        "<div style=\"max-height:1000px;max-width:1500px;overflow:auto;\">\n",
        "<table border=\"1\" class=\"dataframe\">\n",
        "  <thead>\n",
        "    <tr style=\"text-align: right;\">\n",
        "      <th></th>\n",
        "      <th>name</th>\n",
        "      <th>sex</th>\n",
        "      <th>births</th>\n",
        "      <th>year</th>\n",
        "      <th>firstChar</th>\n",
        "      <th>lastChar</th>\n",
        "      <th>nameLen</th>\n",
        "      <th>numVowel</th>\n",
        "    </tr>\n",
        "  </thead>\n",
        "  <tbody>\n",
        "    <tr>\n",
        "      <th>1690779</th>\n",
        "      <td>   Zymaire</td>\n",
        "      <td> M</td>\n",
        "      <td> 5</td>\n",
        "      <td> 2010</td>\n",
        "      <td> z</td>\n",
        "      <td> e</td>\n",
        "      <td> 7</td>\n",
        "      <td> 3</td>\n",
        "    </tr>\n",
        "    <tr>\n",
        "      <th>1690780</th>\n",
        "      <td>    Zyonne</td>\n",
        "      <td> M</td>\n",
        "      <td> 5</td>\n",
        "      <td> 2010</td>\n",
        "      <td> z</td>\n",
        "      <td> e</td>\n",
        "      <td> 6</td>\n",
        "      <td> 2</td>\n",
        "    </tr>\n",
        "    <tr>\n",
        "      <th>1690781</th>\n",
        "      <td> Zyquarius</td>\n",
        "      <td> M</td>\n",
        "      <td> 5</td>\n",
        "      <td> 2010</td>\n",
        "      <td> z</td>\n",
        "      <td> s</td>\n",
        "      <td> 9</td>\n",
        "      <td> 4</td>\n",
        "    </tr>\n",
        "    <tr>\n",
        "      <th>1690782</th>\n",
        "      <td>     Zyran</td>\n",
        "      <td> M</td>\n",
        "      <td> 5</td>\n",
        "      <td> 2010</td>\n",
        "      <td> z</td>\n",
        "      <td> n</td>\n",
        "      <td> 5</td>\n",
        "      <td> 1</td>\n",
        "    </tr>\n",
        "    <tr>\n",
        "      <th>1690783</th>\n",
        "      <td>     Zzyzx</td>\n",
        "      <td> M</td>\n",
        "      <td> 5</td>\n",
        "      <td> 2010</td>\n",
        "      <td> z</td>\n",
        "      <td> x</td>\n",
        "      <td> 5</td>\n",
        "      <td> 0</td>\n",
        "    </tr>\n",
        "  </tbody>\n",
        "</table>\n",
        "<p>5 rows \u00d7 8 columns</p>\n",
        "</div>"
       ],
       "metadata": {},
       "output_type": "pyout",
       "prompt_number": 10,
       "text": [
        "              name sex  births  year firstChar lastChar  nameLen  numVowel\n",
        "1690779    Zymaire   M       5  2010         z        e        7         3\n",
        "1690780     Zyonne   M       5  2010         z        e        6         2\n",
        "1690781  Zyquarius   M       5  2010         z        s        9         4\n",
        "1690782      Zyran   M       5  2010         z        n        5         1\n",
        "1690783      Zzyzx   M       5  2010         z        x        5         0\n",
        "\n",
        "[5 rows x 8 columns]"
       ]
      }
     ],
     "prompt_number": 10
    },
    {
     "cell_type": "code",
     "collapsed": false,
     "input": [],
     "language": "python",
     "metadata": {},
     "outputs": []
    },
    {
     "cell_type": "heading",
     "level": 2,
     "metadata": {},
     "source": [
      "Exploring Feature Relationships"
     ]
    },
    {
     "cell_type": "markdown",
     "metadata": {},
     "source": [
      "Since I would like to use the features to understand their relationship with the __gender__ of the person, following is my exploration of features with respect "
     ]
    },
    {
     "cell_type": "code",
     "collapsed": false,
     "input": [
      "names['nameLen'].plot()"
     ],
     "language": "python",
     "metadata": {},
     "outputs": [
      {
       "metadata": {},
       "output_type": "pyout",
       "prompt_number": 11,
       "text": [
        "<matplotlib.axes.AxesSubplot at 0x116868150>"
       ]
      },
      {
       "metadata": {},
       "output_type": "display_data",
       "png": "[encoded data removed]",
       "text": [
        "<matplotlib.figure.Figure at 0x116868810>"
       ]
      }
     ],
     "prompt_number": 11
    },
    {
     "cell_type": "code",
     "collapsed": false,
     "input": [
      "from time import time\n",
      "\n",
      "import numpy as np\n",
      "import pylab as pl\n",
      "from matplotlib import offsetbox\n",
      "from sklearn import (manifold, datasets, decomposition, ensemble, lda,\n",
      "                     random_projection)"
     ],
     "language": "python",
     "metadata": {},
     "outputs": [],
     "prompt_number": 13
    },
    {
     "cell_type": "code",
     "collapsed": false,
     "input": [
      "\"\"\"\n",
      "# shuffle the dataframe\n",
      "# work out the algo in a smaller dataframe\n",
      "\"\"\"\n",
      "\n",
      "names_shuffled = names.reindex(np.random.permutation(names.index))\n",
      "\n",
      "#names_small = names_shuffled.head(100) #sampling just 100 rows\n",
      "\n",
      "names_small = names\n",
      "\n",
      "names_small = names_small.drop('births', 1) # dropping the births column\n",
      "names_small = names_small.drop('year', 1) # dropping the year column\n",
      "names_small = names_small.drop('name', 1) # dropping the name variable\n",
      "\n"
     ],
     "language": "python",
     "metadata": {},
     "outputs": [],
     "prompt_number": 69
    },
    {
     "cell_type": "code",
     "collapsed": false,
     "input": [
      "\"\"\"\n",
      "# Assigning labels and features\n",
      "\"\"\"\n",
      "Y =names_small['sex']\n",
      "features = names_small.drop('sex', 1)\n",
      "\n",
      "\n",
      "n_samples, n_features = features.shape\n",
      "n_neighbors = 10"
     ],
     "language": "python",
     "metadata": {},
     "outputs": [],
     "prompt_number": 70
    },
    {
     "cell_type": "code",
     "collapsed": false,
     "input": [
      "\"\"\"\n",
      "# convert from pandas dataframe to numpy vector for scikit-learn\n",
      "\n",
      "# refer: https://github.com/paulgb/sklearn-pandas\n",
      "\"\"\"\n",
      "import sklearn\n",
      "from sklearn_pandas import DataFrameMapper, cross_val_score\n",
      "\n",
      "mapper = DataFrameMapper([\n",
      "                          ('firstChar', sklearn.preprocessing.LabelBinarizer()),\n",
      "                          ('lastChar', sklearn.preprocessing.LabelBinarizer()),\n",
      "                          ('nameLen', sklearn.preprocessing.StandardScaler()),\n",
      "                          ('numVowel',sklearn.preprocessing.StandardScaler())\n",
      "                          ])"
     ],
     "language": "python",
     "metadata": {},
     "outputs": [],
     "prompt_number": 71
    },
    {
     "cell_type": "code",
     "collapsed": false,
     "input": [
      "X = features\n",
      "\n",
      "# i was running into weird string errors. No time to fix.\n",
      "X = X.drop('firstChar', 1)\n",
      "X = X.drop('lastChar', 1)\n",
      "\n",
      "\n",
      "X.shape[0]"
     ],
     "language": "python",
     "metadata": {},
     "outputs": [
      {
       "metadata": {},
       "output_type": "pyout",
       "prompt_number": 73,
       "text": [
        "1690784"
       ]
      }
     ],
     "prompt_number": 73
    },
    {
     "cell_type": "code",
     "collapsed": false,
     "input": [
      "# MDS clustering based on the following code:\n",
      "# http://scikit-learn.org/stable/auto_examples/manifold/plot_lle_digits.html#example-manifold-plot-lle-digits-py\n",
      "def plot_embedding(X, title=None):\n",
      "#     x_min, x_max = np.min(X, 0), np.max(X, 0)\n",
      "#     X = (X - x_min) / (x_max - x_min)\n",
      "\n",
      "    pl.figure()\n",
      "    ax = pl.subplot(111)\n",
      "    for i in range(X.shape[0]):\n",
      "        pl.text(X[i,0], X[i,1], Y.ix[i],\n",
      "#                 color=pl.cm.Set1(y[i] / 10.),\n",
      "                fontdict={'weight': 'bold', 'size': 9})\n",
      "\n",
      "    if hasattr(offsetbox, 'AnnotationBbox'):\n",
      "        # only print thumbnails with matplotlib > 1.0\n",
      "        shown_images = np.array([[1., 1.]])  # just something big\n",
      "        for i in range(X.shape[0]):\n",
      "            dist = np.sum((X[i] - shown_images) ** 2, 1)\n",
      "            if np.min(dist) < 4e-3:\n",
      "                # don't show points that are too close\n",
      "                continue\n",
      "            shown_images = np.r_[shown_images, [X[i]]]\n",
      "#             imagebox = offsetbox.AnnotationBbox(\n",
      "#                 offsetbox.OffsetImage(digits.images[i], cmap=pl.cm.gray_r),\n",
      "#                 X[i])\n",
      "#             ax.add_artist(imagebox)\n",
      "    pl.xticks([]), pl.yticks([])\n",
      "    pl.title(title)\n"
     ],
     "language": "python",
     "metadata": {},
     "outputs": [],
     "prompt_number": 74
    },
    {
     "cell_type": "code",
     "collapsed": false,
     "input": [
      "# MDS  embedding of the digits dataset\n",
      "print(\"Computing MDS embedding\")\n",
      "clf = manifold.MDS(n_components=2, n_init=1, max_iter=100)\n",
      "t0 = time()\n",
      "X_mds = clf.fit_transform(X)\n",
      "print(\"Done. Stress: %f\" % clf.stress_)\n",
      "plot_embedding(X_mds,\n",
      "               \"MDS embedding of the digits (time %.2fs)\" %\n",
      "               (time() - t0))"
     ],
     "language": "python",
     "metadata": {},
     "outputs": [],
     "prompt_number": "*"
    },
    {
     "cell_type": "code",
     "collapsed": false,
     "input": [],
     "language": "python",
     "metadata": {},
     "outputs": []
    }
   ],
   "metadata": {}
  }
 ]
}