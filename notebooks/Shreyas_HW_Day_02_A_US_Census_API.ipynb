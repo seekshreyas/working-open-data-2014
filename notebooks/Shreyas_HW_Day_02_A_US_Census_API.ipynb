{
 "metadata": {
  "name": ""
 },
 "nbformat": 3,
 "nbformat_minor": 0,
 "worksheets": [
  {
   "cells": [
    {
     "cell_type": "heading",
     "level": 1,
     "metadata": {},
     "source": [
      "Goal"
     ]
    },
    {
     "cell_type": "markdown",
     "metadata": {},
     "source": [
      "Let's get set up to use the US Census API:\n",
      "\n",
      "    http://www.census.gov/developers/"
     ]
    },
    {
     "cell_type": "markdown",
     "metadata": {},
     "source": [
      "Things we'd like to be able to do:\n",
      "\n",
      "* calculate the population of California.\n",
      "* then calculate the population of every geographic entity going down to census block if possible.\n",
      "* for a given geographic unit, can we get the racial/ethnic breakdown?\n",
      "\n",
      "It's useful to make ties to the county-type calculation we do with the downloaded census files."
     ]
    },
    {
     "cell_type": "heading",
     "level": 1,
     "metadata": {},
     "source": [
      "Installing census, a useful Python module"
     ]
    },
    {
     "cell_type": "markdown",
     "metadata": {},
     "source": [
      "Dependency: to start with -- let's use the Python module: https://pypi.python.org/pypi/census/\n",
      "\n",
      "    pip install -U  census"
     ]
    },
    {
     "cell_type": "heading",
     "level": 1,
     "metadata": {},
     "source": [
      "Getting and activating an API key"
     ]
    },
    {
     "cell_type": "markdown",
     "metadata": {},
     "source": [
      "To use the census API, you will need an API key\n",
      "\n",
      "* fill out form at http://www.census.gov/developers/tos/key_request.html \n",
      "\n",
      "\"Your request for a new API key has been successfully submitted. Please check your email. In a few minutes you should receive a message with instructions on how to activate your new key.\"\n",
      "\n",
      "* click on link you'll get a link of the form http://api.census.gov/data/KeySignup?validate={key} -- where {key} is the one the Census Bureau will send you.\n",
      "\n",
      "Then create a settings.py in the same directory as this notebook (or somewhere else in your Python path) to hold `settings.CENSUS_KEY`.  (I prefer this approach over directly exposing your API key in the notebook code.)"
     ]
    },
    {
     "cell_type": "code",
     "collapsed": false,
     "input": [
      "# This cell should run successfully if you have a string set up to represent your census key\n",
      "\n",
      "try:\n",
      "    import settings\n",
      "    assert type(settings.CENSUS_KEY) == str or type(settings.CENSUS_KEY) == unicode\n",
      "except Exception as e:\n",
      "    print \"error in importing settings to get at settings.CENSUS_KEY\", e"
     ],
     "language": "python",
     "metadata": {},
     "outputs": [],
     "prompt_number": 15
    },
    {
     "cell_type": "heading",
     "level": 1,
     "metadata": {},
     "source": [
      "us.states module"
     ]
    },
    {
     "cell_type": "code",
     "collapsed": false,
     "input": [
      "# let's figure out a bit about the us module, in particular, us.states\n",
      "# https://github.com/unitedstates/python-us\n",
      "\n",
      "from us import states\n",
      "assert states.CA.fips == u'06'"
     ],
     "language": "python",
     "metadata": {},
     "outputs": [],
     "prompt_number": 16
    },
    {
     "cell_type": "code",
     "collapsed": false,
     "input": [
      "# set up your census object\n",
      "# example from https://github.com/sunlightlabs/census\n",
      "\n",
      "from census import Census\n",
      "from us import states\n",
      "\n",
      "c = Census(settings.CENSUS_KEY)"
     ],
     "language": "python",
     "metadata": {},
     "outputs": [],
     "prompt_number": 17
    },
    {
     "cell_type": "code",
     "collapsed": false,
     "input": [
      "for (i, state) in enumerate(states.STATES):\n",
      "    print i, state.name, state.fips"
     ],
     "language": "python",
     "metadata": {},
     "outputs": [
      {
       "output_type": "stream",
       "stream": "stdout",
       "text": [
        "0 Alabama 01\n",
        "1 Alaska 02\n",
        "2 Arizona 04\n",
        "3 Arkansas 05\n",
        "4 California 06\n",
        "5 Colorado 08\n",
        "6 Connecticut 09\n",
        "7 Delaware 10\n",
        "8 District of Columbia 11\n",
        "9 Florida 12\n",
        "10 Georgia 13\n",
        "11 Hawaii 15\n",
        "12 Idaho 16\n",
        "13 Illinois 17\n",
        "14 Indiana 18\n",
        "15 Iowa 19\n",
        "16 Kansas 20\n",
        "17 Kentucky 21\n",
        "18 Louisiana 22\n",
        "19 Maine 23\n",
        "20 Maryland 24\n",
        "21 Massachusetts 25\n",
        "22 Michigan 26\n",
        "23 Minnesota 27\n",
        "24 Mississippi 28\n",
        "25 Missouri 29\n",
        "26 Montana 30\n",
        "27 Nebraska 31\n",
        "28 Nevada 32\n",
        "29 New Hampshire 33\n",
        "30 New Jersey 34\n",
        "31 New Mexico 35\n",
        "32 New York 36\n",
        "33 North Carolina 37\n",
        "34 North Dakota 38\n",
        "35 Ohio 39\n",
        "36 Oklahoma 40\n",
        "37 Oregon 41\n",
        "38 Pennsylvania 42\n",
        "39 Rhode Island 44\n",
        "40 South Carolina 45\n",
        "41 South Dakota 46\n",
        "42 Tennessee 47\n",
        "43 Texas 48\n",
        "44 Utah 49\n",
        "45 Vermont 50\n",
        "46 Virginia 51\n",
        "47 Washington 53\n",
        "48 West Virginia 54\n",
        "49 Wisconsin 55\n",
        "50 Wyoming 56\n"
       ]
      }
     ],
     "prompt_number": 18
    },
    {
     "cell_type": "heading",
     "level": 1,
     "metadata": {},
     "source": [
      "Formulating URL requests to the API explicitly"
     ]
    },
    {
     "cell_type": "code",
     "collapsed": false,
     "input": [
      "import requests"
     ],
     "language": "python",
     "metadata": {},
     "outputs": [],
     "prompt_number": 19
    },
    {
     "cell_type": "code",
     "collapsed": false,
     "input": [
      "# get the total population of all states\n",
      "url = \"http://api.census.gov/data/2010/sf1?key=06a410437fb8924d71e7c599531bcc39c7de52d9&get=P0010001,NAME&for=state:*\".format(key=settings.CENSUS_KEY)"
     ],
     "language": "python",
     "metadata": {},
     "outputs": [],
     "prompt_number": 20
    },
    {
     "cell_type": "code",
     "collapsed": false,
     "input": [
      "r = requests.get(url)\n",
      "\n",
      "data = r.text"
     ],
     "language": "python",
     "metadata": {},
     "outputs": [],
     "prompt_number": 21
    },
    {
     "cell_type": "heading",
     "level": 1,
     "metadata": {},
     "source": [
      "EXERCISE"
     ]
    },
    {
     "cell_type": "markdown",
     "metadata": {},
     "source": [
      "Show how to calculate the total population of the USA, including and excluding Puerto Rico.  (I don't know why Puerto Rico is included but not other [unincorporated territories](https://en.wikipedia.org/wiki/Unincorporated_territories_of_the_United_States)"
     ]
    },
    {
     "cell_type": "code",
     "collapsed": false,
     "input": [
      "# FILL IN WITH YOUR CODE\n",
      "data = r.json()\n",
      "\n",
      "population_with_pr = 0\n",
      "population_wo_pr = 0\n",
      "pr = 0\n",
      "\n",
      "for item in data:\n",
      "    if item[1] != \"NAME\":\n",
      "        population_with_pr += int(str(item[0]))\n",
      "        \n",
      "        if item[1] != \"Puerto Rico\":\n",
      "            population_wo_pr += int(str(item[0]))\n",
      "        else:\n",
      "            pr = int(str(item[0]))\n",
      "            \n",
      "\n",
      "print \"US Population with Puerto Rico: \\t %s\" % (population_with_pr)\n",
      "print \"US Population without Puerto Rico: \\t %s\" % (population_wo_pr)\n",
      "print \"-\" * 60\n",
      "print \"Validation\"\n",
      "print \"Puerto Rico = %s \\n Difference = %s\" % (pr , (population_with_pr - population_wo_pr)) \n",
      "print \"-\" * 60\n"
     ],
     "language": "python",
     "metadata": {},
     "outputs": [
      {
       "output_type": "stream",
       "stream": "stdout",
       "text": [
        "US Population with Puerto Rico: \t 312471327\n",
        "US Population without Puerto Rico: \t 308745538\n",
        "------------------------------------------------------------\n",
        "Validation\n",
        "Puerto Rico = 3725789 \n",
        " Difference = 3725789\n",
        "------------------------------------------------------------\n"
       ]
      }
     ],
     "prompt_number": 26
    },
    {
     "cell_type": "heading",
     "level": 1,
     "metadata": {},
     "source": [
      "Next Steps: Focusing on sf1 + census"
     ]
    },
    {
     "cell_type": "markdown",
     "metadata": {},
     "source": [
      "How to map out the geographical hierachy and pull out total population figures?\n",
      "\n",
      " 1. Nation\n",
      " 1. Regions\n",
      " 1. Divisions\n",
      " 1. State\n",
      " 1. County\n",
      " 1. Census Tract\n",
      " 1. Block Group\n",
      " 1. Census Block\n",
      " \n",
      "Questions\n",
      " \n",
      "* What identifiers are used for these various geographic entities?  \n",
      "* Can we get an enumeration of each of these entities?\n",
      "* How to figure out which census tract, block group, census block one is in?\n",
      " \n"
     ]
    },
    {
     "cell_type": "heading",
     "level": 2,
     "metadata": {},
     "source": [
      "Total Population of California"
     ]
    },
    {
     "cell_type": "markdown",
     "metadata": {},
     "source": [
      "[2010 Census Summary File 1](http://www.census.gov/prod/cen2010/doc/sf1.pdf)\n",
      "\n",
      "P0010001 is found in [2010 SF1 API Variables \\[XML\\]](http://www.census.gov/developers/data/sf1.xml) = \"total population\""
     ]
    },
    {
     "cell_type": "code",
     "collapsed": false,
     "input": [
      "c.sf1.get(('NAME', 'P0010001'), {'for': 'state:%s' % states.CA.fips})"
     ],
     "language": "python",
     "metadata": {},
     "outputs": [
      {
       "ename": "ValueError",
       "evalue": "No JSON object could be decoded",
       "output_type": "pyerr",
       "traceback": [
        "\u001b[0;31m---------------------------------------------------------------------------\u001b[0m\n\u001b[0;31mValueError\u001b[0m                                Traceback (most recent call last)",
        "\u001b[0;32m<ipython-input-31-bc3fd2b896a2>\u001b[0m in \u001b[0;36m<module>\u001b[0;34m()\u001b[0m\n\u001b[0;32m----> 1\u001b[0;31m \u001b[0mc\u001b[0m\u001b[0;34m.\u001b[0m\u001b[0msf1\u001b[0m\u001b[0;34m.\u001b[0m\u001b[0mget\u001b[0m\u001b[0;34m(\u001b[0m\u001b[0;34m(\u001b[0m\u001b[0;34m'NAME'\u001b[0m\u001b[0;34m,\u001b[0m \u001b[0;34m'P0010001'\u001b[0m\u001b[0;34m)\u001b[0m\u001b[0;34m,\u001b[0m \u001b[0;34m{\u001b[0m\u001b[0;34m'for'\u001b[0m\u001b[0;34m:\u001b[0m \u001b[0;34m'state:%s'\u001b[0m \u001b[0;34m%\u001b[0m \u001b[0mstates\u001b[0m\u001b[0;34m.\u001b[0m\u001b[0mCA\u001b[0m\u001b[0;34m.\u001b[0m\u001b[0mfips\u001b[0m\u001b[0;34m}\u001b[0m\u001b[0;34m)\u001b[0m\u001b[0;34m\u001b[0m\u001b[0m\n\u001b[0m",
        "\u001b[0;32m/Users/shreyas/anaconda/envs/opendata/lib/python2.7/site-packages/census/core.pyc\u001b[0m in \u001b[0;36mget\u001b[0;34m(self, fields, geo, year)\u001b[0m\n\u001b[1;32m    124\u001b[0m         \u001b[0;32mif\u001b[0m \u001b[0mresp\u001b[0m\u001b[0;34m.\u001b[0m\u001b[0mstatus_code\u001b[0m \u001b[0;34m==\u001b[0m \u001b[0;36m200\u001b[0m\u001b[0;34m:\u001b[0m\u001b[0;34m\u001b[0m\u001b[0m\n\u001b[1;32m    125\u001b[0m \u001b[0;34m\u001b[0m\u001b[0m\n\u001b[0;32m--> 126\u001b[0;31m             \u001b[0mdata\u001b[0m \u001b[0;34m=\u001b[0m \u001b[0mjson\u001b[0m\u001b[0;34m.\u001b[0m\u001b[0mloads\u001b[0m\u001b[0;34m(\u001b[0m\u001b[0mresp\u001b[0m\u001b[0;34m.\u001b[0m\u001b[0mtext\u001b[0m\u001b[0;34m)\u001b[0m\u001b[0;34m\u001b[0m\u001b[0m\n\u001b[0m\u001b[1;32m    127\u001b[0m \u001b[0;34m\u001b[0m\u001b[0m\n\u001b[1;32m    128\u001b[0m             \u001b[0mheaders\u001b[0m \u001b[0;34m=\u001b[0m \u001b[0mdata\u001b[0m\u001b[0;34m[\u001b[0m\u001b[0;36m0\u001b[0m\u001b[0;34m]\u001b[0m\u001b[0;34m\u001b[0m\u001b[0m\n",
        "\u001b[0;32m/Users/shreyas/anaconda/envs/opendata/python.app/Contents/lib/python2.7/json/__init__.pyc\u001b[0m in \u001b[0;36mloads\u001b[0;34m(s, encoding, cls, object_hook, parse_float, parse_int, parse_constant, object_pairs_hook, **kw)\u001b[0m\n\u001b[1;32m    336\u001b[0m             \u001b[0mparse_int\u001b[0m \u001b[0;32mis\u001b[0m \u001b[0mNone\u001b[0m \u001b[0;32mand\u001b[0m \u001b[0mparse_float\u001b[0m \u001b[0;32mis\u001b[0m \u001b[0mNone\u001b[0m \u001b[0;32mand\u001b[0m\u001b[0;34m\u001b[0m\u001b[0m\n\u001b[1;32m    337\u001b[0m             parse_constant is None and object_pairs_hook is None and not kw):\n\u001b[0;32m--> 338\u001b[0;31m         \u001b[0;32mreturn\u001b[0m \u001b[0m_default_decoder\u001b[0m\u001b[0;34m.\u001b[0m\u001b[0mdecode\u001b[0m\u001b[0;34m(\u001b[0m\u001b[0ms\u001b[0m\u001b[0;34m)\u001b[0m\u001b[0;34m\u001b[0m\u001b[0m\n\u001b[0m\u001b[1;32m    339\u001b[0m     \u001b[0;32mif\u001b[0m \u001b[0mcls\u001b[0m \u001b[0;32mis\u001b[0m \u001b[0mNone\u001b[0m\u001b[0;34m:\u001b[0m\u001b[0;34m\u001b[0m\u001b[0m\n\u001b[1;32m    340\u001b[0m         \u001b[0mcls\u001b[0m \u001b[0;34m=\u001b[0m \u001b[0mJSONDecoder\u001b[0m\u001b[0;34m\u001b[0m\u001b[0m\n",
        "\u001b[0;32m/Users/shreyas/anaconda/envs/opendata/python.app/Contents/lib/python2.7/json/decoder.pyc\u001b[0m in \u001b[0;36mdecode\u001b[0;34m(self, s, _w)\u001b[0m\n\u001b[1;32m    363\u001b[0m \u001b[0;34m\u001b[0m\u001b[0m\n\u001b[1;32m    364\u001b[0m         \"\"\"\n\u001b[0;32m--> 365\u001b[0;31m         \u001b[0mobj\u001b[0m\u001b[0;34m,\u001b[0m \u001b[0mend\u001b[0m \u001b[0;34m=\u001b[0m \u001b[0mself\u001b[0m\u001b[0;34m.\u001b[0m\u001b[0mraw_decode\u001b[0m\u001b[0;34m(\u001b[0m\u001b[0ms\u001b[0m\u001b[0;34m,\u001b[0m \u001b[0midx\u001b[0m\u001b[0;34m=\u001b[0m\u001b[0m_w\u001b[0m\u001b[0;34m(\u001b[0m\u001b[0ms\u001b[0m\u001b[0;34m,\u001b[0m \u001b[0;36m0\u001b[0m\u001b[0;34m)\u001b[0m\u001b[0;34m.\u001b[0m\u001b[0mend\u001b[0m\u001b[0;34m(\u001b[0m\u001b[0;34m)\u001b[0m\u001b[0;34m)\u001b[0m\u001b[0;34m\u001b[0m\u001b[0m\n\u001b[0m\u001b[1;32m    366\u001b[0m         \u001b[0mend\u001b[0m \u001b[0;34m=\u001b[0m \u001b[0m_w\u001b[0m\u001b[0;34m(\u001b[0m\u001b[0ms\u001b[0m\u001b[0;34m,\u001b[0m \u001b[0mend\u001b[0m\u001b[0;34m)\u001b[0m\u001b[0;34m.\u001b[0m\u001b[0mend\u001b[0m\u001b[0;34m(\u001b[0m\u001b[0;34m)\u001b[0m\u001b[0;34m\u001b[0m\u001b[0m\n\u001b[1;32m    367\u001b[0m         \u001b[0;32mif\u001b[0m \u001b[0mend\u001b[0m \u001b[0;34m!=\u001b[0m \u001b[0mlen\u001b[0m\u001b[0;34m(\u001b[0m\u001b[0ms\u001b[0m\u001b[0;34m)\u001b[0m\u001b[0;34m:\u001b[0m\u001b[0;34m\u001b[0m\u001b[0m\n",
        "\u001b[0;32m/Users/shreyas/anaconda/envs/opendata/python.app/Contents/lib/python2.7/json/decoder.pyc\u001b[0m in \u001b[0;36mraw_decode\u001b[0;34m(self, s, idx)\u001b[0m\n\u001b[1;32m    381\u001b[0m             \u001b[0mobj\u001b[0m\u001b[0;34m,\u001b[0m \u001b[0mend\u001b[0m \u001b[0;34m=\u001b[0m \u001b[0mself\u001b[0m\u001b[0;34m.\u001b[0m\u001b[0mscan_once\u001b[0m\u001b[0;34m(\u001b[0m\u001b[0ms\u001b[0m\u001b[0;34m,\u001b[0m \u001b[0midx\u001b[0m\u001b[0;34m)\u001b[0m\u001b[0;34m\u001b[0m\u001b[0m\n\u001b[1;32m    382\u001b[0m         \u001b[0;32mexcept\u001b[0m \u001b[0mStopIteration\u001b[0m\u001b[0;34m:\u001b[0m\u001b[0;34m\u001b[0m\u001b[0m\n\u001b[0;32m--> 383\u001b[0;31m             \u001b[0;32mraise\u001b[0m \u001b[0mValueError\u001b[0m\u001b[0;34m(\u001b[0m\u001b[0;34m\"No JSON object could be decoded\"\u001b[0m\u001b[0;34m)\u001b[0m\u001b[0;34m\u001b[0m\u001b[0m\n\u001b[0m\u001b[1;32m    384\u001b[0m         \u001b[0;32mreturn\u001b[0m \u001b[0mobj\u001b[0m\u001b[0;34m,\u001b[0m \u001b[0mend\u001b[0m\u001b[0;34m\u001b[0m\u001b[0m\n",
        "\u001b[0;31mValueError\u001b[0m: No JSON object could be decoded"
       ]
      }
     ],
     "prompt_number": 31
    },
    {
     "cell_type": "code",
     "collapsed": false,
     "input": [
      "\"population of California: {0}\".format(\n",
      "        int(c.sf1.get(('NAME', 'P0010001'), {'for': 'state:%s' % states.CA.fips})[0]['P0010001']))"
     ],
     "language": "python",
     "metadata": {},
     "outputs": [
      {
       "ename": "AttributeError",
       "evalue": "'module' object has no attribute 'sf1'",
       "output_type": "pyerr",
       "traceback": [
        "\u001b[0;31m---------------------------------------------------------------------------\u001b[0m\n\u001b[0;31mAttributeError\u001b[0m                            Traceback (most recent call last)",
        "\u001b[0;32m<ipython-input-6-f3dc6aa5de2d>\u001b[0m in \u001b[0;36m<module>\u001b[0;34m()\u001b[0m\n\u001b[1;32m      1\u001b[0m \"population of California: {0}\".format(\n\u001b[0;32m----> 2\u001b[0;31m         int(c.sf1.get(('NAME', 'P0010001'), {'for': 'state:%s' % states.CA.fips})[0]['P0010001']))\n\u001b[0m",
        "\u001b[0;31mAttributeError\u001b[0m: 'module' object has no attribute 'sf1'"
       ]
      }
     ],
     "prompt_number": 6
    },
    {
     "cell_type": "code",
     "collapsed": false,
     "input": [],
     "language": "python",
     "metadata": {},
     "outputs": []
    }
   ],
   "metadata": {}
  }
 ]
}