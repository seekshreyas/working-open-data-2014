{
 "metadata": {
  "name": "",
  "signature": "sha256:06896b2a57caf4e9059d9e3f5b8006bf3222d117e21054a6856d622f260e621b"
 },
 "nbformat": 3,
 "nbformat_minor": 0,
 "worksheets": [
  {
   "cells": [
    {
     "cell_type": "heading",
     "level": 1,
     "metadata": {},
     "source": [
      "Goals"
     ]
    },
    {
     "cell_type": "markdown",
     "metadata": {},
     "source": [
      "The focus of this notebook is on baby names that have been given to both male and female. "
     ]
    },
    {
     "cell_type": "code",
     "collapsed": false,
     "input": [
      "%matplotlib inline"
     ],
     "language": "python",
     "metadata": {},
     "outputs": [],
     "prompt_number": 4
    },
    {
     "cell_type": "code",
     "collapsed": false,
     "input": [
      "import matplotlib.pyplot as plt\n",
      "import numpy as np\n",
      "\n",
      "from pylab import figure, show\n",
      "\n",
      "from pandas import DataFrame, Series\n",
      "import pandas as pd"
     ],
     "language": "python",
     "metadata": {},
     "outputs": [],
     "prompt_number": 5
    },
    {
     "cell_type": "code",
     "collapsed": false,
     "input": [
      "try:\n",
      "    import mpld3\n",
      "    from mpld3 import enable_notebook\n",
      "    from mpld3 import plugins\n",
      "    enable_notebook()\n",
      "except Exception as e:\n",
      "    print \"Attempt to import and enable mpld3 failed\", e"
     ],
     "language": "python",
     "metadata": {},
     "outputs": [],
     "prompt_number": 6
    },
    {
     "cell_type": "code",
     "collapsed": false,
     "input": [
      "# what would seaborn do?\n",
      "try:\n",
      "    import seaborn as sns\n",
      "except Exception as e:\n",
      "    print \"Attempt to import and enable seaborn failed\", e"
     ],
     "language": "python",
     "metadata": {},
     "outputs": [
      {
       "output_type": "stream",
       "stream": "stderr",
       "text": [
        "/Users/shreyas/anaconda/lib/python2.7/site-packages/numpy/oldnumeric/__init__.py:11: ModuleDeprecationWarning: The oldnumeric module will be dropped in Numpy 1.9\n",
        "  warnings.warn(_msg, ModuleDeprecationWarning)\n"
       ]
      }
     ],
     "prompt_number": 7
    },
    {
     "cell_type": "heading",
     "level": 1,
     "metadata": {},
     "source": [
      "Preliminaries: Assumed location of pydata-book files"
     ]
    },
    {
     "cell_type": "markdown",
     "metadata": {},
     "source": [
      "To make it more practical for me to look at your homework, I'm again going to assume a relative placement of files.  I placed the files from \n",
      "\n",
      "https://github.com/pydata/pydata-book\n",
      "\n",
      "in a local directory, which in my case is \"/Users/raymondyee/D/Document/Working_with_Open_Data/pydata-book/\" \n",
      "\n",
      "and then symbolically linked (`ln -s`) to the the pydata-book from the root directory of the working-open-data folder.  i.e., on OS X\n",
      "\n",
      "    cd /Users/raymondyee/D/Document/Working_with_Open_Data/working-open-data\n",
      "    ln -s /Users/raymondyee/D/Document/Working_with_Open_Data/pydata-book/ pydata-book\n",
      "\n",
      "That way the files from the pydata-book repository look like they sit in the working-open-data directory -- without having to actually copy the files.\n",
      "\n",
      "With this arrangment, I should then be able to drop your notebook into my own notebooks directory and run them without having to mess around with paths."
     ]
    },
    {
     "cell_type": "code",
     "collapsed": false,
     "input": [
      "import os\n",
      "\n",
      "# NAMES_DIR = os.path.join(os.pardir, \"pydata-book\", \"ch02\", \"names\")\n",
      "my_path = '/Users/shreyas/Documents/_Berkeley/sem4/i290TOpenData/'\n",
      "NAMES_DIR = os.path.join(my_path, \"pydata-book\", \"ch02\", \"names\")\n",
      "\n",
      "assert os.path.exists(NAMES_DIR)"
     ],
     "language": "python",
     "metadata": {},
     "outputs": [],
     "prompt_number": 8
    },
    {
     "cell_type": "markdown",
     "metadata": {},
     "source": [
      "**Please make sure the above assertion works.**"
     ]
    },
    {
     "cell_type": "heading",
     "level": 1,
     "metadata": {},
     "source": [
      "Baby names dataset"
     ]
    },
    {
     "cell_type": "markdown",
     "metadata": {},
     "source": [
      "discussed in p. 35 of `PfDA` book"
     ]
    },
    {
     "cell_type": "markdown",
     "metadata": {},
     "source": [
      "To download all the data, including that for 2011 and 2012: [Popular Baby Names](http://www.ssa.gov/OACT/babynames/limits.html) --> includes state by state data."
     ]
    },
    {
     "cell_type": "heading",
     "level": 1,
     "metadata": {},
     "source": [
      "Loading all data into Pandas"
     ]
    },
    {
     "cell_type": "code",
     "collapsed": false,
     "input": [
      "# show the first five files in the NAMES_DIR\n",
      "\n",
      "import glob\n",
      "glob.glob(NAMES_DIR + \"/*\")[:5]"
     ],
     "language": "python",
     "metadata": {},
     "outputs": [
      {
       "metadata": {},
       "output_type": "pyout",
       "prompt_number": 9,
       "text": [
        "['/Users/shreyas/Documents/_Berkeley/sem4/i290TOpenData/pydata-book/ch02/names/NationalReadMe.pdf',\n",
        " '/Users/shreyas/Documents/_Berkeley/sem4/i290TOpenData/pydata-book/ch02/names/yob1880.txt',\n",
        " '/Users/shreyas/Documents/_Berkeley/sem4/i290TOpenData/pydata-book/ch02/names/yob1881.txt',\n",
        " '/Users/shreyas/Documents/_Berkeley/sem4/i290TOpenData/pydata-book/ch02/names/yob1882.txt',\n",
        " '/Users/shreyas/Documents/_Berkeley/sem4/i290TOpenData/pydata-book/ch02/names/yob1883.txt']"
       ]
      }
     ],
     "prompt_number": 9
    },
    {
     "cell_type": "code",
     "collapsed": false,
     "input": [
      "# 2010 is the last available year in the pydata-book repo\n",
      "import os\n",
      "\n",
      "years = range(1880, 2011)\n",
      "\n",
      "pieces = []\n",
      "columns = ['name', 'sex', 'births']\n",
      "\n",
      "for year in years:\n",
      "    path = os.path.join(NAMES_DIR, 'yob%d.txt' % year)\n",
      "    frame = pd.read_csv(path, names=columns)\n",
      "\n",
      "    frame['year'] = year\n",
      "    pieces.append(frame)\n",
      "\n",
      "# Concatenate everything into a single DataFrame\n",
      "names = pd.concat(pieces, ignore_index=True)\n",
      "\n",
      "# why floats?  I'm not sure.\n",
      "names.describe()"
     ],
     "language": "python",
     "metadata": {},
     "outputs": [
      {
       "html": [
        "<div style=\"max-height:1000px;max-width:1500px;overflow:auto;\">\n",
        "<table border=\"1\" class=\"dataframe\">\n",
        "  <thead>\n",
        "    <tr style=\"text-align: right;\">\n",
        "      <th></th>\n",
        "      <th>births</th>\n",
        "      <th>year</th>\n",
        "    </tr>\n",
        "  </thead>\n",
        "  <tbody>\n",
        "    <tr>\n",
        "      <th>count</th>\n",
        "      <td> 1690784.000000</td>\n",
        "      <td> 1690784.000000</td>\n",
        "    </tr>\n",
        "    <tr>\n",
        "      <th>mean</th>\n",
        "      <td>     190.682386</td>\n",
        "      <td>    1969.454384</td>\n",
        "    </tr>\n",
        "    <tr>\n",
        "      <th>std</th>\n",
        "      <td>    1615.899711</td>\n",
        "      <td>      32.823526</td>\n",
        "    </tr>\n",
        "    <tr>\n",
        "      <th>min</th>\n",
        "      <td>       5.000000</td>\n",
        "      <td>    1880.000000</td>\n",
        "    </tr>\n",
        "    <tr>\n",
        "      <th>25%</th>\n",
        "      <td>       7.000000</td>\n",
        "      <td>    1946.000000</td>\n",
        "    </tr>\n",
        "    <tr>\n",
        "      <th>50%</th>\n",
        "      <td>      12.000000</td>\n",
        "      <td>    1979.000000</td>\n",
        "    </tr>\n",
        "    <tr>\n",
        "      <th>75%</th>\n",
        "      <td>      32.000000</td>\n",
        "      <td>    1997.000000</td>\n",
        "    </tr>\n",
        "    <tr>\n",
        "      <th>max</th>\n",
        "      <td>   99651.000000</td>\n",
        "      <td>    2010.000000</td>\n",
        "    </tr>\n",
        "  </tbody>\n",
        "</table>\n",
        "<p>8 rows \u00d7 2 columns</p>\n",
        "</div>"
       ],
       "metadata": {},
       "output_type": "pyout",
       "prompt_number": 10,
       "text": [
        "               births            year\n",
        "count  1690784.000000  1690784.000000\n",
        "mean       190.682386     1969.454384\n",
        "std       1615.899711       32.823526\n",
        "min          5.000000     1880.000000\n",
        "25%          7.000000     1946.000000\n",
        "50%         12.000000     1979.000000\n",
        "75%         32.000000     1997.000000\n",
        "max      99651.000000     2010.000000\n",
        "\n",
        "[8 rows x 2 columns]"
       ]
      }
     ],
     "prompt_number": 10
    },
    {
     "cell_type": "code",
     "collapsed": false,
     "input": [
      "# how many people, names, males and females  represented in names?\n",
      "\n",
      "names.births.sum()"
     ],
     "language": "python",
     "metadata": {},
     "outputs": [
      {
       "metadata": {},
       "output_type": "pyout",
       "prompt_number": 11,
       "text": [
        "322402727"
       ]
      }
     ],
     "prompt_number": 11
    },
    {
     "cell_type": "code",
     "collapsed": false,
     "input": [
      "# F vs M\n",
      "\n",
      "names.groupby('sex')['births'].sum()"
     ],
     "language": "python",
     "metadata": {},
     "outputs": [
      {
       "metadata": {},
       "output_type": "pyout",
       "prompt_number": 12,
       "text": [
        "sex\n",
        "F      159990140\n",
        "M      162412587\n",
        "Name: births, dtype: int64"
       ]
      }
     ],
     "prompt_number": 12
    },
    {
     "cell_type": "code",
     "collapsed": false,
     "input": [
      "# total number of names\n",
      "\n",
      "len(names.groupby('name'))"
     ],
     "language": "python",
     "metadata": {},
     "outputs": [
      {
       "metadata": {},
       "output_type": "pyout",
       "prompt_number": 13,
       "text": [
        "88496"
       ]
      }
     ],
     "prompt_number": 13
    },
    {
     "cell_type": "code",
     "collapsed": false,
     "input": [
      "# use pivot_table to collect records by year (rows) and sex (columns)\n",
      "\n",
      "total_births = names.pivot_table('births', rows='year', cols='sex', aggfunc=sum)\n",
      "total_births.head()"
     ],
     "language": "python",
     "metadata": {},
     "outputs": [
      {
       "html": [
        "<div style=\"max-height:1000px;max-width:1500px;overflow:auto;\">\n",
        "<table border=\"1\" class=\"dataframe\">\n",
        "  <thead>\n",
        "    <tr style=\"text-align: right;\">\n",
        "      <th>sex</th>\n",
        "      <th>F</th>\n",
        "      <th>M</th>\n",
        "    </tr>\n",
        "    <tr>\n",
        "      <th>year</th>\n",
        "      <th></th>\n",
        "      <th></th>\n",
        "    </tr>\n",
        "  </thead>\n",
        "  <tbody>\n",
        "    <tr>\n",
        "      <th>1880</th>\n",
        "      <td>  90993</td>\n",
        "      <td> 110493</td>\n",
        "    </tr>\n",
        "    <tr>\n",
        "      <th>1881</th>\n",
        "      <td>  91955</td>\n",
        "      <td> 100748</td>\n",
        "    </tr>\n",
        "    <tr>\n",
        "      <th>1882</th>\n",
        "      <td> 107851</td>\n",
        "      <td> 113687</td>\n",
        "    </tr>\n",
        "    <tr>\n",
        "      <th>1883</th>\n",
        "      <td> 112322</td>\n",
        "      <td> 104632</td>\n",
        "    </tr>\n",
        "    <tr>\n",
        "      <th>1884</th>\n",
        "      <td> 129021</td>\n",
        "      <td> 114445</td>\n",
        "    </tr>\n",
        "  </tbody>\n",
        "</table>\n",
        "<p>5 rows \u00d7 2 columns</p>\n",
        "</div>"
       ],
       "metadata": {},
       "output_type": "pyout",
       "prompt_number": 14,
       "text": [
        "sex        F       M\n",
        "year                \n",
        "1880   90993  110493\n",
        "1881   91955  100748\n",
        "1882  107851  113687\n",
        "1883  112322  104632\n",
        "1884  129021  114445\n",
        "\n",
        "[5 rows x 2 columns]"
       ]
      }
     ],
     "prompt_number": 14
    },
    {
     "cell_type": "code",
     "collapsed": false,
     "input": [
      "# You can use groupy to get equivalent pivot_table calculation\n",
      "\n",
      "names.groupby('year').apply(lambda s: s.groupby('sex').agg('sum')).unstack()['births']"
     ],
     "language": "python",
     "metadata": {},
     "outputs": [
      {
       "html": [
        "<div style=\"max-height:1000px;max-width:1500px;overflow:auto;\">\n",
        "<table border=\"1\" class=\"dataframe\">\n",
        "  <thead>\n",
        "    <tr style=\"text-align: right;\">\n",
        "      <th>sex</th>\n",
        "      <th>F</th>\n",
        "      <th>M</th>\n",
        "    </tr>\n",
        "    <tr>\n",
        "      <th>year</th>\n",
        "      <th></th>\n",
        "      <th></th>\n",
        "    </tr>\n",
        "  </thead>\n",
        "  <tbody>\n",
        "    <tr>\n",
        "      <th>1880</th>\n",
        "      <td>   90993</td>\n",
        "      <td>  110493</td>\n",
        "    </tr>\n",
        "    <tr>\n",
        "      <th>1881</th>\n",
        "      <td>   91955</td>\n",
        "      <td>  100748</td>\n",
        "    </tr>\n",
        "    <tr>\n",
        "      <th>1882</th>\n",
        "      <td>  107851</td>\n",
        "      <td>  113687</td>\n",
        "    </tr>\n",
        "    <tr>\n",
        "      <th>1883</th>\n",
        "      <td>  112322</td>\n",
        "      <td>  104632</td>\n",
        "    </tr>\n",
        "    <tr>\n",
        "      <th>1884</th>\n",
        "      <td>  129021</td>\n",
        "      <td>  114445</td>\n",
        "    </tr>\n",
        "    <tr>\n",
        "      <th>1885</th>\n",
        "      <td>  133056</td>\n",
        "      <td>  107802</td>\n",
        "    </tr>\n",
        "    <tr>\n",
        "      <th>1886</th>\n",
        "      <td>  144538</td>\n",
        "      <td>  110785</td>\n",
        "    </tr>\n",
        "    <tr>\n",
        "      <th>1887</th>\n",
        "      <td>  145983</td>\n",
        "      <td>  101412</td>\n",
        "    </tr>\n",
        "    <tr>\n",
        "      <th>1888</th>\n",
        "      <td>  178631</td>\n",
        "      <td>  120857</td>\n",
        "    </tr>\n",
        "    <tr>\n",
        "      <th>1889</th>\n",
        "      <td>  178369</td>\n",
        "      <td>  110590</td>\n",
        "    </tr>\n",
        "    <tr>\n",
        "      <th>1890</th>\n",
        "      <td>  190377</td>\n",
        "      <td>  111026</td>\n",
        "    </tr>\n",
        "    <tr>\n",
        "      <th>1891</th>\n",
        "      <td>  185486</td>\n",
        "      <td>  101198</td>\n",
        "    </tr>\n",
        "    <tr>\n",
        "      <th>1892</th>\n",
        "      <td>  212350</td>\n",
        "      <td>  122038</td>\n",
        "    </tr>\n",
        "    <tr>\n",
        "      <th>1893</th>\n",
        "      <td>  212908</td>\n",
        "      <td>  112319</td>\n",
        "    </tr>\n",
        "    <tr>\n",
        "      <th>1894</th>\n",
        "      <td>  222923</td>\n",
        "      <td>  115775</td>\n",
        "    </tr>\n",
        "    <tr>\n",
        "      <th>1895</th>\n",
        "      <td>  233632</td>\n",
        "      <td>  117398</td>\n",
        "    </tr>\n",
        "    <tr>\n",
        "      <th>1896</th>\n",
        "      <td>  237924</td>\n",
        "      <td>  119575</td>\n",
        "    </tr>\n",
        "    <tr>\n",
        "      <th>1897</th>\n",
        "      <td>  234199</td>\n",
        "      <td>  112760</td>\n",
        "    </tr>\n",
        "    <tr>\n",
        "      <th>1898</th>\n",
        "      <td>  258771</td>\n",
        "      <td>  122703</td>\n",
        "    </tr>\n",
        "    <tr>\n",
        "      <th>1899</th>\n",
        "      <td>  233022</td>\n",
        "      <td>  106218</td>\n",
        "    </tr>\n",
        "    <tr>\n",
        "      <th>1900</th>\n",
        "      <td>  299873</td>\n",
        "      <td>  150554</td>\n",
        "    </tr>\n",
        "    <tr>\n",
        "      <th>1901</th>\n",
        "      <td>  239351</td>\n",
        "      <td>  106478</td>\n",
        "    </tr>\n",
        "    <tr>\n",
        "      <th>1902</th>\n",
        "      <td>  264079</td>\n",
        "      <td>  122660</td>\n",
        "    </tr>\n",
        "    <tr>\n",
        "      <th>1903</th>\n",
        "      <td>  261976</td>\n",
        "      <td>  119240</td>\n",
        "    </tr>\n",
        "    <tr>\n",
        "      <th>1904</th>\n",
        "      <td>  275375</td>\n",
        "      <td>  128129</td>\n",
        "    </tr>\n",
        "    <tr>\n",
        "      <th>1905</th>\n",
        "      <td>  291641</td>\n",
        "      <td>  132319</td>\n",
        "    </tr>\n",
        "    <tr>\n",
        "      <th>1906</th>\n",
        "      <td>  295301</td>\n",
        "      <td>  133159</td>\n",
        "    </tr>\n",
        "    <tr>\n",
        "      <th>1907</th>\n",
        "      <td>  318558</td>\n",
        "      <td>  146838</td>\n",
        "    </tr>\n",
        "    <tr>\n",
        "      <th>1908</th>\n",
        "      <td>  334277</td>\n",
        "      <td>  154339</td>\n",
        "    </tr>\n",
        "    <tr>\n",
        "      <th>1909</th>\n",
        "      <td>  347191</td>\n",
        "      <td>  163983</td>\n",
        "    </tr>\n",
        "    <tr>\n",
        "      <th>1910</th>\n",
        "      <td>  396416</td>\n",
        "      <td>  194198</td>\n",
        "    </tr>\n",
        "    <tr>\n",
        "      <th>1911</th>\n",
        "      <td>  418180</td>\n",
        "      <td>  225936</td>\n",
        "    </tr>\n",
        "    <tr>\n",
        "      <th>1912</th>\n",
        "      <td>  557939</td>\n",
        "      <td>  429926</td>\n",
        "    </tr>\n",
        "    <tr>\n",
        "      <th>1913</th>\n",
        "      <td>  624317</td>\n",
        "      <td>  512482</td>\n",
        "    </tr>\n",
        "    <tr>\n",
        "      <th>1914</th>\n",
        "      <td>  761376</td>\n",
        "      <td>  654746</td>\n",
        "    </tr>\n",
        "    <tr>\n",
        "      <th>1915</th>\n",
        "      <td>  983824</td>\n",
        "      <td>  848647</td>\n",
        "    </tr>\n",
        "    <tr>\n",
        "      <th>1916</th>\n",
        "      <td> 1044249</td>\n",
        "      <td>  890142</td>\n",
        "    </tr>\n",
        "    <tr>\n",
        "      <th>1917</th>\n",
        "      <td> 1081194</td>\n",
        "      <td>  925512</td>\n",
        "    </tr>\n",
        "    <tr>\n",
        "      <th>1918</th>\n",
        "      <td> 1157585</td>\n",
        "      <td> 1013720</td>\n",
        "    </tr>\n",
        "    <tr>\n",
        "      <th>1919</th>\n",
        "      <td> 1130149</td>\n",
        "      <td>  980215</td>\n",
        "    </tr>\n",
        "    <tr>\n",
        "      <th>1920</th>\n",
        "      <td> 1198214</td>\n",
        "      <td> 1064468</td>\n",
        "    </tr>\n",
        "    <tr>\n",
        "      <th>1921</th>\n",
        "      <td> 1232845</td>\n",
        "      <td> 1101374</td>\n",
        "    </tr>\n",
        "    <tr>\n",
        "      <th>1922</th>\n",
        "      <td> 1200796</td>\n",
        "      <td> 1088380</td>\n",
        "    </tr>\n",
        "    <tr>\n",
        "      <th>1923</th>\n",
        "      <td> 1206239</td>\n",
        "      <td> 1096227</td>\n",
        "    </tr>\n",
        "    <tr>\n",
        "      <th>1924</th>\n",
        "      <td> 1248821</td>\n",
        "      <td> 1132671</td>\n",
        "    </tr>\n",
        "    <tr>\n",
        "      <th>1925</th>\n",
        "      <td> 1217217</td>\n",
        "      <td> 1115798</td>\n",
        "    </tr>\n",
        "    <tr>\n",
        "      <th>1926</th>\n",
        "      <td> 1185078</td>\n",
        "      <td> 1110440</td>\n",
        "    </tr>\n",
        "    <tr>\n",
        "      <th>1927</th>\n",
        "      <td> 1192207</td>\n",
        "      <td> 1126259</td>\n",
        "    </tr>\n",
        "    <tr>\n",
        "      <th>1928</th>\n",
        "      <td> 1152836</td>\n",
        "      <td> 1107113</td>\n",
        "    </tr>\n",
        "    <tr>\n",
        "      <th>1929</th>\n",
        "      <td> 1116284</td>\n",
        "      <td> 1074833</td>\n",
        "    </tr>\n",
        "    <tr>\n",
        "      <th>1930</th>\n",
        "      <td> 1125521</td>\n",
        "      <td> 1096663</td>\n",
        "    </tr>\n",
        "    <tr>\n",
        "      <th>1931</th>\n",
        "      <td> 1064233</td>\n",
        "      <td> 1038586</td>\n",
        "    </tr>\n",
        "    <tr>\n",
        "      <th>1932</th>\n",
        "      <td> 1066930</td>\n",
        "      <td> 1043512</td>\n",
        "    </tr>\n",
        "    <tr>\n",
        "      <th>1933</th>\n",
        "      <td> 1007523</td>\n",
        "      <td>  990677</td>\n",
        "    </tr>\n",
        "    <tr>\n",
        "      <th>1934</th>\n",
        "      <td> 1043879</td>\n",
        "      <td> 1031962</td>\n",
        "    </tr>\n",
        "    <tr>\n",
        "      <th>1935</th>\n",
        "      <td> 1048264</td>\n",
        "      <td> 1040649</td>\n",
        "    </tr>\n",
        "    <tr>\n",
        "      <th>1936</th>\n",
        "      <td> 1040068</td>\n",
        "      <td> 1036662</td>\n",
        "    </tr>\n",
        "    <tr>\n",
        "      <th>1937</th>\n",
        "      <td> 1063722</td>\n",
        "      <td> 1065964</td>\n",
        "    </tr>\n",
        "    <tr>\n",
        "      <th>1938</th>\n",
        "      <td> 1103173</td>\n",
        "      <td> 1108480</td>\n",
        "    </tr>\n",
        "    <tr>\n",
        "      <th>1939</th>\n",
        "      <td> 1096394</td>\n",
        "      <td> 1106328</td>\n",
        "    </tr>\n",
        "    <tr>\n",
        "      <th></th>\n",
        "      <td>...</td>\n",
        "      <td>...</td>\n",
        "    </tr>\n",
        "  </tbody>\n",
        "</table>\n",
        "<p>131 rows \u00d7 2 columns</p>\n",
        "</div>"
       ],
       "metadata": {},
       "output_type": "pyout",
       "prompt_number": 15,
       "text": [
        "sex         F        M\n",
        "year                  \n",
        "1880    90993   110493\n",
        "1881    91955   100748\n",
        "1882   107851   113687\n",
        "1883   112322   104632\n",
        "1884   129021   114445\n",
        "1885   133056   107802\n",
        "1886   144538   110785\n",
        "1887   145983   101412\n",
        "1888   178631   120857\n",
        "1889   178369   110590\n",
        "1890   190377   111026\n",
        "1891   185486   101198\n",
        "1892   212350   122038\n",
        "1893   212908   112319\n",
        "1894   222923   115775\n",
        "1895   233632   117398\n",
        "1896   237924   119575\n",
        "1897   234199   112760\n",
        "1898   258771   122703\n",
        "1899   233022   106218\n",
        "1900   299873   150554\n",
        "1901   239351   106478\n",
        "1902   264079   122660\n",
        "1903   261976   119240\n",
        "1904   275375   128129\n",
        "1905   291641   132319\n",
        "1906   295301   133159\n",
        "1907   318558   146838\n",
        "1908   334277   154339\n",
        "1909   347191   163983\n",
        "1910   396416   194198\n",
        "1911   418180   225936\n",
        "1912   557939   429926\n",
        "1913   624317   512482\n",
        "1914   761376   654746\n",
        "1915   983824   848647\n",
        "1916  1044249   890142\n",
        "1917  1081194   925512\n",
        "1918  1157585  1013720\n",
        "1919  1130149   980215\n",
        "1920  1198214  1064468\n",
        "1921  1232845  1101374\n",
        "1922  1200796  1088380\n",
        "1923  1206239  1096227\n",
        "1924  1248821  1132671\n",
        "1925  1217217  1115798\n",
        "1926  1185078  1110440\n",
        "1927  1192207  1126259\n",
        "1928  1152836  1107113\n",
        "1929  1116284  1074833\n",
        "1930  1125521  1096663\n",
        "1931  1064233  1038586\n",
        "1932  1066930  1043512\n",
        "1933  1007523   990677\n",
        "1934  1043879  1031962\n",
        "1935  1048264  1040649\n",
        "1936  1040068  1036662\n",
        "1937  1063722  1065964\n",
        "1938  1103173  1108480\n",
        "1939  1096394  1106328\n",
        "          ...      ...\n",
        "\n",
        "[131 rows x 2 columns]"
       ]
      }
     ],
     "prompt_number": 15
    },
    {
     "cell_type": "code",
     "collapsed": false,
     "input": [
      "# how to calculate the total births / year\n",
      "\n",
      "names.groupby('year').sum().plot(title=\"total births by year\")"
     ],
     "language": "python",
     "metadata": {},
     "outputs": [
      {
       "metadata": {},
       "output_type": "pyout",
       "prompt_number": 16,
       "text": [
        "<matplotlib.axes.AxesSubplot at 0x10f4c8d90>"
       ]
      },
      {
       "html": [
        "\n",
        "<style>\n",
        "\n",
        "</style>\n",
        "\n",
        "<div id=\"fig231145516404008459795161\"></div>\n",
        "<script>\n",
        "function mpld3_load_lib(url, callback){\n",
        "  var s = document.createElement('script');\n",
        "  s.src = url;\n",
        "  s.async = true;\n",
        "  s.onreadystatechange = s.onload = callback;\n",
        "  s.onerror = function(){console.warn(\"failed to load library \" + url);};\n",
        "  document.getElementsByTagName(\"head\")[0].appendChild(s);\n",
        "}\n",
        "\n",
        "function create_fig231145516404008459795161(){\n",
        "  \n",
        "  mpld3.draw_figure(\"fig231145516404008459795161\", {\"width\": 640.0, \"axes\": [{\"xlim\": [1880.0, 2020.0], \"yscale\": \"linear\", \"axesbg\": \"#EAEAF2\", \"texts\": [{\"v_baseline\": \"hanging\", \"h_anchor\": \"middle\", \"color\": \"#000000\", \"text\": \"year\", \"coordinates\": \"axes\", \"zorder\": 3, \"alpha\": 1, \"fontsize\": 11.0, \"position\": [0.5, -0.068426197458455532], \"rotation\": -0.0, \"id\": \"23114551634896\"}, {\"v_baseline\": \"auto\", \"h_anchor\": \"middle\", \"color\": \"#000000\", \"text\": \"total births by year\", \"coordinates\": \"axes\", \"zorder\": 3, \"alpha\": 1, \"fontsize\": 12.0, \"position\": [0.5, 1.0162919517758229], \"rotation\": -0.0, \"id\": \"23114551736400\"}, {\"v_baseline\": \"auto\", \"h_anchor\": \"start\", \"color\": \"#000000\", \"text\": \"births\", \"coordinates\": \"axes\", \"zorder\": 1000003.0, \"alpha\": 1, \"fontsize\": 10.0, \"position\": [0.92691532258064513, 0.94721407624633425], \"rotation\": -0.0, \"id\": \"23114551815760\"}], \"zoomable\": true, \"images\": [], \"xdomain\": [1880.0, 2020.0], \"ylim\": [0.0, 4500000.0], \"paths\": [{\"edgecolor\": \"#FFFFFF\", \"facecolor\": \"#EAEAF2\", \"edgewidth\": 0.3, \"pathcodes\": [\"M\", \"L\", \"L\", \"L\", \"L\", \"Z\"], \"yindex\": 1, \"coordinates\": \"axes\", \"dasharray\": \"10,0\", \"zorder\": 1000001.0, \"alpha\": 1, \"xindex\": 0, \"data\": \"data03\", \"id\": \"23114551802768\"}], \"sharey\": [], \"sharex\": [], \"axesbgalpha\": null, \"axes\": [{\"grid\": {\"color\": \"#FFFFFF\", \"alpha\": 1.0, \"dasharray\": \"10,0\", \"gridOn\": true}, \"position\": \"bottom\", \"nticks\": 8, \"tickvalues\": null, \"tickformat\": null}, {\"grid\": {\"color\": \"#FFFFFF\", \"alpha\": 1.0, \"dasharray\": \"10,0\", \"gridOn\": true}, \"position\": \"left\", \"nticks\": 10, \"tickvalues\": null, \"tickformat\": null}], \"lines\": [{\"color\": \"#4C72B0\", \"yindex\": 1, \"coordinates\": \"data\", \"dasharray\": \"10,0\", \"zorder\": 2, \"alpha\": 1, \"xindex\": 0, \"linewidth\": 1.4, \"data\": \"data01\", \"id\": \"23114551801360\"}, {\"color\": \"#4C72B0\", \"yindex\": 1, \"coordinates\": \"axes\", \"dasharray\": \"10,0\", \"zorder\": 1000002.0, \"alpha\": 1, \"xindex\": 0, \"linewidth\": 1.4, \"data\": \"data02\", \"id\": \"23114551816656\"}], \"markers\": [], \"id\": \"23114551642512\", \"ydomain\": [0.0, 4500000.0], \"collections\": [], \"xscale\": \"linear\", \"bbox\": [0.125, 0.125, 0.77500000000000002, 0.77500000000000002]}], \"data\": {\"data02\": [[0.8641913082437277, 0.9586184424894102], [0.9089941756272403, 0.9586184424894102]], \"data03\": [[0.855230734767025, 0.92831541218638], [0.9887992831541218, 0.92831541218638], [0.9887992831541218, 0.9837080482241772], [0.855230734767025, 0.9837080482241772], [0.855230734767025, 0.92831541218638]], \"data01\": [[1880.0, 201486.0], [1881.0, 192703.0], [1882.0, 221538.0], [1883.0, 216954.0], [1884.0, 243466.0], [1885.0, 240858.0], [1886.0, 255323.0], [1887.0, 247395.0], [1888.0, 299488.0], [1889.0, 288959.0], [1890.0, 301403.0], [1891.0, 286684.0], [1892.0, 334388.0], [1893.0, 325227.0], [1894.0, 338698.0], [1895.0, 351030.0], [1896.0, 357499.0], [1897.0, 346959.0], [1898.0, 381474.0], [1899.0, 339240.0], [1900.0, 450427.0], [1901.0, 345829.0], [1902.0, 386739.0], [1903.0, 381216.0], [1904.0, 403504.0], [1905.0, 423960.0], [1906.0, 428460.0], [1907.0, 465396.0], [1908.0, 488616.0], [1909.0, 511174.0], [1910.0, 590614.0], [1911.0, 644116.0], [1912.0, 987865.0], [1913.0, 1136799.0], [1914.0, 1416122.0], [1915.0, 1832471.0], [1916.0, 1934391.0], [1917.0, 2006706.0], [1918.0, 2171305.0], [1919.0, 2110364.0], [1920.0, 2262682.0], [1921.0, 2334219.0], [1922.0, 2289176.0], [1923.0, 2302466.0], [1924.0, 2381492.0], [1925.0, 2333015.0], [1926.0, 2295518.0], [1927.0, 2318466.0], [1928.0, 2259949.0], [1929.0, 2191117.0], [1930.0, 2222184.0], [1931.0, 2102819.0], [1932.0, 2110442.0], [1933.0, 1998200.0], [1934.0, 2075841.0], [1935.0, 2088913.0], [1936.0, 2076730.0], [1937.0, 2129686.0], [1938.0, 2211653.0], [1939.0, 2202722.0], [1940.0, 2301949.0], [1941.0, 2435420.0], [1942.0, 2730992.0], [1943.0, 2821291.0], [1944.0, 2689456.0], [1945.0, 2653526.0], [1946.0, 3193095.0], [1947.0, 3599661.0], [1948.0, 3451136.0], [1949.0, 3479711.0], [1950.0, 3502937.0], [1951.0, 3676090.0], [1952.0, 3797960.0], [1953.0, 3848844.0], [1954.0, 3978510.0], [1955.0, 4011898.0], [1956.0, 4120483.0], [1957.0, 4199410.0], [1958.0, 4130634.0], [1959.0, 4156036.0], [1960.0, 4154650.0], [1961.0, 4138391.0], [1962.0, 4034833.0], [1963.0, 3958498.0], [1964.0, 3887039.0], [1965.0, 3625953.0], [1966.0, 3475227.0], [1967.0, 3394798.0], [1968.0, 3378562.0], [1969.0, 3476031.0], [1970.0, 3606593.0], [1971.0, 3431368.0], [1972.0, 3143222.0], [1973.0, 3016475.0], [1974.0, 3039642.0], [1975.0, 3018727.0], [1976.0, 3033950.0], [1977.0, 3175321.0], [1978.0, 3172385.0], [1979.0, 3325369.0], [1980.0, 3441647.0], [1981.0, 3456401.0], [1982.0, 3504678.0], [1983.0, 3460156.0], [1984.0, 3485131.0], [1985.0, 3565612.0], [1986.0, 3553495.0], [1987.0, 3602621.0], [1988.0, 3690970.0], [1989.0, 3842897.0], [1990.0, 3949326.0], [1991.0, 3893128.0], [1992.0, 3838578.0], [1993.0, 3767507.0], [1994.0, 3714770.0], [1995.0, 3659340.0], [1996.0, 3644381.0], [1997.0, 3622902.0], [1998.0, 3675066.0], [1999.0, 3690406.0], [2000.0, 3775662.0], [2001.0, 3738782.0], [2002.0, 3733299.0], [2003.0, 3796845.0], [2004.0, 3814562.0], [2005.0, 3837175.0], [2006.0, 3946702.0], [2007.0, 3986130.0], [2008.0, 3915955.0], [2009.0, 3801002.0], [2010.0, 3657392.0]]}, \"id\": \"23114551640400\", \"toolbar\": [\"reset\", \"move\"], \"height\": 440.0});\n",
        "}\n",
        "\n",
        "if(typeof(mpld3) !== \"undefined\"){\n",
        "   // already loaded: just create the figure\n",
        "   create_fig231145516404008459795161();\n",
        "}else if(typeof define === \"function\" && define.amd){\n",
        "   // require.js is available: use it to load d3/mpld3\n",
        "   require.config({paths: {d3: \"http://d3js.org/d3.v3.min\"}});\n",
        "   require([\"d3\"], function(d3){\n",
        "      window.d3 = d3;\n",
        "      mpld3_load_lib(\"http://mpld3.github.io/js/mpld3.v0.1.js\", create_fig231145516404008459795161);\n",
        "    });\n",
        "}else{\n",
        "    // require.js not available: dynamically load d3 & mpld3\n",
        "    mpld3_load_lib(\"http://d3js.org/d3.v3.min.js\", function(){\n",
        "        mpld3_load_lib(\"http://mpld3.github.io/js/mpld3.v0.1.js\", create_fig231145516404008459795161);})\n",
        "}\n",
        "</script>"
       ],
       "metadata": {},
       "output_type": "display_data",
       "png": "[encoded data removed]",
       "text": [
        "<matplotlib.figure.Figure at 0x10f4c8550>"
       ]
      }
     ],
     "prompt_number": 16
    },
    {
     "cell_type": "code",
     "collapsed": false,
     "input": [
      "names.groupby('year').apply(lambda s: s.groupby('sex').agg('sum')).unstack()['births'].plot(title=\"births (M/F) by year\")"
     ],
     "language": "python",
     "metadata": {},
     "outputs": [
      {
       "metadata": {},
       "output_type": "pyout",
       "prompt_number": 17,
       "text": [
        "<matplotlib.axes.AxesSubplot at 0x10f4f1850>"
       ]
      },
      {
       "html": [
        "\n",
        "<style>\n",
        "\n",
        "</style>\n",
        "\n",
        "<div id=\"fig231145517346724133144990\"></div>\n",
        "<script>\n",
        "function mpld3_load_lib(url, callback){\n",
        "  var s = document.createElement('script');\n",
        "  s.src = url;\n",
        "  s.async = true;\n",
        "  s.onreadystatechange = s.onload = callback;\n",
        "  s.onerror = function(){console.warn(\"failed to load library \" + url);};\n",
        "  document.getElementsByTagName(\"head\")[0].appendChild(s);\n",
        "}\n",
        "\n",
        "function create_fig231145517346724133144990(){\n",
        "  \n",
        "  mpld3.draw_figure(\"fig231145517346724133144990\", {\"width\": 640.0, \"axes\": [{\"xlim\": [1880.0, 2020.0], \"yscale\": \"linear\", \"axesbg\": \"#EAEAF2\", \"texts\": [{\"v_baseline\": \"hanging\", \"h_anchor\": \"middle\", \"color\": \"#000000\", \"text\": \"year\", \"coordinates\": \"axes\", \"zorder\": 3, \"alpha\": 1, \"fontsize\": 11.0, \"position\": [0.5, -0.068426197458455532], \"rotation\": -0.0, \"id\": \"23114551853648\"}, {\"v_baseline\": \"auto\", \"h_anchor\": \"middle\", \"color\": \"#000000\", \"text\": \"births (M/F) by year\", \"coordinates\": \"axes\", \"zorder\": 3, \"alpha\": 1, \"fontsize\": 12.0, \"position\": [0.5, 1.0162919517758229], \"rotation\": -0.0, \"id\": \"23114632633680\"}, {\"v_baseline\": \"auto\", \"h_anchor\": \"start\", \"color\": \"#000000\", \"text\": \"F\", \"coordinates\": \"axes\", \"zorder\": 1000003.0, \"alpha\": 1, \"fontsize\": 10.0, \"position\": [0.96446572580645162, 0.90159661127403068], \"rotation\": -0.0, \"id\": \"23114632496144\"}, {\"v_baseline\": \"auto\", \"h_anchor\": \"start\", \"color\": \"#000000\", \"text\": \"M\", \"coordinates\": \"axes\", \"zorder\": 1000003.0, \"alpha\": 1, \"fontsize\": 10.0, \"position\": [0.96446572580645162, 0.85597914630172711], \"rotation\": -0.0, \"id\": \"23114632650128\"}, {\"v_baseline\": \"auto\", \"h_anchor\": \"start\", \"color\": \"#000000\", \"text\": \"sex\", \"coordinates\": \"axes\", \"zorder\": 1000003.0, \"alpha\": 1, \"fontsize\": 10.0, \"position\": [0.92388937892025103, 0.94721407624633425], \"rotation\": -0.0, \"id\": \"23114632652176\"}], \"zoomable\": true, \"images\": [], \"xdomain\": [1880.0, 2020.0], \"ylim\": [0.0, 2500000.0], \"paths\": [{\"edgecolor\": \"#FFFFFF\", \"facecolor\": \"#EAEAF2\", \"edgewidth\": 0.3, \"pathcodes\": [\"M\", \"L\", \"L\", \"L\", \"L\", \"Z\"], \"yindex\": 1, \"coordinates\": \"axes\", \"dasharray\": \"10,0\", \"zorder\": 1000001.0, \"alpha\": 1, \"xindex\": 0, \"data\": \"data03\", \"id\": \"23114632495696\"}], \"sharey\": [], \"sharex\": [], \"axesbgalpha\": null, \"axes\": [{\"grid\": {\"color\": \"#FFFFFF\", \"alpha\": 1.0, \"dasharray\": \"10,0\", \"gridOn\": true}, \"position\": \"bottom\", \"nticks\": 8, \"tickvalues\": null, \"tickformat\": null}, {\"grid\": {\"color\": \"#FFFFFF\", \"alpha\": 1.0, \"dasharray\": \"10,0\", \"gridOn\": true}, \"position\": \"left\", \"nticks\": 6, \"tickvalues\": null, \"tickformat\": null}], \"lines\": [{\"color\": \"#4C72B0\", \"yindex\": 1, \"coordinates\": \"data\", \"dasharray\": \"10,0\", \"zorder\": 2, \"alpha\": 1, \"xindex\": 0, \"linewidth\": 1.4, \"data\": \"data01\", \"id\": \"23114632590416\"}, {\"color\": \"#55A868\", \"yindex\": 2, \"coordinates\": \"data\", \"dasharray\": \"10,0\", \"zorder\": 2, \"alpha\": 1, \"xindex\": 0, \"linewidth\": 1.4, \"data\": \"data01\", \"id\": \"23114632592272\"}, {\"color\": \"#4C72B0\", \"yindex\": 1, \"coordinates\": \"axes\", \"dasharray\": \"10,0\", \"zorder\": 1000002.0, \"alpha\": 1, \"xindex\": 0, \"linewidth\": 1.4, \"data\": \"data02\", \"id\": \"23114632497040\"}, {\"color\": \"#55A868\", \"yindex\": 2, \"coordinates\": \"axes\", \"dasharray\": \"10,0\", \"zorder\": 1000002.0, \"alpha\": 1, \"xindex\": 0, \"linewidth\": 1.4, \"data\": \"data02\", \"id\": \"23114632497168\"}], \"markers\": [], \"id\": \"23114551809104\", \"ydomain\": [0.0, 2500000.0], \"collections\": [], \"xscale\": \"linear\", \"bbox\": [0.125, 0.125, 0.77500000000000002, 0.77500000000000002]}], \"data\": {\"data02\": [[0.9017417114695342, 0.9130009775171066, 0.8673835125448031], [0.9465445788530468, 0.9130009775171066, 0.8673835125448031]], \"data03\": [[0.8927811379928315, 0.8370804822417727], [0.9887992831541218, 0.8370804822417727], [0.9887992831541218, 0.9837080482241772], [0.8927811379928315, 0.9837080482241772], [0.8927811379928315, 0.8370804822417727]], \"data01\": [[1880.0, 90993.0, 110493.0], [1881.0, 91955.0, 100748.0], [1882.0, 107851.0, 113687.0], [1883.0, 112322.0, 104632.0], [1884.0, 129021.0, 114445.0], [1885.0, 133056.0, 107802.0], [1886.0, 144538.0, 110785.0], [1887.0, 145983.0, 101412.0], [1888.0, 178631.0, 120857.0], [1889.0, 178369.0, 110590.0], [1890.0, 190377.0, 111026.0], [1891.0, 185486.0, 101198.0], [1892.0, 212350.0, 122038.0], [1893.0, 212908.0, 112319.0], [1894.0, 222923.0, 115775.0], [1895.0, 233632.0, 117398.0], [1896.0, 237924.0, 119575.0], [1897.0, 234199.0, 112760.0], [1898.0, 258771.0, 122703.0], [1899.0, 233022.0, 106218.0], [1900.0, 299873.0, 150554.0], [1901.0, 239351.0, 106478.0], [1902.0, 264079.0, 122660.0], [1903.0, 261976.0, 119240.0], [1904.0, 275375.0, 128129.0], [1905.0, 291641.0, 132319.0], [1906.0, 295301.0, 133159.0], [1907.0, 318558.0, 146838.0], [1908.0, 334277.0, 154339.0], [1909.0, 347191.0, 163983.0], [1910.0, 396416.0, 194198.0], [1911.0, 418180.0, 225936.0], [1912.0, 557939.0, 429926.0], [1913.0, 624317.0, 512482.0], [1914.0, 761376.0, 654746.0], [1915.0, 983824.0, 848647.0], [1916.0, 1044249.0, 890142.0], [1917.0, 1081194.0, 925512.0], [1918.0, 1157585.0, 1013720.0], [1919.0, 1130149.0, 980215.0], [1920.0, 1198214.0, 1064468.0], [1921.0, 1232845.0, 1101374.0], [1922.0, 1200796.0, 1088380.0], [1923.0, 1206239.0, 1096227.0], [1924.0, 1248821.0, 1132671.0], [1925.0, 1217217.0, 1115798.0], [1926.0, 1185078.0, 1110440.0], [1927.0, 1192207.0, 1126259.0], [1928.0, 1152836.0, 1107113.0], [1929.0, 1116284.0, 1074833.0], [1930.0, 1125521.0, 1096663.0], [1931.0, 1064233.0, 1038586.0], [1932.0, 1066930.0, 1043512.0], [1933.0, 1007523.0, 990677.0], [1934.0, 1043879.0, 1031962.0], [1935.0, 1048264.0, 1040649.0], [1936.0, 1040068.0, 1036662.0], [1937.0, 1063722.0, 1065964.0], [1938.0, 1103173.0, 1108480.0], [1939.0, 1096394.0, 1106328.0], [1940.0, 1143281.0, 1158668.0], [1941.0, 1207799.0, 1227621.0], [1942.0, 1350524.0, 1380468.0], [1943.0, 1394891.0, 1426400.0], [1944.0, 1327077.0, 1362379.0], [1945.0, 1307299.0, 1346227.0], [1946.0, 1570555.0, 1622540.0], [1947.0, 1772246.0, 1827415.0], [1948.0, 1697664.0, 1753472.0], [1949.0, 1709607.0, 1770104.0], [1950.0, 1713001.0, 1789936.0], [1951.0, 1798537.0, 1877553.0], [1952.0, 1854427.0, 1943533.0], [1953.0, 1880072.0, 1968772.0], [1954.0, 1941562.0, 2036948.0], [1955.0, 1954508.0, 2057390.0], [1956.0, 2007416.0, 2113067.0], [1957.0, 2043983.0, 2155427.0], [1958.0, 2010620.0, 2120014.0], [1959.0, 2022889.0, 2133147.0], [1960.0, 2022062.0, 2132588.0], [1961.0, 2016762.0, 2121629.0], [1962.0, 1966340.0, 2068493.0], [1963.0, 1927055.0, 2031443.0], [1964.0, 1894277.0, 1992762.0], [1965.0, 1764815.0, 1861138.0], [1966.0, 1691650.0, 1783577.0], [1967.0, 1650576.0, 1744222.0], [1968.0, 1639977.0, 1738585.0], [1969.0, 1686705.0, 1789326.0], [1970.0, 1747811.0, 1858782.0], [1971.0, 1663043.0, 1768325.0], [1972.0, 1521044.0, 1622178.0], [1973.0, 1457913.0, 1558562.0], [1974.0, 1467227.0, 1572415.0], [1975.0, 1457349.0, 1561378.0], [1976.0, 1464852.0, 1569098.0], [1977.0, 1532574.0, 1642747.0], [1978.0, 1531242.0, 1641143.0], [1979.0, 1604588.0, 1720781.0], [1980.0, 1659259.0, 1782388.0], [1981.0, 1666833.0, 1789568.0], [1982.0, 1692036.0, 1812642.0], [1983.0, 1669486.0, 1790670.0], [1984.0, 1682396.0, 1802735.0], [1985.0, 1719450.0, 1846162.0], [1986.0, 1714053.0, 1839442.0], [1987.0, 1737508.0, 1865113.0], [1988.0, 1779112.0, 1911858.0], [1989.0, 1843057.0, 1999840.0], [1990.0, 1897256.0, 2052070.0], [1991.0, 1874110.0, 2019018.0], [1992.0, 1842818.0, 1995760.0], [1993.0, 1807795.0, 1959712.0], [1994.0, 1784407.0, 1930363.0], [1995.0, 1757240.0, 1902100.0], [1996.0, 1751681.0, 1892700.0], [1997.0, 1739331.0, 1883571.0], [1998.0, 1765390.0, 1909676.0], [1999.0, 1772139.0, 1918267.0], [2000.0, 1813960.0, 1961702.0], [2001.0, 1798284.0, 1940498.0], [2002.0, 1794358.0, 1938941.0], [2003.0, 1824406.0, 1972439.0], [2004.0, 1833005.0, 1981557.0], [2005.0, 1843890.0, 1993285.0], [2006.0, 1896468.0, 2050234.0], [2007.0, 1916888.0, 2069242.0], [2008.0, 1883645.0, 2032310.0], [2009.0, 1827643.0, 1973359.0], [2010.0, 1759010.0, 1898382.0]]}, \"id\": \"23114551734672\", \"toolbar\": [\"reset\", \"move\"], \"height\": 440.0});\n",
        "}\n",
        "\n",
        "if(typeof(mpld3) !== \"undefined\"){\n",
        "   // already loaded: just create the figure\n",
        "   create_fig231145517346724133144990();\n",
        "}else if(typeof define === \"function\" && define.amd){\n",
        "   // require.js is available: use it to load d3/mpld3\n",
        "   require.config({paths: {d3: \"http://d3js.org/d3.v3.min\"}});\n",
        "   require([\"d3\"], function(d3){\n",
        "      window.d3 = d3;\n",
        "      mpld3_load_lib(\"http://mpld3.github.io/js/mpld3.v0.1.js\", create_fig231145517346724133144990);\n",
        "    });\n",
        "}else{\n",
        "    // require.js not available: dynamically load d3 & mpld3\n",
        "    mpld3_load_lib(\"http://d3js.org/d3.v3.min.js\", function(){\n",
        "        mpld3_load_lib(\"http://mpld3.github.io/js/mpld3.v0.1.js\", create_fig231145517346724133144990);})\n",
        "}\n",
        "</script>"
       ],
       "metadata": {},
       "output_type": "display_data",
       "png": "[encoded data removed]",
       "text": [
        "<matplotlib.figure.Figure at 0x10f4df590>"
       ]
      }
     ],
     "prompt_number": 17
    },
    {
     "cell_type": "code",
     "collapsed": false,
     "input": [
      "# from book: add prop to names\n",
      "\n",
      "def add_prop(group):\n",
      "    # Integer division floors\n",
      "    births = group.births.astype(float)\n",
      "\n",
      "    group['prop'] = births / births.sum()\n",
      "    return group\n",
      "\n",
      "names = names.groupby(['year', 'sex']).apply(add_prop)\n"
     ],
     "language": "python",
     "metadata": {},
     "outputs": [],
     "prompt_number": 18
    },
    {
     "cell_type": "code",
     "collapsed": false,
     "input": [
      "# verify prop --> all adds up to 1\n",
      "\n",
      "np.allclose(names.groupby(['year', 'sex']).prop.sum(), 1)"
     ],
     "language": "python",
     "metadata": {},
     "outputs": [
      {
       "metadata": {},
       "output_type": "pyout",
       "prompt_number": 19,
       "text": [
        "True"
       ]
      }
     ],
     "prompt_number": 19
    },
    {
     "cell_type": "code",
     "collapsed": false,
     "input": [
      "# number of records in full names dataframe\n",
      "\n",
      "len(names)"
     ],
     "language": "python",
     "metadata": {},
     "outputs": [
      {
       "metadata": {},
       "output_type": "pyout",
       "prompt_number": 20,
       "text": [
        "1690784"
       ]
      }
     ],
     "prompt_number": 20
    },
    {
     "cell_type": "heading",
     "level": 1,
     "metadata": {},
     "source": [
      "How to do top1000 calculation"
     ]
    },
    {
     "cell_type": "markdown",
     "metadata": {},
     "source": [
      "This section on the top1000 calculation is kept in here to provide some inspiration on how to work with baby names"
     ]
    },
    {
     "cell_type": "code",
     "collapsed": false,
     "input": [
      "#  from book: useful to work with top 1000 for each year/sex combo\n",
      "# can use groupby/apply\n",
      "\n",
      "names.groupby(['year', 'sex']).apply(lambda g: g.sort_index(by='births', ascending=False)[:1000])"
     ],
     "language": "python",
     "metadata": {},
     "outputs": []
    },
    {
     "cell_type": "code",
     "collapsed": false,
     "input": [
      "def get_top1000(group):\n",
      "    return group.sort_index(by='births', ascending=False)[:1000]\n",
      "\n",
      "grouped = names.groupby(['year', 'sex'])\n",
      "top1000 = grouped.apply(get_top1000)\n",
      "top1000.head()"
     ],
     "language": "python",
     "metadata": {},
     "outputs": []
    },
    {
     "cell_type": "code",
     "collapsed": false,
     "input": [
      "# Do pivot table: row: year and cols= names for top 1000\n",
      "\n",
      "top_births = top1000.pivot_table('births', rows='year', cols='name', aggfunc=np.sum)\n",
      "top_births.tail()"
     ],
     "language": "python",
     "metadata": {},
     "outputs": []
    },
    {
     "cell_type": "code",
     "collapsed": false,
     "input": [
      "# is your name in the top_births list?\n",
      "\n",
      "top_births['Raymond'].plot(title='plot for Raymond')"
     ],
     "language": "python",
     "metadata": {},
     "outputs": []
    },
    {
     "cell_type": "code",
     "collapsed": false,
     "input": [
      "# for Aaden, which shows up at the end\n",
      "\n",
      "top_births.Aaden.plot(xlim=[1880,2010])"
     ],
     "language": "python",
     "metadata": {},
     "outputs": []
    },
    {
     "cell_type": "code",
     "collapsed": false,
     "input": [
      "# number of names represented in top_births\n",
      "\n",
      "len(top_births.columns)"
     ],
     "language": "python",
     "metadata": {},
     "outputs": []
    },
    {
     "cell_type": "code",
     "collapsed": false,
     "input": [
      "# how to get the most popular name of all time in top_births?\n",
      "\n",
      "most_common_names = top_births.sum()\n",
      "most_common_names.sort(ascending=False)\n",
      "\n",
      "most_common_names.head()"
     ],
     "language": "python",
     "metadata": {},
     "outputs": []
    },
    {
     "cell_type": "code",
     "collapsed": false,
     "input": [
      "# as of mpl v 0.1 (2014.03.04), the name labeling doesn't work -- so disble mpld3 for this figure\n",
      "\n",
      "mpld3.disable_notebook()\n",
      "plt.figure()\n",
      "most_common_names[:50][::-1].plot(kind='barh', figsize=(10,10))"
     ],
     "language": "python",
     "metadata": {},
     "outputs": []
    },
    {
     "cell_type": "code",
     "collapsed": false,
     "input": [
      "# turn mpld3 back on\n",
      "\n",
      "mpld3.enable_notebook()"
     ],
     "language": "python",
     "metadata": {},
     "outputs": []
    },
    {
     "cell_type": "heading",
     "level": 1,
     "metadata": {},
     "source": [
      "all_births pivot table"
     ]
    },
    {
     "cell_type": "code",
     "collapsed": false,
     "input": [
      "# instead of top_birth -- get all_births\n",
      "\n",
      "all_births = names.pivot_table('births', rows='year', cols='name', aggfunc=sum)"
     ],
     "language": "python",
     "metadata": {},
     "outputs": []
    },
    {
     "cell_type": "code",
     "collapsed": false,
     "input": [
      "all_births = all_births.fillna(0)\n",
      "all_births.tail()"
     ],
     "language": "python",
     "metadata": {},
     "outputs": []
    },
    {
     "cell_type": "code",
     "collapsed": false,
     "input": [
      "# set up to do start/end calculation\n",
      "\n",
      "all_births_cumsum = all_births.apply(lambda s: s.cumsum(), axis=0)"
     ],
     "language": "python",
     "metadata": {},
     "outputs": []
    },
    {
     "cell_type": "code",
     "collapsed": false,
     "input": [
      "all_births_cumsum.tail()"
     ],
     "language": "python",
     "metadata": {},
     "outputs": []
    },
    {
     "cell_type": "heading",
     "level": 2,
     "metadata": {},
     "source": [
      "Names that are both M and F"
     ]
    },
    {
     "cell_type": "code",
     "collapsed": false,
     "input": [
      "# remind ourselves of what's in names\n",
      "\n",
      "names.head()"
     ],
     "language": "python",
     "metadata": {},
     "outputs": []
    },
    {
     "cell_type": "code",
     "collapsed": false,
     "input": [
      "# columns in names\n",
      "\n",
      "names.columns"
     ],
     "language": "python",
     "metadata": {},
     "outputs": []
    },
    {
     "cell_type": "heading",
     "level": 2,
     "metadata": {},
     "source": [
      "Calculating ambigendered names"
     ]
    },
    {
     "cell_type": "code",
     "collapsed": false,
     "input": [
      "# calculate set of male_only, female_only, ambigender names\n",
      "\n",
      "def calc_of_sex_of_names():\n",
      "\n",
      "    k = names.groupby('sex').apply(lambda s: set(list(s['name'])))\n",
      "    male_only_names = k['M'] - k['F']\n",
      "    female_only_names = k['F'] - k['M']\n",
      "    ambi_names = k['F'] & k['M'] # intersection of two \n",
      "    return {'male_only_names': male_only_names, \n",
      "            'female_only_names': female_only_names,\n",
      "            'ambi_names': ambi_names }\n",
      "    \n",
      "names_by_sex = calc_of_sex_of_names() \n",
      "ambi_names_array = np.array(list(names_by_sex['ambi_names']))\n",
      "\n",
      "[(k, len(v)) for (k,v) in names_by_sex.items()]"
     ],
     "language": "python",
     "metadata": {},
     "outputs": []
    },
    {
     "cell_type": "code",
     "collapsed": false,
     "input": [
      "# total number of people in names\n",
      "names.births.sum()"
     ],
     "language": "python",
     "metadata": {},
     "outputs": []
    },
    {
     "cell_type": "code",
     "collapsed": false,
     "input": [
      "# pivot table of ambigendered names to aggregate \n",
      "\n",
      "names_ambi = names[np.in1d(names.name,ambi_names_array)]\n",
      "ambi_names_pt = names_ambi.pivot_table('births',\n",
      "                            rows='year', \n",
      "                            cols=['name','sex'], \n",
      "                            aggfunc='sum')"
     ],
     "language": "python",
     "metadata": {},
     "outputs": []
    },
    {
     "cell_type": "code",
     "collapsed": false,
     "input": [
      "# total number of people in k1 -- almost everyone!\n",
      "\n",
      "ambi_names_pt.sum().sum()"
     ],
     "language": "python",
     "metadata": {},
     "outputs": []
    },
    {
     "cell_type": "code",
     "collapsed": false,
     "input": [
      "# fill n/a with 0 and look at the table at the end\n",
      "\n",
      "ambi_names_pt=ambi_names_pt.fillna(0L)\n",
      "ambi_names_pt.tail()"
     ],
     "language": "python",
     "metadata": {},
     "outputs": []
    },
    {
     "cell_type": "code",
     "collapsed": false,
     "input": [
      "# plot M, F in ambigender_names over time\n",
      "ambi_names_pt.T.xs('M',level='sex').sum().cumsum()"
     ],
     "language": "python",
     "metadata": {},
     "outputs": []
    },
    {
     "cell_type": "code",
     "collapsed": false,
     "input": [
      "ambi_names_pt.T.xs('F',level='sex').sum().cumsum()"
     ],
     "language": "python",
     "metadata": {},
     "outputs": []
    },
    {
     "cell_type": "code",
     "collapsed": false,
     "input": [
      "# don't know what pivot table has type float\n",
      "# https://github.com/pydata/pandas/issues/3283\n",
      "ambi_names_pt['Raymond', 'M'].dtype"
     ],
     "language": "python",
     "metadata": {},
     "outputs": []
    },
    {
     "cell_type": "code",
     "collapsed": false,
     "input": [
      "# calculate proportion of males for given name\n",
      "\n",
      "def prop_male(name):\n",
      "    return (ambi_names_pt[name]['M']/ \\\n",
      "    ((ambi_names_pt[name]['M'] + ambi_names_pt[name]['F'])))\n",
      "\n",
      "def prop_c_male(name):\n",
      "    return (ambi_names_pt[name]['M'].cumsum()/ \\\n",
      "    ((ambi_names_pt[name]['M'].cumsum() + ambi_names_pt[name]['F'].cumsum())))"
     ],
     "language": "python",
     "metadata": {},
     "outputs": []
    },
    {
     "cell_type": "code",
     "collapsed": false,
     "input": [
      "prop_c_male('Leslie').plot()"
     ],
     "language": "python",
     "metadata": {},
     "outputs": []
    },
    {
     "cell_type": "code",
     "collapsed": false,
     "input": [
      "# I couldn't figure out a way of iterating over the names rather than names/sex combo in\n",
      "# a vectorized way.  \n",
      "\n",
      "from itertools import islice\n",
      "\n",
      "names_to_calc = list(islice(list(ambi_names_pt.T.index.levels[0]),None))\n",
      "\n",
      "m = [(name_, ambi_names_pt[name_]['M']/(ambi_names_pt[name_]['F'] + ambi_names_pt[name_]['M']))  \\\n",
      "     for name_ in names_to_calc]\n",
      "p_m_instant = DataFrame(dict(m))\n",
      "p_m_instant.tail()"
     ],
     "language": "python",
     "metadata": {},
     "outputs": []
    },
    {
     "cell_type": "code",
     "collapsed": false,
     "input": [
      "# similar calculation except instead of looking at the proportions for a given year only,\n",
      "# we look at the cumulative number of male/female babies for given name\n",
      "\n",
      "from itertools import islice\n",
      "\n",
      "names_to_calc = list(islice(list(ambi_names_pt.T.index.levels[0]),None))\n",
      "\n",
      "m = [(name_, ambi_names_pt[name_]['M'].cumsum()/(ambi_names_pt[name_]['F'].cumsum() + ambi_names_pt[name_]['M'].cumsum()))  \\\n",
      "     for name_ in names_to_calc]\n",
      "p_m_cum = DataFrame(dict(m))\n",
      "p_m_cum.tail()"
     ],
     "language": "python",
     "metadata": {},
     "outputs": []
    },
    {
     "cell_type": "code",
     "collapsed": false,
     "input": [
      "p_m_cum['Donnie'].plot()"
     ],
     "language": "python",
     "metadata": {},
     "outputs": []
    },
    {
     "cell_type": "code",
     "collapsed": false,
     "input": [
      "# some metrics that attempt to measure how a time series s has changed\n",
      "\n",
      "def min_max_range(s):\n",
      "    \"\"\"range of s signed -- positive if slope between two points p +ve and negative\n",
      "    otherwise; 0 if slope is 0\"\"\"\n",
      "    # note np.argmax, np.argmin returns the position of first occurence of global max, min\n",
      "    sign = np.sign(np.argmax(s) - np.argmin(s))\n",
      "    if sign == 0:\n",
      "        return 0.0\n",
      "    else:\n",
      "        return sign*(np.max(s) - np.min(s))\n",
      "\n",
      "def last_first_diff(s):\n",
      "    \"\"\"difference between latest and earliest value\"\"\"\n",
      "    s0 = s.dropna()\n",
      "    return (s0.iloc[-1] - s0.iloc[0])\n",
      "    \n"
     ],
     "language": "python",
     "metadata": {},
     "outputs": []
    },
    {
     "cell_type": "code",
     "collapsed": false,
     "input": [
      "# population distributions of ambinames \n",
      "# might want to remove from consideration instances when total ratio is too great\n",
      "# or range of existence of a name/sex combo too short\n",
      "\n",
      "total_pop_ambiname = all_births.sum()[np.in1d(all_births.sum().index, ambi_names_array)]\n",
      "total_pop_ambiname.sort(ascending=False)\n",
      "total_pop_ambiname.plot(logy=True)"
     ],
     "language": "python",
     "metadata": {},
     "outputs": []
    },
    {
     "cell_type": "code",
     "collapsed": false,
     "input": [
      "# now calculate a DataFrame to visualize results\n",
      "\n",
      "# calculate the total population, the change in p_m from last to first appearance, \n",
      "# the change from max to min in p_m, and the percentage of males overall for name\n",
      "\n",
      "df = DataFrame()\n",
      "df['total_pop'] = total_pop_ambiname\n",
      "df['last_first_diff'] = p_m_cum.apply(last_first_diff)\n",
      "df['min_max_range'] = p_m_cum.apply(min_max_range)\n",
      "df['abs_min_max_range'] = np.abs(df.min_max_range)\n",
      "df['p_m'] = p_m_cum.iloc[-1]\n",
      "\n",
      "# distance from full ambigender -- p_m=0.5 leads to 1, p_m=1 or 0 -> 0\n",
      "df['ambi_index'] = df.p_m.apply(lambda p: 1 - 2* np.abs(p-0.5))\n",
      "\n",
      "df.head()"
     ],
     "language": "python",
     "metadata": {},
     "outputs": []
    },
    {
     "cell_type": "code",
     "collapsed": false,
     "input": [
      "# plot: x -> log10 of total population, y->how p_m has changed from first to last\n",
      "# turn off d3 for this plot\n",
      "\n",
      "mpld3.disable_notebook()\n",
      "plt.scatter(np.log10(df.total_pop), df.last_first_diff, s=1)"
     ],
     "language": "python",
     "metadata": {},
     "outputs": []
    },
    {
     "cell_type": "code",
     "collapsed": false,
     "input": [
      "# turn d3 back on\n",
      "\n",
      "mpld3.enable_notebook()"
     ],
     "language": "python",
     "metadata": {},
     "outputs": []
    },
    {
     "cell_type": "code",
     "collapsed": false,
     "input": [
      "# general directionality counts -- looking for over asymmetry\n",
      "\n",
      "df.groupby(np.sign(df.last_first_diff)).count()"
     ],
     "language": "python",
     "metadata": {},
     "outputs": []
    },
    {
     "cell_type": "code",
     "collapsed": false,
     "input": [
      "# let's concentrate on more populous names that have seen big swings in the cumulative p_m\n",
      "\n",
      "# you can play with the population and range filter\n",
      "popular_names_with_shifts = df[(df.total_pop>5000) & (df.abs_min_max_range >0.7)]\n",
      "popular_names_with_shifts.sort_index(by=\"abs_min_max_range\", ascending=False)\n"
     ],
     "language": "python",
     "metadata": {},
     "outputs": []
    },
    {
     "cell_type": "code",
     "collapsed": false,
     "input": [
      "popular_names_with_shifts.groupby(np.sign(df.last_first_diff)).count()"
     ],
     "language": "python",
     "metadata": {},
     "outputs": []
    },
    {
     "cell_type": "code",
     "collapsed": false,
     "input": [
      "#popular_names_with_shifts.to_pickle('popular_names_with_shifts.pickle')"
     ],
     "language": "python",
     "metadata": {},
     "outputs": []
    },
    {
     "cell_type": "code",
     "collapsed": false,
     "input": [
      "fig, ax = plt.subplots(subplot_kw=dict(axisbg='#EEEEEE'))\n",
      "x = np.log10(popular_names_with_shifts.total_pop)\n",
      "y = popular_names_with_shifts.min_max_range \n",
      "\n",
      "scatter = ax.scatter(x, y)\n",
      "\n",
      "ax.grid(color='white', linestyle='solid')\n",
      "ax.set_title(\"Populous Names with Major Sex Shift\", size=20)\n",
      "ax.set_xlabel('log10(total_pop)')\n",
      "ax.set_ylabel('min_max_range')\n",
      "\n",
      "#labels = ['point {0}'.format(i + 1) for i in range(len(x))]\n",
      "labels = list(popular_names_with_shifts.index)\n",
      "tooltip = plugins.PointLabelTooltip(scatter, labels=labels)\n",
      "plugins.connect(fig, tooltip)"
     ],
     "language": "python",
     "metadata": {},
     "outputs": []
    },
    {
     "cell_type": "code",
     "collapsed": false,
     "input": [
      "prop_c_male('Leslie').plot()"
     ],
     "language": "python",
     "metadata": {},
     "outputs": []
    },
    {
     "cell_type": "code",
     "collapsed": false,
     "input": [],
     "language": "python",
     "metadata": {},
     "outputs": []
    }
   ],
   "metadata": {}
  }
 ]
}