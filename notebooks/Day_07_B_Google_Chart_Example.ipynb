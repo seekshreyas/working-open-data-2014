{
 "metadata": {
  "name": "",
  "signature": "sha256:554ae53ec160ec4695fb010ba34f9cf1dc79c3f92c0c9fbafc03cc156eb706ed"
 },
 "nbformat": 3,
 "nbformat_minor": 0,
 "worksheets": [
  {
   "cells": [
    {
     "cell_type": "markdown",
     "metadata": {},
     "source": [
      "Goal:  get a simple Google Chart w/ world map into the Notebook.\n",
      "\n",
      "This might not prove to be the best way to do things, but the goal is to get a start."
     ]
    },
    {
     "cell_type": "code",
     "collapsed": false,
     "input": [
      "%%javascript\n",
      "$.getScript('//www.google.com/jsapi');"
     ],
     "language": "python",
     "metadata": {},
     "outputs": [
      {
       "javascript": [
        "$.getScript('//www.google.com/jsapi');"
       ],
       "metadata": {},
       "output_type": "display_data",
       "text": [
        "<IPython.core.display.Javascript at 0x101f89b10>"
       ]
      }
     ],
     "prompt_number": 1
    },
    {
     "cell_type": "code",
     "collapsed": false,
     "input": [
      "%%html\n",
      "<div id=\"chart_div\"></div>"
     ],
     "language": "python",
     "metadata": {},
     "outputs": [
      {
       "html": [
        "<div id=\"chart_div\"></div>"
       ],
       "metadata": {},
       "output_type": "display_data",
       "text": [
        "<IPython.core.display.HTML at 0x101f893d0>"
       ]
      }
     ],
     "prompt_number": 2
    },
    {
     "cell_type": "markdown",
     "metadata": {},
     "source": [
      "[[IPython-User] using Google Charts in IPython](http://lists.ipython.scipy.org/pipermail/ipython-user/2013-May/012694.html):\n",
      "\n",
      "> google.load blanks the page unless you give it a\n",
      "callback<http://stackoverflow.com/questions/9519673/why-does-google-load-cause-my-page-to-go-blank>\n",
      ".\n"
     ]
    },
    {
     "cell_type": "code",
     "collapsed": false,
     "input": [
      "%%javascript\n",
      "\n",
      "var drawRegionsMap = function() {\n",
      "    var data = google.visualization.arrayToDataTable([\n",
      "      ['Country', 'Popularity'],\n",
      "      ['Germany', 200],\n",
      "      ['United States', 300],\n",
      "      ['Brazil', 400],\n",
      "      ['Canada', 500],\n",
      "      ['France', 600],\n",
      "      ['RU', 700]\n",
      "    ]);\n",
      "    var options = {};\n",
      "\n",
      "    var chart = new google.visualization.GeoChart(document.getElementById('chart_div'));\n",
      "    chart.draw(data, options);\n",
      "}\n",
      "\n",
      "// google.setOnLoadCallback(drawRegionsMap);\n",
      "google.load('visualization', '1', {'packages': ['geochart'],\n",
      "                                   'callback': drawRegionsMap});\n",
      "\n"
     ],
     "language": "python",
     "metadata": {},
     "outputs": [
      {
       "javascript": [
        "\n",
        "var drawRegionsMap = function() {\n",
        "    var data = google.visualization.arrayToDataTable([\n",
        "      ['Country', 'Popularity'],\n",
        "      ['Germany', 200],\n",
        "      ['United States', 300],\n",
        "      ['Brazil', 400],\n",
        "      ['Canada', 500],\n",
        "      ['France', 600],\n",
        "      ['RU', 700]\n",
        "    ]);\n",
        "    var options = {};\n",
        "\n",
        "    var chart = new google.visualization.GeoChart(document.getElementById('chart_div'));\n",
        "    chart.draw(data, options);\n",
        "}\n",
        "\n",
        "// google.setOnLoadCallback(drawRegionsMap);\n",
        "google.load('visualization', '1', {'packages': ['geochart'],\n",
        "                                   'callback': drawRegionsMap});\n"
       ],
       "metadata": {},
       "output_type": "display_data",
       "text": [
        "<IPython.core.display.Javascript at 0x101b82390>"
       ]
      }
     ],
     "prompt_number": 3
    }
   ],
   "metadata": {}
  }
 ]
}