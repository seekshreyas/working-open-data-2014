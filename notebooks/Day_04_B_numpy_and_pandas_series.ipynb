{
 "metadata": {
  "name": ""
 },
 "nbformat": 3,
 "nbformat_minor": 0,
 "worksheets": [
  {
   "cells": [
    {
     "cell_type": "code",
     "collapsed": false,
     "input": [
      "# http://ipython.org/ipython-doc/rel-1.1.0/api/generated/IPython.core.magics.pylab.html#\n",
      "%pylab --no-import-all inline"
     ],
     "language": "python",
     "metadata": {},
     "outputs": [
      {
       "output_type": "stream",
       "stream": "stdout",
       "text": [
        "Populating the interactive namespace from numpy and matplotlib\n"
       ]
      }
     ],
     "prompt_number": 2
    },
    {
     "cell_type": "heading",
     "level": 1,
     "metadata": {},
     "source": [
      "Warm up with sequences, lists"
     ]
    },
    {
     "cell_type": "heading",
     "level": 2,
     "metadata": {},
     "source": [
      "Warm-up exercise I:  verifying sum of integers calculated by (young) Gauss"
     ]
    },
    {
     "cell_type": "markdown",
     "metadata": {},
     "source": [
      "![C. F. Gauss](http://upload.wikimedia.org/wikipedia/commons/thumb/9/9b/Carl_Friedrich_Gauss.jpg/220px-Carl_Friedrich_Gauss.jpg)\n",
      "\n",
      "http://mathandmultimedia.com/2010/09/15/sum-first-n-positive-integers/\n",
      "\n",
      ">  Gauss displayed his genius at an early age. According to anecdotes, when he was in primary school, he was punished by his teacher due to misbehavior.  He was told to add the numbers from 1 to 100. He was able to compute its sum, which is 5050, in a matter of seconds.\n",
      "\n",
      ">  Now, how on earth did he do it?\n",
      "\n",
      "See also:\n",
      "\n",
      "* http://en.wikipedia.org/wiki/Carl_Friedrich_Gauss#Anecdotes\n",
      "* [The Gauss Christmath Special](http://youtu.be/sxnX5_LbBDU?t=4m52s) by [Vi Hart](http://en.wikipedia.org/wiki/Vi_Hart)\n",
      "\n",
      "**Let's verify this result in a number of ways.  Take some time now to write some code to add up 1 to 100.**\n",
      "\n",
      "Specifically:\n",
      "\n",
      "* make use of [range](http://docs.python.org/2/library/functions.html#range)\n",
      "* try [xrange](http://docs.python.org/2/library/functions.html#xrange)\n",
      "* try an explicit loop vs `sum`\n",
      "* bonus:  try [itertool.count](http://docs.python.org/2/library/itertools.html#itertools.count) and [itertool.islice](http://docs.python.org/2/library/itertools.html#itertools.islice) -- these functions are Python *iterators*. \n",
      "* See [Build a Basic Python Iterator](http://stackoverflow.com/a/24377/7782) and \n",
      "[The Python yield keyword explained](http://stackoverflow.com/questions/231767/the-python-yield-keyword-explained)\n",
      "\n",
      "\n",
      "**Beware:  in ipython w/ pylab mode, `sum` might be overwritten by numpy's sum -- use `__builtin__.sum` if you want http://docs.python.org/2/library/functions.html#sum as opposed to http://docs.scipy.org/doc/numpy/reference/generated/numpy.sum.html** \n"
     ]
    },
    {
     "cell_type": "code",
     "collapsed": false,
     "input": [
      "# using loop and xrange\n",
      "\n",
      "n = 100\n",
      "\n",
      "s = 0L\n",
      "for i in xrange(n+1):\n",
      "    s += i\n",
      "print s"
     ],
     "language": "python",
     "metadata": {},
     "outputs": [
      {
       "output_type": "stream",
       "stream": "stdout",
       "text": [
        "5050\n"
       ]
      }
     ],
     "prompt_number": 2
    },
    {
     "cell_type": "code",
     "collapsed": false,
     "input": [
      "# using builtin sum and range\n",
      "\n",
      "print range(101)\n",
      "sum(range(101))"
     ],
     "language": "python",
     "metadata": {},
     "outputs": [
      {
       "output_type": "stream",
       "stream": "stdout",
       "text": [
        "[0, 1, 2, 3, 4, 5, 6, 7, 8, 9, 10, 11, 12, 13, 14, 15, 16, 17, 18, 19, 20, 21, 22, 23, 24, 25, 26, 27, 28, 29, 30, 31, 32, 33, 34, 35, 36, 37, 38, 39, 40, 41, 42, 43, 44, 45, 46, 47, 48, 49, 50, 51, 52, 53, 54, 55, 56, 57, 58, 59, 60, 61, 62, 63, 64, 65, 66, 67, 68, 69, 70, 71, 72, 73, 74, 75, 76, 77, 78, 79, 80, 81, 82, 83, 84, 85, 86, 87, 88, 89, 90, 91, 92, 93, 94, 95, 96, 97, 98, 99, 100]\n"
       ]
      },
      {
       "metadata": {},
       "output_type": "pyout",
       "prompt_number": 3,
       "text": [
        "5050"
       ]
      }
     ],
     "prompt_number": 3
    },
    {
     "cell_type": "code",
     "collapsed": false,
     "input": [
      "# xrange\n",
      "sum(xrange(101))"
     ],
     "language": "python",
     "metadata": {},
     "outputs": [
      {
       "metadata": {},
       "output_type": "pyout",
       "prompt_number": 4,
       "text": [
        "5050"
       ]
      }
     ],
     "prompt_number": 4
    },
    {
     "cell_type": "code",
     "collapsed": false,
     "input": [
      "# itertools is a great library\n",
      "# http://docs.python.org/2/library/itertools.html#itertools.count\n",
      "# itertools.count(start=0, step=1):\n",
      "# \"Make an iterator that returns evenly spaced values starting with step.\"\n",
      "\n",
      "from itertools import islice, count\n",
      "c = count(0, 1)"
     ],
     "language": "python",
     "metadata": {},
     "outputs": [],
     "prompt_number": 3
    },
    {
     "cell_type": "code",
     "collapsed": false,
     "input": [
      "# look at how count() works by repetively calling c.next()\n",
      "print c.next()\n",
      "print c.next()\n",
      "print c.next()"
     ],
     "language": "python",
     "metadata": {},
     "outputs": [
      {
       "output_type": "stream",
       "stream": "stdout",
       "text": [
        "0\n",
        "1\n",
        "2\n"
       ]
      }
     ],
     "prompt_number": 6
    },
    {
     "cell_type": "code",
     "collapsed": false,
     "input": [
      "# let's add up using count and islice to limit how high we count\n",
      "\n",
      "# also make sure we're also using the builtin sum \n",
      "# http://docs.python.org/2/library/functions.html#sum\n",
      "\n",
      "__builtin__.sum(islice(count(0,1), 101L))"
     ],
     "language": "python",
     "metadata": {},
     "outputs": [
      {
       "metadata": {},
       "output_type": "pyout",
       "prompt_number": 4,
       "text": [
        "5050"
       ]
      }
     ],
     "prompt_number": 4
    },
    {
     "cell_type": "code",
     "collapsed": false,
     "input": [
      "# generator for the lowercase English alphabet\n",
      "\n",
      "import string\n",
      "\n",
      "def alpha1():\n",
      "    m = list(string.lowercase)\n",
      "    while m:\n",
      "        yield m.pop(0)\n",
      "    "
     ],
     "language": "python",
     "metadata": {},
     "outputs": [],
     "prompt_number": 5
    },
    {
     "cell_type": "code",
     "collapsed": false,
     "input": [
      "import string\n",
      "\n",
      "# make a generator comprehension -- generate items on demand\n",
      "\n",
      "k = (s for s in list(string.lowercase))\n",
      "k"
     ],
     "language": "python",
     "metadata": {},
     "outputs": [
      {
       "metadata": {},
       "output_type": "pyout",
       "prompt_number": 6,
       "text": [
        "<generator object <genexpr> at 0x107b20fa0>"
       ]
      }
     ],
     "prompt_number": 6
    },
    {
     "cell_type": "code",
     "collapsed": false,
     "input": [
      "k.next()"
     ],
     "language": "python",
     "metadata": {},
     "outputs": [
      {
       "metadata": {},
       "output_type": "pyout",
       "prompt_number": 7,
       "text": [
        "'a'"
       ]
      }
     ],
     "prompt_number": 7
    },
    {
     "cell_type": "code",
     "collapsed": false,
     "input": [
      "# compare to k1, a list comprehension\n",
      "k1 = [s for s in list(string.lowercase)]\n",
      "k1"
     ],
     "language": "python",
     "metadata": {},
     "outputs": [
      {
       "metadata": {},
       "output_type": "pyout",
       "prompt_number": 8,
       "text": [
        "['a',\n",
        " 'b',\n",
        " 'c',\n",
        " 'd',\n",
        " 'e',\n",
        " 'f',\n",
        " 'g',\n",
        " 'h',\n",
        " 'i',\n",
        " 'j',\n",
        " 'k',\n",
        " 'l',\n",
        " 'm',\n",
        " 'n',\n",
        " 'o',\n",
        " 'p',\n",
        " 'q',\n",
        " 'r',\n",
        " 's',\n",
        " 't',\n",
        " 'u',\n",
        " 'v',\n",
        " 'w',\n",
        " 'x',\n",
        " 'y',\n",
        " 'z']"
       ]
      }
     ],
     "prompt_number": 8
    },
    {
     "cell_type": "code",
     "collapsed": false,
     "input": [
      "# create my own version of itertools.count\n",
      "\n",
      "def my_count(start, step):\n",
      "    n = start\n",
      "    while True:\n",
      "        yield n\n",
      "        n += step\n",
      "        \n",
      "__builtin__.sum(islice(my_count(0,1), 101L))"
     ],
     "language": "python",
     "metadata": {},
     "outputs": [
      {
       "metadata": {},
       "output_type": "pyout",
       "prompt_number": 9,
       "text": [
        "5050"
       ]
      }
     ],
     "prompt_number": 9
    },
    {
     "cell_type": "heading",
     "level": 3,
     "metadata": {},
     "source": [
      "Triangular numbers"
     ]
    },
    {
     "cell_type": "markdown",
     "metadata": {},
     "source": [
      "$T_n= \\sum_{k=1}^n k = 1+2+3+ \\dotsb +n = \\frac{n(n+1)}{2} = {n+1 \\choose 2}$"
     ]
    },
    {
     "cell_type": "code",
     "collapsed": false,
     "input": [
      "from itertools import islice\n",
      "\n",
      "def triangular():\n",
      "    n = 1\n",
      "    i = 1\n",
      "    while True:\n",
      "        yield n\n",
      "        i +=1\n",
      "        n += i\n"
     ],
     "language": "python",
     "metadata": {},
     "outputs": [],
     "prompt_number": 10
    },
    {
     "cell_type": "code",
     "collapsed": false,
     "input": [
      "for i, n in enumerate(islice(triangular(), 10)):\n",
      "    print i+1, n"
     ],
     "language": "python",
     "metadata": {},
     "outputs": [
      {
       "output_type": "stream",
       "stream": "stdout",
       "text": [
        "1 1\n",
        "2 3\n",
        "3 6\n",
        "4 10\n",
        "5 15\n",
        "6 21\n",
        "7 28\n",
        "8 36\n",
        "9 45\n",
        "10 55\n"
       ]
      }
     ],
     "prompt_number": 11
    },
    {
     "cell_type": "code",
     "collapsed": false,
     "input": [
      "list(islice(triangular(), 100))[-1]"
     ],
     "language": "python",
     "metadata": {},
     "outputs": [
      {
       "metadata": {},
       "output_type": "pyout",
       "prompt_number": 15,
       "text": [
        "5050"
       ]
      }
     ],
     "prompt_number": 15
    },
    {
     "cell_type": "code",
     "collapsed": false,
     "input": [
      "list(islice(triangular(),99,100))[0]"
     ],
     "language": "python",
     "metadata": {},
     "outputs": [
      {
       "metadata": {},
       "output_type": "pyout",
       "prompt_number": 16,
       "text": [
        "5050"
       ]
      }
     ],
     "prompt_number": 16
    },
    {
     "cell_type": "heading",
     "level": 2,
     "metadata": {},
     "source": [
      "Warm Up Exercise II: Wheat and chessboard problem"
     ]
    },
    {
     "cell_type": "markdown",
     "metadata": {},
     "source": [
      "http://en.wikipedia.org/wiki/Wheat_and_chessboard_problem :\n",
      "\n",
      "> If a chessboard were to have wheat placed upon each square such that one grain were placed on the first square, two on the second, four on the third, and so on (doubling the number of grains on each subsequent square), how many grains of wheat would be on the chessboard at the finish?\n",
      "\n",
      "> The total number of grains equals 18,446,744,073,709,551,615, which is a much higher number than most people intuitively expect.\n",
      "\n",
      "* try using [pow](http://docs.python.org/2/library/functions.html#pow)"
     ]
    },
    {
     "cell_type": "code",
     "collapsed": false,
     "input": [
      "# Legend of the Chessboard YouTube video\n",
      "\n",
      "from IPython.display import YouTubeVideo\n",
      "YouTubeVideo('t3d0Y-JpRRg')"
     ],
     "language": "python",
     "metadata": {},
     "outputs": [
      {
       "html": [
        "\n",
        "        <iframe\n",
        "            width=\"400\"\n",
        "            height=300\"\n",
        "            src=\"http://www.youtube.com/embed/t3d0Y-JpRRg\"\n",
        "            frameborder=\"0\"\n",
        "            allowfullscreen\n",
        "        ></iframe>\n",
        "        "
       ],
       "metadata": {},
       "output_type": "pyout",
       "prompt_number": 12,
       "text": [
        "<IPython.lib.display.YouTubeVideo at 0x107f72650>"
       ]
      }
     ],
     "prompt_number": 12
    },
    {
     "cell_type": "code",
     "collapsed": false,
     "input": [
      "# generator comprehension\n",
      "\n",
      "k  = (pow(2,n) for n in xrange(64))\n",
      "k.next()"
     ],
     "language": "python",
     "metadata": {},
     "outputs": [
      {
       "metadata": {},
       "output_type": "pyout",
       "prompt_number": 18,
       "text": [
        "1"
       ]
      }
     ],
     "prompt_number": 18
    },
    {
     "cell_type": "code",
     "collapsed": false,
     "input": [
      "__builtin__.sum((pow(2,n) for n in xrange(64)))"
     ],
     "language": "python",
     "metadata": {},
     "outputs": [
      {
       "metadata": {},
       "output_type": "pyout",
       "prompt_number": 19,
       "text": [
        "18446744073709551615L"
       ]
      }
     ],
     "prompt_number": 19
    },
    {
     "cell_type": "code",
     "collapsed": false,
     "input": [
      "pow(2,64) -1"
     ],
     "language": "python",
     "metadata": {},
     "outputs": [
      {
       "metadata": {},
       "output_type": "pyout",
       "prompt_number": 20,
       "text": [
        "18446744073709551615L"
       ]
      }
     ],
     "prompt_number": 20
    },
    {
     "cell_type": "heading",
     "level": 1,
     "metadata": {},
     "source": [
      "Slicing/Indexing Review"
     ]
    },
    {
     "cell_type": "markdown",
     "metadata": {},
     "source": [
      "http://stackoverflow.com/a/509295/7782\n",
      "\n",
      "Use on any of the **sequence** types ([python docs on sequence types](http://docs.python.org/2/library/stdtypes.html#sequence-types-str-unicode-list-tuple-bytearray-buffer-xrange)):\n",
      "\n",
      "> There are seven sequence types: strings, Unicode strings, lists, tuples, bytearrays, buffers, and xrange objects.\n",
      "\n",
      "The use of square brackets are for accessing *slices* of sequence."
     ]
    },
    {
     "cell_type": "markdown",
     "metadata": {},
     "source": [
      "Let's remind ourselves of how to use slices\n",
      "\n",
      "* `s[i]`\n",
      "* `s[i:j]`\n",
      "* `s[i:j:k]`\n",
      "* meaning of negative indices\n",
      "* 0-base counting\n",
      "\n"
     ]
    },
    {
     "cell_type": "code",
     "collapsed": false,
     "input": [
      "m = range(10)\n",
      "m"
     ],
     "language": "python",
     "metadata": {},
     "outputs": [
      {
       "metadata": {},
       "output_type": "pyout",
       "prompt_number": 21,
       "text": [
        "[0, 1, 2, 3, 4, 5, 6, 7, 8, 9]"
       ]
      }
     ],
     "prompt_number": 21
    },
    {
     "cell_type": "code",
     "collapsed": false,
     "input": [
      "m[0]"
     ],
     "language": "python",
     "metadata": {},
     "outputs": [
      {
       "metadata": {},
       "output_type": "pyout",
       "prompt_number": 22,
       "text": [
        "0"
       ]
      }
     ],
     "prompt_number": 22
    },
    {
     "cell_type": "code",
     "collapsed": false,
     "input": [
      "m[-1]"
     ],
     "language": "python",
     "metadata": {},
     "outputs": [
      {
       "metadata": {},
       "output_type": "pyout",
       "prompt_number": 23,
       "text": [
        "9"
       ]
      }
     ],
     "prompt_number": 23
    },
    {
     "cell_type": "code",
     "collapsed": false,
     "input": [
      "m[::-1]"
     ],
     "language": "python",
     "metadata": {},
     "outputs": [
      {
       "metadata": {},
       "output_type": "pyout",
       "prompt_number": 24,
       "text": [
        "[9, 8, 7, 6, 5, 4, 3, 2, 1, 0]"
       ]
      }
     ],
     "prompt_number": 24
    },
    {
     "cell_type": "code",
     "collapsed": false,
     "input": [
      "m[2:3]"
     ],
     "language": "python",
     "metadata": {},
     "outputs": [
      {
       "metadata": {},
       "output_type": "pyout",
       "prompt_number": 25,
       "text": [
        "[2]"
       ]
      }
     ],
     "prompt_number": 25
    },
    {
     "cell_type": "code",
     "collapsed": false,
     "input": [
      "import string\n",
      "alphabet = string.lowercase\n",
      "\n",
      "alphabet"
     ],
     "language": "python",
     "metadata": {},
     "outputs": [
      {
       "metadata": {},
       "output_type": "pyout",
       "prompt_number": 26,
       "text": [
        "'abcdefghijklmnopqrstuvwxyz'"
       ]
      }
     ],
     "prompt_number": 26
    },
    {
     "cell_type": "code",
     "collapsed": false,
     "input": [
      "# 13 letter of the alphabet\n",
      "alphabet[12]"
     ],
     "language": "python",
     "metadata": {},
     "outputs": [
      {
       "metadata": {},
       "output_type": "pyout",
       "prompt_number": 27,
       "text": [
        "'m'"
       ]
      }
     ],
     "prompt_number": 27
    },
    {
     "cell_type": "markdown",
     "metadata": {},
     "source": [
      "**We will revisit generalized slicing in NumPy.**"
     ]
    },
    {
     "cell_type": "heading",
     "level": 1,
     "metadata": {},
     "source": [
      " Import/naming conventions and pylab mode"
     ]
    },
    {
     "cell_type": "markdown",
     "metadata": {},
     "source": [
      "<http://my.safaribooksonline.com/book/programming/python/9781449323592/1dot-preliminaries/id2699702>\n",
      "\n",
      "    import numpy as np\n",
      "    import pandas as pd\n",
      "    import matplotlib.pyplot as plt\n",
      "    from pandas import Series, DataFrame\n",
      "    \n",
      "These imports done for you in `pylab` mode.\n",
      "\n",
      "## pylab mode\n",
      "\n",
      "    ipython --help\n",
      "    \n",
      "yields\n",
      "\n",
      "    --pylab=<CaselessStrEnum> (InteractiveShellApp.pylab)\n",
      "        Default: None\n",
      "        Choices: ['tk', 'qt', 'wx', 'gtk', 'osx', 'inline', 'auto']\n",
      "        Pre-load matplotlib and numpy for interactive use, selecting a particular\n",
      "        matplotlib backend and loop integration."
     ]
    },
    {
     "cell_type": "code",
     "collapsed": false,
     "input": [
      "import numpy as np\n",
      "import pandas as pd\n",
      "import matplotlib.pyplot as plt\n",
      "from pandas import Series, DataFrame"
     ],
     "language": "python",
     "metadata": {},
     "outputs": [],
     "prompt_number": 13
    },
    {
     "cell_type": "heading",
     "level": 1,
     "metadata": {},
     "source": [
      "NumPy"
     ]
    },
    {
     "cell_type": "markdown",
     "metadata": {},
     "source": [
      "<http://www.numpy.org/>:\n",
      "\n",
      "NumPy is the **fundamental package for scientific computing with Python**. It contains among other things:\n",
      "\n",
      "* a powerful N-dimensional array object [let's start with 1 and 2 dimensions]\n",
      "* sophisticated (**broadcasting**) functions [what is *broadcasting*?]\n",
      "* tools for integrating C/C++ and Fortran code [why useful?]\n",
      "* useful linear algebra, Fourier transform, and random number capabilities\n",
      "\n",
      "Besides its obvious scientific uses, NumPy can also be used as an efficient\n",
      "multi-dimensional container of **generic data**. **Arbitrary data-types** can be\n",
      "defined. This allows NumPy to seamlessly and speedily integrate with a wide\n",
      "variety of databases.\n",
      "\n",
      "See `PfDA`, Chapter 4\n"
     ]
    },
    {
     "cell_type": "heading",
     "level": 2,
     "metadata": {},
     "source": [
      "ndarray.ndim, ndarray.shape"
     ]
    },
    {
     "cell_type": "code",
     "collapsed": false,
     "input": [
      "# first: a numpy array of zero-dimension\n",
      "\n",
      "a0 = np.array(5)\n",
      "a0"
     ],
     "language": "python",
     "metadata": {},
     "outputs": [
      {
       "metadata": {},
       "output_type": "pyout",
       "prompt_number": 29,
       "text": [
        "array(5)"
       ]
      }
     ],
     "prompt_number": 29
    },
    {
     "cell_type": "markdown",
     "metadata": {},
     "source": [
      "use [shape](http://docs.scipy.org/doc/numpy/reference/generated/numpy.ndarray.shape.html) to get a tuple of array dimensions"
     ]
    },
    {
     "cell_type": "code",
     "collapsed": false,
     "input": [
      "a0.ndim, a0.shape"
     ],
     "language": "python",
     "metadata": {},
     "outputs": [
      {
       "metadata": {},
       "output_type": "pyout",
       "prompt_number": 30,
       "text": [
        "(0, ())"
       ]
      }
     ],
     "prompt_number": 30
    },
    {
     "cell_type": "code",
     "collapsed": false,
     "input": [
      "# 1-d array\n",
      "a1 = np.array([1,2])\n",
      "a1.ndim, a1.shape"
     ],
     "language": "python",
     "metadata": {},
     "outputs": [
      {
       "metadata": {},
       "output_type": "pyout",
       "prompt_number": 31,
       "text": [
        "(1, (2,))"
       ]
      }
     ],
     "prompt_number": 31
    },
    {
     "cell_type": "code",
     "collapsed": false,
     "input": [
      "# 2-d array\n",
      "\n",
      "a2 = np.array(([1,2], [3,4]))\n",
      "a2.ndim, a2.shape"
     ],
     "language": "python",
     "metadata": {},
     "outputs": [
      {
       "metadata": {},
       "output_type": "pyout",
       "prompt_number": 32,
       "text": [
        "(2, (2, 2))"
       ]
      }
     ],
     "prompt_number": 32
    },
    {
     "cell_type": "heading",
     "level": 2,
     "metadata": {},
     "source": [
      "dtype:  type of given ndarray"
     ]
    },
    {
     "cell_type": "code",
     "collapsed": false,
     "input": [
      "a2.dtype"
     ],
     "language": "python",
     "metadata": {},
     "outputs": [
      {
       "metadata": {},
       "output_type": "pyout",
       "prompt_number": 33,
       "text": [
        "dtype('int64')"
       ]
      }
     ],
     "prompt_number": 33
    },
    {
     "cell_type": "heading",
     "level": 2,
     "metadata": {},
     "source": [
      "np.arange"
     ]
    },
    {
     "cell_type": "markdown",
     "metadata": {},
     "source": [
      "[arange](http://docs.scipy.org/doc/numpy/reference/generated/numpy.arange.html#numpy.arange) is one instance of [`ndarray` creating function in NumPy](http://docs.scipy.org/doc/numpy/reference/routines.array-creation.html)\n",
      "\n",
      "Compare to `xrange`."
     ]
    },
    {
     "cell_type": "code",
     "collapsed": false,
     "input": [
      "from numpy import arange"
     ],
     "language": "python",
     "metadata": {},
     "outputs": [],
     "prompt_number": 34
    },
    {
     "cell_type": "code",
     "collapsed": false,
     "input": [
      "type(arange(10))"
     ],
     "language": "python",
     "metadata": {},
     "outputs": [
      {
       "metadata": {},
       "output_type": "pyout",
       "prompt_number": 35,
       "text": [
        "numpy.ndarray"
       ]
      }
     ],
     "prompt_number": 35
    },
    {
     "cell_type": "code",
     "collapsed": false,
     "input": [
      "for k in arange(10):\n",
      "    print k"
     ],
     "language": "python",
     "metadata": {},
     "outputs": [
      {
       "output_type": "stream",
       "stream": "stdout",
       "text": [
        "0\n",
        "1\n",
        "2\n",
        "3\n",
        "4\n",
        "5\n",
        "6\n",
        "7\n",
        "8\n",
        "9\n"
       ]
      }
     ],
     "prompt_number": 36
    },
    {
     "cell_type": "code",
     "collapsed": false,
     "input": [
      "list(arange(10)) == list(xrange(10))"
     ],
     "language": "python",
     "metadata": {},
     "outputs": [
      {
       "metadata": {},
       "output_type": "pyout",
       "prompt_number": 37,
       "text": [
        "True"
       ]
      }
     ],
     "prompt_number": 37
    },
    {
     "cell_type": "heading",
     "level": 2,
     "metadata": {},
     "source": [
      "NumPy.ndarray.reshape"
     ]
    },
    {
     "cell_type": "code",
     "collapsed": false,
     "input": [
      "#how to map 0..63 -> 2x2 array\n",
      "a3 = np.arange(64).reshape(8,8)\n",
      "a3"
     ],
     "language": "python",
     "metadata": {},
     "outputs": [
      {
       "metadata": {},
       "output_type": "pyout",
       "prompt_number": 38,
       "text": [
        "array([[ 0,  1,  2,  3,  4,  5,  6,  7],\n",
        "       [ 8,  9, 10, 11, 12, 13, 14, 15],\n",
        "       [16, 17, 18, 19, 20, 21, 22, 23],\n",
        "       [24, 25, 26, 27, 28, 29, 30, 31],\n",
        "       [32, 33, 34, 35, 36, 37, 38, 39],\n",
        "       [40, 41, 42, 43, 44, 45, 46, 47],\n",
        "       [48, 49, 50, 51, 52, 53, 54, 55],\n",
        "       [56, 57, 58, 59, 60, 61, 62, 63]])"
       ]
      }
     ],
     "prompt_number": 38
    },
    {
     "cell_type": "code",
     "collapsed": false,
     "input": [
      "# 2nd row, 3rd column --> remember index starts at 0\n",
      "a3[1,2]"
     ],
     "language": "python",
     "metadata": {},
     "outputs": [
      {
       "metadata": {},
       "output_type": "pyout",
       "prompt_number": 39,
       "text": [
        "10"
       ]
      }
     ],
     "prompt_number": 39
    },
    {
     "cell_type": "code",
     "collapsed": false,
     "input": [
      "# check that reshape works\n",
      "\n",
      "for i in range(8):\n",
      "    for j in range(8):\n",
      "        if a3[i,j] != i*8 + j:\n",
      "            print i, j"
     ],
     "language": "python",
     "metadata": {},
     "outputs": [],
     "prompt_number": 40
    },
    {
     "cell_type": "markdown",
     "metadata": {},
     "source": [
      "##scalar multiplication\n",
      "\n",
      "example of [broadcasting](http://docs.scipy.org/doc/numpy/user/basics.broadcasting.html):\n",
      "\n",
      "> The term broadcasting describes how numpy treats arrays with different shapes during arithmetic operations. Subject to certain constraints, the smaller array is \u201cbroadcast\u201d across the larger array so that they have compatible shapes. Broadcasting provides a means of vectorizing array operations so that looping occurs in C instead of Python. It does this without making needless copies of data and usually leads to efficient algorithm implementations. There are, however, cases where broadcasting is a bad idea because it leads to inefficient use of memory that slows computation."
     ]
    },
    {
     "cell_type": "code",
     "collapsed": false,
     "input": [
      "2*a3"
     ],
     "language": "python",
     "metadata": {},
     "outputs": [
      {
       "metadata": {},
       "output_type": "pyout",
       "prompt_number": 41,
       "text": [
        "array([[  0,   2,   4,   6,   8,  10,  12,  14],\n",
        "       [ 16,  18,  20,  22,  24,  26,  28,  30],\n",
        "       [ 32,  34,  36,  38,  40,  42,  44,  46],\n",
        "       [ 48,  50,  52,  54,  56,  58,  60,  62],\n",
        "       [ 64,  66,  68,  70,  72,  74,  76,  78],\n",
        "       [ 80,  82,  84,  86,  88,  90,  92,  94],\n",
        "       [ 96,  98, 100, 102, 104, 106, 108, 110],\n",
        "       [112, 114, 116, 118, 120, 122, 124, 126]])"
       ]
      }
     ],
     "prompt_number": 41
    },
    {
     "cell_type": "heading",
     "level": 2,
     "metadata": {},
     "source": [
      "add 2 to all elements in a3"
     ]
    },
    {
     "cell_type": "code",
     "collapsed": false,
     "input": [
      "a3+2"
     ],
     "language": "python",
     "metadata": {},
     "outputs": [
      {
       "metadata": {},
       "output_type": "pyout",
       "prompt_number": 42,
       "text": [
        "array([[ 2,  3,  4,  5,  6,  7,  8,  9],\n",
        "       [10, 11, 12, 13, 14, 15, 16, 17],\n",
        "       [18, 19, 20, 21, 22, 23, 24, 25],\n",
        "       [26, 27, 28, 29, 30, 31, 32, 33],\n",
        "       [34, 35, 36, 37, 38, 39, 40, 41],\n",
        "       [42, 43, 44, 45, 46, 47, 48, 49],\n",
        "       [50, 51, 52, 53, 54, 55, 56, 57],\n",
        "       [58, 59, 60, 61, 62, 63, 64, 65]])"
       ]
      }
     ],
     "prompt_number": 42
    },
    {
     "cell_type": "heading",
     "level": 2,
     "metadata": {},
     "source": [
      "sorting"
     ]
    },
    {
     "cell_type": "code",
     "collapsed": false,
     "input": [
      "# reverse sort -- best way?\n",
      "#http://stackoverflow.com/a/6771620/7782\n",
      "\n",
      "np.sort(np.arange(100))[::-1]"
     ],
     "language": "python",
     "metadata": {},
     "outputs": [
      {
       "metadata": {},
       "output_type": "pyout",
       "prompt_number": 43,
       "text": [
        "array([99, 98, 97, 96, 95, 94, 93, 92, 91, 90, 89, 88, 87, 86, 85, 84, 83,\n",
        "       82, 81, 80, 79, 78, 77, 76, 75, 74, 73, 72, 71, 70, 69, 68, 67, 66,\n",
        "       65, 64, 63, 62, 61, 60, 59, 58, 57, 56, 55, 54, 53, 52, 51, 50, 49,\n",
        "       48, 47, 46, 45, 44, 43, 42, 41, 40, 39, 38, 37, 36, 35, 34, 33, 32,\n",
        "       31, 30, 29, 28, 27, 26, 25, 24, 23, 22, 21, 20, 19, 18, 17, 16, 15,\n",
        "       14, 13, 12, 11, 10,  9,  8,  7,  6,  5,  4,  3,  2,  1,  0])"
       ]
      }
     ],
     "prompt_number": 43
    },
    {
     "cell_type": "heading",
     "level": 2,
     "metadata": {},
     "source": [
      "Boolean slice:  important novel type of slicing"
     ]
    },
    {
     "cell_type": "markdown",
     "metadata": {},
     "source": [
      "**This stuff is a bit tricky** (see PfDA, pp. 89-92)\n",
      "\n",
      "Consider example of picking out whole numbers less than 20 that are evenly divisible by 3.  Generate a list of such numbers"
     ]
    },
    {
     "cell_type": "code",
     "collapsed": false,
     "input": [
      "# list comprehension\n",
      "\n",
      "[i for i in xrange(20) if i % 3 == 0]"
     ],
     "language": "python",
     "metadata": {},
     "outputs": [
      {
       "metadata": {},
       "output_type": "pyout",
       "prompt_number": 44,
       "text": [
        "[0, 3, 6, 9, 12, 15, 18]"
       ]
      }
     ],
     "prompt_number": 44
    },
    {
     "cell_type": "code",
     "collapsed": false,
     "input": [
      "a3 = np.arange(20) \n",
      "a3"
     ],
     "language": "python",
     "metadata": {},
     "outputs": [
      {
       "metadata": {},
       "output_type": "pyout",
       "prompt_number": 45,
       "text": [
        "array([ 0,  1,  2,  3,  4,  5,  6,  7,  8,  9, 10, 11, 12, 13, 14, 15, 16,\n",
        "       17, 18, 19])"
       ]
      }
     ],
     "prompt_number": 45
    },
    {
     "cell_type": "code",
     "collapsed": false,
     "input": [
      "# basic indexing\n",
      "\n",
      "print a3[0]\n",
      "print a3[::-1]\n",
      "print a3[2:5]"
     ],
     "language": "python",
     "metadata": {},
     "outputs": [
      {
       "output_type": "stream",
       "stream": "stdout",
       "text": [
        "0\n",
        "[19 18 17 16 15 14 13 12 11 10  9  8  7  6  5  4  3  2  1  0]\n",
        "[2 3 4]\n"
       ]
      }
     ],
     "prompt_number": 46
    },
    {
     "cell_type": "code",
     "collapsed": false,
     "input": [
      "np.mod(a3, 3)"
     ],
     "language": "python",
     "metadata": {},
     "outputs": [
      {
       "metadata": {},
       "output_type": "pyout",
       "prompt_number": 47,
       "text": [
        "array([0, 1, 2, 0, 1, 2, 0, 1, 2, 0, 1, 2, 0, 1, 2, 0, 1, 2, 0, 1])"
       ]
      }
     ],
     "prompt_number": 47
    },
    {
     "cell_type": "code",
     "collapsed": false,
     "input": [
      "np.mod(a3, 3) == 0"
     ],
     "language": "python",
     "metadata": {},
     "outputs": [
      {
       "metadata": {},
       "output_type": "pyout",
       "prompt_number": 48,
       "text": [
        "array([ True, False, False,  True, False, False,  True, False, False,\n",
        "        True, False, False,  True, False, False,  True, False, False,\n",
        "        True, False], dtype=bool)"
       ]
      }
     ],
     "prompt_number": 48
    },
    {
     "cell_type": "code",
     "collapsed": false,
     "input": [
      "divisible_by_3 = np.mod(a3, 3) == 0"
     ],
     "language": "python",
     "metadata": {},
     "outputs": [],
     "prompt_number": 49
    },
    {
     "cell_type": "code",
     "collapsed": false,
     "input": [
      "a3[divisible_by_3]"
     ],
     "language": "python",
     "metadata": {},
     "outputs": [
      {
       "metadata": {},
       "output_type": "pyout",
       "prompt_number": 50,
       "text": [
        "array([ 0,  3,  6,  9, 12, 15, 18])"
       ]
      }
     ],
     "prompt_number": 50
    },
    {
     "cell_type": "code",
     "collapsed": false,
     "input": [
      "# if you want to understand this in terms of the overloaded operators -- don't worry if you don't get this.\n",
      "a3.__getitem__(np.mod(a3,3).__eq__(0))"
     ],
     "language": "python",
     "metadata": {},
     "outputs": [
      {
       "metadata": {},
       "output_type": "pyout",
       "prompt_number": 51,
       "text": [
        "array([ 0,  3,  6,  9, 12, 15, 18])"
       ]
      }
     ],
     "prompt_number": 51
    },
    {
     "cell_type": "heading",
     "level": 2,
     "metadata": {},
     "source": [
      "Exercise:  Calculate a series that holds all the squares less than 100"
     ]
    },
    {
     "cell_type": "markdown",
     "metadata": {},
     "source": [
      "Use arange, np.sqrt, [astype](http://docs.scipy.org/doc/numpy/reference/generated/numpy.ndarray.astype.html)"
     ]
    },
    {
     "cell_type": "code",
     "collapsed": false,
     "input": [
      "a4 = arange(100)\n",
      "a4sqrt = np.sqrt(a4)\n",
      "a4[a4sqrt == a4sqrt.astype(np.int)]"
     ],
     "language": "python",
     "metadata": {},
     "outputs": [
      {
       "metadata": {},
       "output_type": "pyout",
       "prompt_number": 52,
       "text": [
        "array([ 0,  1,  4,  9, 16, 25, 36, 49, 64, 81])"
       ]
      }
     ],
     "prompt_number": 52
    },
    {
     "cell_type": "heading",
     "level": 2,
     "metadata": {},
     "source": [
      "We will come back to indexing later."
     ]
    },
    {
     "cell_type": "markdown",
     "metadata": {},
     "source": [
      "http://docs.scipy.org/doc/numpy/reference/arrays.indexing.html"
     ]
    },
    {
     "cell_type": "heading",
     "level": 1,
     "metadata": {},
     "source": [
      "Pandas"
     ]
    },
    {
     "cell_type": "heading",
     "level": 2,
     "metadata": {},
     "source": [
      "pandas.Series"
     ]
    },
    {
     "cell_type": "markdown",
     "metadata": {},
     "source": [
      "Make a series out of an array"
     ]
    },
    {
     "cell_type": "code",
     "collapsed": false,
     "input": [
      "s1 = Series(arange(5))"
     ],
     "language": "python",
     "metadata": {},
     "outputs": [],
     "prompt_number": 14
    },
    {
     "cell_type": "markdown",
     "metadata": {},
     "source": [
      "  confirm that the type of s1 is  what you would expect"
     ]
    },
    {
     "cell_type": "code",
     "collapsed": false,
     "input": [
      "type(s1)"
     ],
     "language": "python",
     "metadata": {},
     "outputs": [
      {
       "metadata": {},
       "output_type": "pyout",
       "prompt_number": 15,
       "text": [
        "pandas.core.series.Series"
       ]
      }
     ],
     "prompt_number": 15
    },
    {
     "cell_type": "markdown",
     "metadata": {},
     "source": [
      "show that the series is also an array"
     ]
    },
    {
     "cell_type": "code",
     "collapsed": false,
     "input": [
      "s1.ndim, isinstance(s1, np.ndarray)"
     ],
     "language": "python",
     "metadata": {},
     "outputs": [
      {
       "metadata": {},
       "output_type": "pyout",
       "prompt_number": 16,
       "text": [
        "(1, False)"
       ]
      }
     ],
     "prompt_number": 16
    },
    {
     "cell_type": "code",
     "collapsed": false,
     "input": [
      "s1.index"
     ],
     "language": "python",
     "metadata": {},
     "outputs": [
      {
       "metadata": {},
       "output_type": "pyout",
       "prompt_number": 17,
       "text": [
        "Int64Index([0, 1, 2, 3, 4], dtype='int64')"
       ]
      }
     ],
     "prompt_number": 17
    },
    {
     "cell_type": "code",
     "collapsed": false,
     "input": [
      "import string\n",
      "allTheLetters = string.lowercase\n",
      "allTheLetters"
     ],
     "language": "python",
     "metadata": {},
     "outputs": [
      {
       "metadata": {},
       "output_type": "pyout",
       "prompt_number": 18,
       "text": [
        "'abcdefghijklmnopqrstuvwxyz'"
       ]
      }
     ],
     "prompt_number": 18
    },
    {
     "cell_type": "code",
     "collapsed": false,
     "input": [
      "s2 = Series(data=arange(5), index=list(allTheLetters)[:5])\n",
      "s2"
     ],
     "language": "python",
     "metadata": {},
     "outputs": [
      {
       "metadata": {},
       "output_type": "pyout",
       "prompt_number": 19,
       "text": [
        "a    0\n",
        "b    1\n",
        "c    2\n",
        "d    3\n",
        "e    4\n",
        "dtype: int64"
       ]
      }
     ],
     "prompt_number": 19
    },
    {
     "cell_type": "code",
     "collapsed": false,
     "input": [
      "s2.index"
     ],
     "language": "python",
     "metadata": {},
     "outputs": [
      {
       "metadata": {},
       "output_type": "pyout",
       "prompt_number": 20,
       "text": [
        "Index([u'a', u'b', u'c', u'd', u'e'], dtype='object')"
       ]
      }
     ],
     "prompt_number": 20
    },
    {
     "cell_type": "markdown",
     "metadata": {},
     "source": [
      "http://my.safaribooksonline.com/book/programming/python/9781449323592/5dot-getting-started-with-pandas/id2828378 :\n",
      "\n",
      "> Compared with a regular NumPy array, you can use values in the index when selecting single values or a set of values"
     ]
    },
    {
     "cell_type": "code",
     "collapsed": false,
     "input": [
      "# can use both numeric indexing and the labels\n",
      "s2[0], s2['a']"
     ],
     "language": "python",
     "metadata": {},
     "outputs": [
      {
       "metadata": {},
       "output_type": "pyout",
       "prompt_number": 21,
       "text": [
        "(0, 0)"
       ]
      }
     ],
     "prompt_number": 21
    },
    {
     "cell_type": "code",
     "collapsed": false,
     "input": [
      "for i in range(len(s2)):\n",
      "    print i, s2[i]"
     ],
     "language": "python",
     "metadata": {},
     "outputs": [
      {
       "output_type": "stream",
       "stream": "stdout",
       "text": [
        "0 0\n",
        "1 1\n",
        "2 2\n",
        "3 3\n",
        "4 4\n"
       ]
      }
     ],
     "prompt_number": 22
    },
    {
     "cell_type": "markdown",
     "metadata": {},
     "source": [
      "it is possible conflict in indexing -- consider"
     ]
    },
    {
     "cell_type": "code",
     "collapsed": false,
     "input": [
      "s3 = Series(data=['albert', 'betty', 'cathy'], index=[3,1, 0])\n",
      "s3"
     ],
     "language": "python",
     "metadata": {},
     "outputs": [
      {
       "metadata": {},
       "output_type": "pyout",
       "prompt_number": 62,
       "text": [
        "3    albert\n",
        "1     betty\n",
        "0     cathy\n",
        "dtype: object"
       ]
      }
     ],
     "prompt_number": 62
    },
    {
     "cell_type": "code",
     "collapsed": false,
     "input": [
      "s3[0], list(s3)[0]"
     ],
     "language": "python",
     "metadata": {},
     "outputs": [
      {
       "metadata": {},
       "output_type": "pyout",
       "prompt_number": 63,
       "text": [
        "('cathy', 'albert')"
       ]
      }
     ],
     "prompt_number": 63
    },
    {
     "cell_type": "markdown",
     "metadata": {},
     "source": [
      "but slicing works to return specific numeric index"
     ]
    },
    {
     "cell_type": "code",
     "collapsed": false,
     "input": [
      "s3[::-1]"
     ],
     "language": "python",
     "metadata": {},
     "outputs": [
      {
       "metadata": {},
       "output_type": "pyout",
       "prompt_number": 64,
       "text": [
        "0     cathy\n",
        "1     betty\n",
        "3    albert\n",
        "dtype: object"
       ]
      }
     ],
     "prompt_number": 64
    },
    {
     "cell_type": "code",
     "collapsed": false,
     "input": [
      "for i in range(len(s3)):\n",
      "    print i, s3[i:i+1]"
     ],
     "language": "python",
     "metadata": {},
     "outputs": [
      {
       "output_type": "stream",
       "stream": "stdout",
       "text": [
        "0 3    albert\n",
        "dtype: object\n",
        "1 1    betty\n",
        "dtype: object\n",
        "2 0    cathy\n",
        "dtype: object\n"
       ]
      }
     ],
     "prompt_number": 65
    },
    {
     "cell_type": "code",
     "collapsed": false,
     "input": [
      "s3.name = 'person names'\n",
      "s3.name"
     ],
     "language": "python",
     "metadata": {},
     "outputs": [
      {
       "metadata": {},
       "output_type": "pyout",
       "prompt_number": 66,
       "text": [
        "'person names'"
       ]
      }
     ],
     "prompt_number": 66
    },
    {
     "cell_type": "code",
     "collapsed": false,
     "input": [
      "s3.index.name = 'confounding label'\n",
      "s3.index.name"
     ],
     "language": "python",
     "metadata": {},
     "outputs": [
      {
       "metadata": {},
       "output_type": "pyout",
       "prompt_number": 67,
       "text": [
        "'confounding label'"
       ]
      }
     ],
     "prompt_number": 67
    },
    {
     "cell_type": "code",
     "collapsed": false,
     "input": [
      "s3"
     ],
     "language": "python",
     "metadata": {},
     "outputs": [
      {
       "metadata": {},
       "output_type": "pyout",
       "prompt_number": 68,
       "text": [
        "confounding label\n",
        "3                    albert\n",
        "1                     betty\n",
        "0                     cathy\n",
        "Name: person names, dtype: object"
       ]
      }
     ],
     "prompt_number": 68
    },
    {
     "cell_type": "markdown",
     "metadata": {},
     "source": [
      "Important points remaining:\n",
      "\n",
      "* \"NumPy array operations, such as filtering with a boolean array, scalar multiplication, or applying math functions, will preserve the index-value link\"\n",
      "* \"Another way to think about a Series is as a fixed-length, ordered dict, as it is a mapping of index values to data values. It can be substituted into many functions that expect a dict\""
     ]
    },
    {
     "cell_type": "heading",
     "level": 2,
     "metadata": {},
     "source": [
      "Gauss & Chess revisited, using Series"
     ]
    },
    {
     "cell_type": "markdown",
     "metadata": {},
     "source": [
      "You get some nice `matplotlib` integration via pandas"
     ]
    },
    {
     "cell_type": "code",
     "collapsed": false,
     "input": [
      "# Gauss addition using np.arange, Series \n",
      "\n",
      "from pandas import Series\n",
      "Series(arange(101).cumsum()).plot()"
     ],
     "language": "python",
     "metadata": {},
     "outputs": [
      {
       "metadata": {},
       "output_type": "pyout",
       "prompt_number": 69,
       "text": [
        "<matplotlib.axes.AxesSubplot at 0x106f4e910>"
       ]
      },
      {
       "metadata": {},
       "output_type": "display_data",
       "png": "[encoded data removed]",
       "text": [
        "<matplotlib.figure.Figure at 0x106f4e9d0>"
       ]
      }
     ],
     "prompt_number": 69
    },
    {
     "cell_type": "code",
     "collapsed": false,
     "input": [
      "from pandas import Series\n",
      "Series((pow(2,k) for k in xrange(64)), dtype=np.float64).cumsum().plot()"
     ],
     "language": "python",
     "metadata": {},
     "outputs": [
      {
       "metadata": {},
       "output_type": "pyout",
       "prompt_number": 70,
       "text": [
        "<matplotlib.axes.AxesSubplot at 0x106f87290>"
       ]
      },
      {
       "metadata": {},
       "output_type": "display_data",
       "png": "[encoded data removed]",
       "text": [
        "<matplotlib.figure.Figure at 0x106f4e310>"
       ]
      }
     ],
     "prompt_number": 70
    },
    {
     "cell_type": "heading",
     "level": 2,
     "metadata": {},
     "source": [
      "Wheat and Chessboard w/ NumPy"
     ]
    },
    {
     "cell_type": "markdown",
     "metadata": {},
     "source": [
      "http://docs.scipy.org/doc/numpy/reference/ufuncs.html"
     ]
    },
    {
     "cell_type": "code",
     "collapsed": false,
     "input": [
      "# http://docs.scipy.org/doc/numpy/reference/generated/numpy.ones.html\n",
      "from numpy import ones"
     ],
     "language": "python",
     "metadata": {},
     "outputs": [],
     "prompt_number": 71
    },
    {
     "cell_type": "code",
     "collapsed": false,
     "input": [
      "2*ones(64, dtype=np.int)"
     ],
     "language": "python",
     "metadata": {},
     "outputs": [
      {
       "metadata": {},
       "output_type": "pyout",
       "prompt_number": 72,
       "text": [
        "array([2, 2, 2, 2, 2, 2, 2, 2, 2, 2, 2, 2, 2, 2, 2, 2, 2, 2, 2, 2, 2, 2, 2,\n",
        "       2, 2, 2, 2, 2, 2, 2, 2, 2, 2, 2, 2, 2, 2, 2, 2, 2, 2, 2, 2, 2, 2, 2,\n",
        "       2, 2, 2, 2, 2, 2, 2, 2, 2, 2, 2, 2, 2, 2, 2, 2, 2, 2])"
       ]
      }
     ],
     "prompt_number": 72
    },
    {
     "cell_type": "code",
     "collapsed": false,
     "input": [
      "arange(64)"
     ],
     "language": "python",
     "metadata": {},
     "outputs": [
      {
       "metadata": {},
       "output_type": "pyout",
       "prompt_number": 73,
       "text": [
        "array([ 0,  1,  2,  3,  4,  5,  6,  7,  8,  9, 10, 11, 12, 13, 14, 15, 16,\n",
        "       17, 18, 19, 20, 21, 22, 23, 24, 25, 26, 27, 28, 29, 30, 31, 32, 33,\n",
        "       34, 35, 36, 37, 38, 39, 40, 41, 42, 43, 44, 45, 46, 47, 48, 49, 50,\n",
        "       51, 52, 53, 54, 55, 56, 57, 58, 59, 60, 61, 62, 63])"
       ]
      }
     ],
     "prompt_number": 73
    },
    {
     "cell_type": "code",
     "collapsed": false,
     "input": [
      "sum(np.power(2, arange(64, dtype=np.uint64)))"
     ],
     "language": "python",
     "metadata": {},
     "outputs": [
      {
       "metadata": {},
       "output_type": "pyout",
       "prompt_number": 74,
       "text": [
        "1.8446744073709552e+19"
       ]
      }
     ],
     "prompt_number": 74
    },
    {
     "cell_type": "code",
     "collapsed": false,
     "input": [
      "sum(np.power(2*ones(64, dtype=np.uint64), arange(64))) "
     ],
     "language": "python",
     "metadata": {},
     "outputs": [
      {
       "metadata": {},
       "output_type": "pyout",
       "prompt_number": 75,
       "text": [
        "1.8446744073709552e+19"
       ]
      }
     ],
     "prompt_number": 75
    },
    {
     "cell_type": "code",
     "collapsed": false,
     "input": [
      "precise_ans = sum([pow(2,n) for n in xrange(64)])\n",
      "np_ans = sum(np.power(2*ones(64, dtype=np.uint64), arange(64)))\n",
      "\n",
      "precise_ans, np_ans\n",
      "\n"
     ],
     "language": "python",
     "metadata": {},
     "outputs": [
      {
       "metadata": {},
       "output_type": "pyout",
       "prompt_number": 76,
       "text": [
        "(18446744073709551615L, 1.8446744073709552e+19)"
       ]
      }
     ],
     "prompt_number": 76
    },
    {
     "cell_type": "code",
     "collapsed": false,
     "input": [
      "# Raise an assertion if two items are not equal up to desired precision.\n",
      "np.testing.assert_almost_equal(precise_ans, np_ans) is None"
     ],
     "language": "python",
     "metadata": {},
     "outputs": [
      {
       "metadata": {},
       "output_type": "pyout",
       "prompt_number": 77,
       "text": [
        "True"
       ]
      }
     ],
     "prompt_number": 77
    },
    {
     "cell_type": "heading",
     "level": 1,
     "metadata": {},
     "source": [
      "DataFrame"
     ]
    },
    {
     "cell_type": "markdown",
     "metadata": {},
     "source": [
      "so many ways to use DataFrames....let's try them out in context of the census calculations"
     ]
    },
    {
     "cell_type": "code",
     "collapsed": false,
     "input": [
      "# not really intuitive to me:  reversal of column/row\n",
      "DataFrame(dict([('06', {'name': 'California', 'abbreviation':'CA'})] ))"
     ],
     "language": "python",
     "metadata": {},
     "outputs": [
      {
       "html": [
        "<div style=\"max-height:1000px;max-width:1500px;overflow:auto;\">\n",
        "<table border=\"1\" class=\"dataframe\">\n",
        "  <thead>\n",
        "    <tr style=\"text-align: right;\">\n",
        "      <th></th>\n",
        "      <th>06</th>\n",
        "    </tr>\n",
        "  </thead>\n",
        "  <tbody>\n",
        "    <tr>\n",
        "      <th>abbreviation</th>\n",
        "      <td>         CA</td>\n",
        "    </tr>\n",
        "    <tr>\n",
        "      <th>name</th>\n",
        "      <td> California</td>\n",
        "    </tr>\n",
        "  </tbody>\n",
        "</table>\n",
        "</div>"
       ],
       "metadata": {},
       "output_type": "pyout",
       "prompt_number": 78,
       "text": [
        "                      06\n",
        "abbreviation          CA\n",
        "name          California"
       ]
      }
     ],
     "prompt_number": 78
    },
    {
     "cell_type": "code",
     "collapsed": false,
     "input": [
      "DataFrame([{'name': 'California', 'abbreviation':'CA'}], index= ['06'])"
     ],
     "language": "python",
     "metadata": {},
     "outputs": [
      {
       "html": [
        "<div style=\"max-height:1000px;max-width:1500px;overflow:auto;\">\n",
        "<table border=\"1\" class=\"dataframe\">\n",
        "  <thead>\n",
        "    <tr style=\"text-align: right;\">\n",
        "      <th></th>\n",
        "      <th>abbreviation</th>\n",
        "      <th>name</th>\n",
        "    </tr>\n",
        "  </thead>\n",
        "  <tbody>\n",
        "    <tr>\n",
        "      <th>06</th>\n",
        "      <td> CA</td>\n",
        "      <td> California</td>\n",
        "    </tr>\n",
        "  </tbody>\n",
        "</table>\n",
        "</div>"
       ],
       "metadata": {},
       "output_type": "pyout",
       "prompt_number": 79,
       "text": [
        "   abbreviation        name\n",
        "06           CA  California"
       ]
      }
     ],
     "prompt_number": 79
    },
    {
     "cell_type": "code",
     "collapsed": false,
     "input": [
      "Series(['06'], name='FIPS')"
     ],
     "language": "python",
     "metadata": {},
     "outputs": [
      {
       "metadata": {},
       "output_type": "pyout",
       "prompt_number": 80,
       "text": [
        "0    06\n",
        "Name: FIPS, dtype: object"
       ]
      }
     ],
     "prompt_number": 80
    },
    {
     "cell_type": "code",
     "collapsed": false,
     "input": [
      "DataFrame([{'name': 'California', 'abbreviation':'CA'}], \n",
      "          index=Series(['06'], name='FIPS'))"
     ],
     "language": "python",
     "metadata": {},
     "outputs": [
      {
       "html": [
        "<div style=\"max-height:1000px;max-width:1500px;overflow:auto;\">\n",
        "<table border=\"1\" class=\"dataframe\">\n",
        "  <thead>\n",
        "    <tr style=\"text-align: right;\">\n",
        "      <th></th>\n",
        "      <th>abbreviation</th>\n",
        "      <th>name</th>\n",
        "    </tr>\n",
        "    <tr>\n",
        "      <th>FIPS</th>\n",
        "      <th></th>\n",
        "      <th></th>\n",
        "    </tr>\n",
        "  </thead>\n",
        "  <tbody>\n",
        "    <tr>\n",
        "      <th>06</th>\n",
        "      <td> CA</td>\n",
        "      <td> California</td>\n",
        "    </tr>\n",
        "  </tbody>\n",
        "</table>\n",
        "</div>"
       ],
       "metadata": {},
       "output_type": "pyout",
       "prompt_number": 81,
       "text": [
        "     abbreviation        name\n",
        "FIPS                         \n",
        "06             CA  California"
       ]
      }
     ],
     "prompt_number": 81
    },
    {
     "cell_type": "heading",
     "level": 1,
     "metadata": {},
     "source": [
      "Advanced: Operator Overloading"
     ]
    },
    {
     "cell_type": "code",
     "collapsed": false,
     "input": [
      "n0 = 5\n",
      "n0 == 5"
     ],
     "language": "python",
     "metadata": {},
     "outputs": [
      {
       "metadata": {},
       "output_type": "pyout",
       "prompt_number": 82,
       "text": [
        "True"
       ]
      }
     ],
     "prompt_number": 82
    },
    {
     "cell_type": "markdown",
     "metadata": {},
     "source": [
      "Now I thought I'd be able to use a `n0.__eq__(5)` but nope -- it's complicated -- see http://stackoverflow.com/questions/2281222/why-when-in-python-does-x-y-call-y-eq-x#comment2254663_2282795"
     ]
    },
    {
     "cell_type": "code",
     "collapsed": false,
     "input": [
      "try:\n",
      "    n0.__eq__(5)\n",
      "except Exception as e:\n",
      "    print e"
     ],
     "language": "python",
     "metadata": {},
     "outputs": [
      {
       "output_type": "stream",
       "stream": "stdout",
       "text": [
        "'int' object has no attribute '__eq__'\n"
       ]
      }
     ],
     "prompt_number": 83
    },
    {
     "cell_type": "markdown",
     "metadata": {},
     "source": [
      "can do: `int.__cmp__(x)`"
     ]
    },
    {
     "cell_type": "code",
     "collapsed": false,
     "input": [
      "(n0.__cmp__(4), n0.__cmp__(5), n0.__cmp__(6))"
     ],
     "language": "python",
     "metadata": {},
     "outputs": [
      {
       "metadata": {},
       "output_type": "pyout",
       "prompt_number": 84,
       "text": [
        "(1, 0, -1)"
       ]
      }
     ],
     "prompt_number": 84
    },
    {
     "cell_type": "markdown",
     "metadata": {},
     "source": [
      "how about ndarray?"
     ]
    },
    {
     "cell_type": "code",
     "collapsed": false,
     "input": [
      "arange(5) == 2 "
     ],
     "language": "python",
     "metadata": {},
     "outputs": [
      {
       "metadata": {},
       "output_type": "pyout",
       "prompt_number": 85,
       "text": [
        "array([False, False,  True, False, False], dtype=bool)"
       ]
      }
     ],
     "prompt_number": 85
    },
    {
     "cell_type": "code",
     "collapsed": false,
     "input": [
      "# \n",
      "# http://docs.scipy.org/doc/numpy/reference/generated/numpy.array_equal.html\n",
      "np.array_equal(arange(5) == 2 , arange(5).__eq__(2))"
     ],
     "language": "python",
     "metadata": {},
     "outputs": [
      {
       "metadata": {},
       "output_type": "pyout",
       "prompt_number": 86,
       "text": [
        "True"
       ]
      }
     ],
     "prompt_number": 86
    },
    {
     "cell_type": "heading",
     "level": 2,
     "metadata": {},
     "source": [
      "Appendix: underlying mechanics of slicing"
     ]
    },
    {
     "cell_type": "markdown",
     "metadata": {},
     "source": [
      "Useful if you want to understand how the slicing syntax really works."
     ]
    },
    {
     "cell_type": "code",
     "collapsed": false,
     "input": [
      "isinstance([1,2], list)"
     ],
     "language": "python",
     "metadata": {},
     "outputs": [
      {
       "metadata": {},
       "output_type": "pyout",
       "prompt_number": 87,
       "text": [
        "True"
       ]
      }
     ],
     "prompt_number": 87
    },
    {
     "cell_type": "code",
     "collapsed": false,
     "input": [
      "isinstance(arange(5), list) # what does that mean -- could still be list-like"
     ],
     "language": "python",
     "metadata": {},
     "outputs": [
      {
       "metadata": {},
       "output_type": "pyout",
       "prompt_number": 88,
       "text": [
        "False"
       ]
      }
     ],
     "prompt_number": 88
    },
    {
     "cell_type": "code",
     "collapsed": false,
     "input": [
      "l1 = range(5)"
     ],
     "language": "python",
     "metadata": {},
     "outputs": [],
     "prompt_number": 89
    },
    {
     "cell_type": "code",
     "collapsed": false,
     "input": [
      "type(l1)"
     ],
     "language": "python",
     "metadata": {},
     "outputs": [
      {
       "metadata": {},
       "output_type": "pyout",
       "prompt_number": 90,
       "text": [
        "list"
       ]
      }
     ],
     "prompt_number": 90
    },
    {
     "cell_type": "code",
     "collapsed": false,
     "input": [
      "l1[0], l1.__getitem__(0), l1[0] == l1.__getitem__(0)"
     ],
     "language": "python",
     "metadata": {},
     "outputs": [
      {
       "metadata": {},
       "output_type": "pyout",
       "prompt_number": 91,
       "text": [
        "(0, 0, True)"
       ]
      }
     ],
     "prompt_number": 91
    },
    {
     "cell_type": "code",
     "collapsed": false,
     "input": [
      "l1[::-1], l1.__getitem__(slice(None, None, -1))"
     ],
     "language": "python",
     "metadata": {},
     "outputs": [
      {
       "metadata": {},
       "output_type": "pyout",
       "prompt_number": 92,
       "text": [
        "([4, 3, 2, 1, 0], [4, 3, 2, 1, 0])"
       ]
      }
     ],
     "prompt_number": 92
    },
    {
     "cell_type": "code",
     "collapsed": false,
     "input": [
      "ar1 = arange(5)\n",
      "ar1[3], ar1.__getitem__(3)"
     ],
     "language": "python",
     "metadata": {},
     "outputs": [
      {
       "metadata": {},
       "output_type": "pyout",
       "prompt_number": 93,
       "text": [
        "(3, 3)"
       ]
      }
     ],
     "prompt_number": 93
    },
    {
     "cell_type": "code",
     "collapsed": false,
     "input": [
      "ar1 == 2"
     ],
     "language": "python",
     "metadata": {},
     "outputs": [
      {
       "metadata": {},
       "output_type": "pyout",
       "prompt_number": 94,
       "text": [
        "array([False, False,  True, False, False], dtype=bool)"
       ]
      }
     ],
     "prompt_number": 94
    },
    {
     "cell_type": "code",
     "collapsed": false,
     "input": [
      "ar1[ar1 == 2].shape"
     ],
     "language": "python",
     "metadata": {},
     "outputs": [
      {
       "metadata": {},
       "output_type": "pyout",
       "prompt_number": 95,
       "text": [
        "(1,)"
       ]
      }
     ],
     "prompt_number": 95
    },
    {
     "cell_type": "code",
     "collapsed": false,
     "input": [
      "ar1.__eq__(2)"
     ],
     "language": "python",
     "metadata": {},
     "outputs": [
      {
       "metadata": {},
       "output_type": "pyout",
       "prompt_number": 96,
       "text": [
        "array([False, False,  True, False, False], dtype=bool)"
       ]
      }
     ],
     "prompt_number": 96
    },
    {
     "cell_type": "code",
     "collapsed": false,
     "input": [
      "ar1.__getitem__(slice(2, 4, None))"
     ],
     "language": "python",
     "metadata": {},
     "outputs": [
      {
       "metadata": {},
       "output_type": "pyout",
       "prompt_number": 97,
       "text": [
        "array([2, 3])"
       ]
      }
     ],
     "prompt_number": 97
    },
    {
     "cell_type": "code",
     "collapsed": false,
     "input": [
      "slice(ar1.__eq__(2), None, None)"
     ],
     "language": "python",
     "metadata": {},
     "outputs": [
      {
       "metadata": {},
       "output_type": "pyout",
       "prompt_number": 98,
       "text": [
        "slice(array([False, False,  True, False, False], dtype=bool), None, None)"
       ]
      }
     ],
     "prompt_number": 98
    },
    {
     "cell_type": "code",
     "collapsed": false,
     "input": [
      "ar1.__getitem__(ar1.__eq__(2))"
     ],
     "language": "python",
     "metadata": {},
     "outputs": [
      {
       "metadata": {},
       "output_type": "pyout",
       "prompt_number": 99,
       "text": [
        "array([2])"
       ]
      }
     ],
     "prompt_number": 99
    },
    {
     "cell_type": "code",
     "collapsed": false,
     "input": [
      "ar1[:2], ar1.__getitem__(slice(2))"
     ],
     "language": "python",
     "metadata": {},
     "outputs": [
      {
       "metadata": {},
       "output_type": "pyout",
       "prompt_number": 100,
       "text": [
        "(array([0, 1]), array([0, 1]))"
       ]
      }
     ],
     "prompt_number": 100
    },
    {
     "cell_type": "code",
     "collapsed": false,
     "input": [
      "ar1 + 7"
     ],
     "language": "python",
     "metadata": {},
     "outputs": [
      {
       "metadata": {},
       "output_type": "pyout",
       "prompt_number": 101,
       "text": [
        "array([ 7,  8,  9, 10, 11])"
       ]
      }
     ],
     "prompt_number": 101
    },
    {
     "cell_type": "code",
     "collapsed": false,
     "input": [
      "ar1.__add__(7)"
     ],
     "language": "python",
     "metadata": {},
     "outputs": [
      {
       "metadata": {},
       "output_type": "pyout",
       "prompt_number": 102,
       "text": [
        "array([ 7,  8,  9, 10, 11])"
       ]
      }
     ],
     "prompt_number": 102
    },
    {
     "cell_type": "code",
     "collapsed": false,
     "input": [
      "min(ar1 + 7)"
     ],
     "language": "python",
     "metadata": {},
     "outputs": [
      {
       "metadata": {},
       "output_type": "pyout",
       "prompt_number": 103,
       "text": [
        "7"
       ]
      }
     ],
     "prompt_number": 103
    },
    {
     "cell_type": "code",
     "collapsed": false,
     "input": [
      "alphabet[:]"
     ],
     "language": "python",
     "metadata": {},
     "outputs": [
      {
       "metadata": {},
       "output_type": "pyout",
       "prompt_number": 104,
       "text": [
        "'abcdefghijklmnopqrstuvwxyz'"
       ]
      }
     ],
     "prompt_number": 104
    }
   ],
   "metadata": {}
  }
 ]
}