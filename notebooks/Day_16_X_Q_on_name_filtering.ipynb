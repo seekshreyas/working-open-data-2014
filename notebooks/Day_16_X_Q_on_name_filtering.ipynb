{
 "metadata": {
  "name": "",
  "signature": "sha256:c1298a1c89307eb706b6602e34c8570063a949f920637c787673b64fb2a30d4d"
 },
 "nbformat": 3,
 "nbformat_minor": 0,
 "worksheets": [
  {
   "cells": [
    {
     "cell_type": "markdown",
     "metadata": {},
     "source": [
      "[Topic: How can I filter a dataframe based on comparison against every item in another array?](https://bcourses.berkeley.edu/courses/1189091/discussion_topics/3031283)\n",
      "\n",
      "> I have the basic names dataframe.\n",
      "\n",
      "> I want to filter it based on whether or not the 'names' column in each row starts with any of the items in another array.\n",
      "\n",
      "> How would I go about this? I'm trying something like this but it's sending the whole series of names into my is_in_prefixes function which seems to defeat the purpose of the lambda function, maybe I don't get what those are supposed to be used for\n",
      "\n",
      "> target_names = names.apply(lambda x: is_in_prefixes(x.name))"
     ]
    },
    {
     "cell_type": "code",
     "collapsed": false,
     "input": [
      "from pandas import DataFrame"
     ],
     "language": "python",
     "metadata": {},
     "outputs": [],
     "prompt_number": 1
    },
    {
     "cell_type": "code",
     "collapsed": false,
     "input": [
      "# make a test DataFrame\n",
      "\n",
      "composers = DataFrame([{'name': 'Bach', 'date of birth':1685 },\n",
      "                       {'name': 'Hildegard of Bingen', 'date of birth':1098},\n",
      "                       {'name': 'Mozart', 'date of birth':1756},\n",
      "                       {'name': 'Beethoven', 'date of birth':1770},\n",
      "                       {'name': 'Shaw', 'date of birth': 1982}],\n",
      "                      columns=['name', 'date of birth'])\n",
      "\n",
      "# make a list with desired prefixes\n",
      "desired_prefixes = ['Ba', 'S', \"Mo\"]\n",
      "\n",
      "composers.name"
     ],
     "language": "python",
     "metadata": {},
     "outputs": [
      {
       "metadata": {},
       "output_type": "pyout",
       "prompt_number": 2,
       "text": [
        "0                   Bach\n",
        "1    Hildegard of Bingen\n",
        "2                 Mozart\n",
        "3              Beethoven\n",
        "4                   Shaw\n",
        "Name: name, dtype: object"
       ]
      }
     ],
     "prompt_number": 2
    },
    {
     "cell_type": "code",
     "collapsed": false,
     "input": [
      "# one solution with regular expressions\n",
      "\n",
      "import re\n",
      "\n",
      "# use of alternation: http://docs.python.org/2/howto/regex.html\n",
      "# make a regexp out of list of desired prefixes\n",
      "\n",
      "desire_prefix_regexp = \"^\"+ \"|\".join(desired_prefixes)\n",
      "print desire_prefix_regexp\n",
      "\n",
      "\n",
      "composers[composers.name.apply(lambda s: re.search(desire_prefix_regexp, s) is not None)]"
     ],
     "language": "python",
     "metadata": {},
     "outputs": [
      {
       "output_type": "stream",
       "stream": "stdout",
       "text": [
        "^Ba|S|Mo\n"
       ]
      },
      {
       "html": [
        "<div style=\"max-height:1000px;max-width:1500px;overflow:auto;\">\n",
        "<table border=\"1\" class=\"dataframe\">\n",
        "  <thead>\n",
        "    <tr style=\"text-align: right;\">\n",
        "      <th></th>\n",
        "      <th>name</th>\n",
        "      <th>date of birth</th>\n",
        "    </tr>\n",
        "  </thead>\n",
        "  <tbody>\n",
        "    <tr>\n",
        "      <th>0</th>\n",
        "      <td>   Bach</td>\n",
        "      <td> 1685</td>\n",
        "    </tr>\n",
        "    <tr>\n",
        "      <th>2</th>\n",
        "      <td> Mozart</td>\n",
        "      <td> 1756</td>\n",
        "    </tr>\n",
        "    <tr>\n",
        "      <th>4</th>\n",
        "      <td>   Shaw</td>\n",
        "      <td> 1982</td>\n",
        "    </tr>\n",
        "  </tbody>\n",
        "</table>\n",
        "<p>3 rows \u00d7 2 columns</p>\n",
        "</div>"
       ],
       "metadata": {},
       "output_type": "pyout",
       "prompt_number": 3,
       "text": [
        "     name  date of birth\n",
        "0    Bach           1685\n",
        "2  Mozart           1756\n",
        "4    Shaw           1982\n",
        "\n",
        "[3 rows x 2 columns]"
       ]
      }
     ],
     "prompt_number": 3
    },
    {
     "cell_type": "code",
     "collapsed": false,
     "input": [],
     "language": "python",
     "metadata": {},
     "outputs": [],
     "prompt_number": 3
    }
   ],
   "metadata": {}
  }
 ]
}