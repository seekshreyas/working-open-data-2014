{
 "metadata": {
  "name": ""
 },
 "nbformat": 3,
 "nbformat_minor": 0,
 "worksheets": [
  {
   "cells": [
    {
     "cell_type": "heading",
     "level": 1,
     "metadata": {},
     "source": [
      "Goals"
     ]
    },
    {
     "cell_type": "markdown",
     "metadata": {},
     "source": [
      "**To practice using generators to yield geographical entities of various types.**  \n",
      "\n",
      "Generators are a bit complicated, and I won't try to explain all the intricacies here.  I will show you how to use `yield` in a function definition to return a generator.  From [Definition of a generator](http://docs.python.org/2/glossary.html#term-generator):\n",
      "\n",
      "<blockquote>A function which returns an iterator. It looks like a normal function except that it contains yield statements for producing a series a values usable in a for-loop or that can be retrieved one at a time with the next() function. Each yield temporarily suspends processing, remembering the location execution state (including local variables and pending try-statements). When the generator resumes, it picks-up where it left-off (in contrast to functions which start fresh on every invocation)</blockquote>\n",
      "\n",
      "For some background on Python generators:\n",
      "\n",
      "* [iterator - The Python yield keyword explained - Stack Overflow](http://stackoverflow.com/questions/231767/the-python-yield-keyword-explained/231855#231855)\n",
      "* [Improve Your Python: 'yield' and Generators Explained](http://www.jeffknupp.com/blog/2013/04/07/improve-your-python-yield-and-generators-explained/) \n",
      "\n",
      "Why use generators: http://stackoverflow.com/a/102632/7782\n",
      "\n",
      "<blockquote>Generators are good for calculating large sets of results (in particular calculations involving loops themselves) where you don't know if you are going to need all results, or where you don't want to allocate the memory for all results at the same time. </blockquote>\n",
      "\n",
      "Also, let's also practice using [itertools.islice](http://www.python.org/doc//current/library/itertools.html#itertools.islice) and [enumerate](http://docs.python.org/2/library/functions.html#enumerate) -- two of my favorite constructions in Python\n"
     ]
    },
    {
     "cell_type": "markdown",
     "metadata": {},
     "source": [
      "From http://api.census.gov/data/2010/sf1/geo.html, geographic entities we are specifically interested in this exercise:\n",
      "\n",
      "* state-county\n",
      "* state-county-tract\n",
      "\n",
      "* state-place\n",
      "* state-metropolitan statistical area/micropolitan statistical area\n",
      "* state-metropolitan statistical area/micropolitan statistical area-metropolitan division\n",
      "* state-combined statistical area\n"
     ]
    },
    {
     "cell_type": "code",
     "collapsed": false,
     "input": [
      "# usual imports for numpy, pandas, matplotlib\n",
      "\n",
      "import numpy as np\n",
      "import matplotlib.pyplot as plt\n",
      "from pandas import DataFrame, Series, Index\n",
      "import pandas as pd"
     ],
     "language": "python",
     "metadata": {},
     "outputs": [],
     "prompt_number": 2
    },
    {
     "cell_type": "code",
     "collapsed": false,
     "input": [
      "# check that CENSUS_KEY is defined\n",
      "\n",
      "import census\n",
      "import us\n",
      "\n",
      "import settings\n",
      "assert settings.CENSUS_KEY is not None"
     ],
     "language": "python",
     "metadata": {},
     "outputs": [],
     "prompt_number": 3
    },
    {
     "cell_type": "code",
     "collapsed": false,
     "input": [
      "# instantiate our Census object\n",
      "\n",
      "c = census.Census(key=settings.CENSUS_KEY)"
     ],
     "language": "python",
     "metadata": {},
     "outputs": [],
     "prompt_number": 4
    },
    {
     "cell_type": "heading",
     "level": 1,
     "metadata": {},
     "source": [
      "A bit of warmup with Generators"
     ]
    },
    {
     "cell_type": "code",
     "collapsed": false,
     "input": [
      "import string\n",
      "print list(string.lowercase)"
     ],
     "language": "python",
     "metadata": {},
     "outputs": [
      {
       "output_type": "stream",
       "stream": "stdout",
       "text": [
        "['a', 'b', 'c', 'd', 'e', 'f', 'g', 'h', 'i', 'j', 'k', 'l', 'm', 'n', 'o', 'p', 'q', 'r', 's', 't', 'u', 'v', 'w', 'x', 'y', 'z']\n"
       ]
      }
     ],
     "prompt_number": 5
    },
    {
     "cell_type": "code",
     "collapsed": false,
     "input": [
      "def abcs():\n",
      "    alphabet = ['a', 'b', 'c', 'd', 'e', 'f', 'g', 'h', 'i', 'j', 'k', \n",
      "                'l', 'm', 'n', 'o', 'p', 'q', 'r', 's', 't', 'u', 'v', \n",
      "                'w', 'x', 'y', 'z']\n",
      "    \"\"\"a generator that returns \"\"\"\n",
      "    for letter in alphabet:\n",
      "        yield letter\n",
      "\n",
      "# a generator that gives you the letters of the alphabet a letter at a time         \n",
      "say_abcs =  abcs()       "
     ],
     "language": "python",
     "metadata": {},
     "outputs": [],
     "prompt_number": 6
    },
    {
     "cell_type": "code",
     "collapsed": false,
     "input": [
      "# run this line over and over again to see the letters one at a time\n",
      "say_abcs.next()"
     ],
     "language": "python",
     "metadata": {},
     "outputs": [
      {
       "metadata": {},
       "output_type": "pyout",
       "prompt_number": 7,
       "text": [
        "'a'"
       ]
      }
     ],
     "prompt_number": 7
    },
    {
     "cell_type": "code",
     "collapsed": false,
     "input": [
      "# you can use list to grab all the items in an iterator.  But be careful if the number\n",
      "# of items is large or even infinite!  In this case, we're ok\n",
      "\n",
      "list(abcs())"
     ],
     "language": "python",
     "metadata": {},
     "outputs": [
      {
       "metadata": {},
       "output_type": "pyout",
       "prompt_number": 8,
       "text": [
        "['a',\n",
        " 'b',\n",
        " 'c',\n",
        " 'd',\n",
        " 'e',\n",
        " 'f',\n",
        " 'g',\n",
        " 'h',\n",
        " 'i',\n",
        " 'j',\n",
        " 'k',\n",
        " 'l',\n",
        " 'm',\n",
        " 'n',\n",
        " 'o',\n",
        " 'p',\n",
        " 'q',\n",
        " 'r',\n",
        " 's',\n",
        " 't',\n",
        " 'u',\n",
        " 'v',\n",
        " 'w',\n",
        " 'x',\n",
        " 'y',\n",
        " 'z']"
       ]
      }
     ],
     "prompt_number": 8
    },
    {
     "cell_type": "markdown",
     "metadata": {},
     "source": [
      "Demonstration of how to use [enumerate](http://docs.python.org/2/library/functions.html#enumerate):\n",
      "\n",
      "<blockquote>Return an enumerate object. sequence must be a sequence, an iterator, or some other object which supports iteration. The next() method of the iterator returned by enumerate() returns a tuple containing a count (from start which defaults to 0) and the values obtained from iterating over sequence</blockquote>\n",
      "\n"
     ]
    },
    {
     "cell_type": "code",
     "collapsed": false,
     "input": [
      "for (i, letter) in enumerate(abcs()):\n",
      "    print i, letter"
     ],
     "language": "python",
     "metadata": {},
     "outputs": [
      {
       "output_type": "stream",
       "stream": "stdout",
       "text": [
        "0 a\n",
        "1 b\n",
        "2 c\n",
        "3 d\n",
        "4 e\n",
        "5 f\n",
        "6 g\n",
        "7 h\n",
        "8 i\n",
        "9 j\n",
        "10 k\n",
        "11 l\n",
        "12 m\n",
        "13 n\n",
        "14 o\n",
        "15 p\n",
        "16 q\n",
        "17 r\n",
        "18 s\n",
        "19 t\n",
        "20 u\n",
        "21 v\n",
        "22 w\n",
        "23 x\n",
        "24 y\n",
        "25 z\n"
       ]
      }
     ],
     "prompt_number": 9
    },
    {
     "cell_type": "markdown",
     "metadata": {},
     "source": [
      "You can use itertools.islice [itertools.islice](http://www.python.org/doc//current/library/itertools.html#itertools.islice) to return parts of the iterator.\n",
      "\n",
      "<blockquote>Make an iterator that returns selected elements from the iterable. If start is non-zero, then elements from the iterable are skipped until start is reached. Afterward, elements are returned consecutively unless step is set higher than one which results in items being skipped. If stop is None, then iteration continues until the iterator is exhausted, if at all; otherwise, it stops at the specified position. Unlike regular slicing, islice() does not support negative values for start, stop, or step. Can be used to extract related fields from data where the internal structure has been flattened (for example, a multi-line report may list a name field on every third line).</blockquote>"
     ]
    },
    {
     "cell_type": "code",
     "collapsed": false,
     "input": [
      "# let's get the first 10 letters of the alphabet\n",
      "\n",
      "from itertools import islice\n",
      "list(islice(abcs(), 10))"
     ],
     "language": "python",
     "metadata": {},
     "outputs": [
      {
       "metadata": {},
       "output_type": "pyout",
       "prompt_number": 10,
       "text": [
        "['a', 'b', 'c', 'd', 'e', 'f', 'g', 'h', 'i', 'j']"
       ]
      }
     ],
     "prompt_number": 10
    },
    {
     "cell_type": "code",
     "collapsed": false,
     "input": [
      "# you can use None to get all items in islice\n",
      "# from docs: \"If stop is None, then iteration continues until the iterator is exhausted,\"\n",
      "\n",
      "list(islice(abcs(), None))"
     ],
     "language": "python",
     "metadata": {},
     "outputs": [
      {
       "metadata": {},
       "output_type": "pyout",
       "prompt_number": 11,
       "text": [
        "['a',\n",
        " 'b',\n",
        " 'c',\n",
        " 'd',\n",
        " 'e',\n",
        " 'f',\n",
        " 'g',\n",
        " 'h',\n",
        " 'i',\n",
        " 'j',\n",
        " 'k',\n",
        " 'l',\n",
        " 'm',\n",
        " 'n',\n",
        " 'o',\n",
        " 'p',\n",
        " 'q',\n",
        " 'r',\n",
        " 's',\n",
        " 't',\n",
        " 'u',\n",
        " 'v',\n",
        " 'w',\n",
        " 'x',\n",
        " 'y',\n",
        " 'z']"
       ]
      }
     ],
     "prompt_number": 11
    },
    {
     "cell_type": "code",
     "collapsed": false,
     "input": [
      "# itertools.count can in principle generate an infinite sequence\n",
      "# http://www.python.org/doc//current/library/itertools.html#itertools.count\n",
      "\n",
      "from itertools import count\n",
      "\n",
      "# count starting zero\n",
      "my_counter = count(0)"
     ],
     "language": "python",
     "metadata": {},
     "outputs": [],
     "prompt_number": 12
    },
    {
     "cell_type": "code",
     "collapsed": false,
     "input": [
      "# try it out \n",
      "my_counter.next()"
     ],
     "language": "python",
     "metadata": {},
     "outputs": [
      {
       "metadata": {},
       "output_type": "pyout",
       "prompt_number": 13,
       "text": [
        "0"
       ]
      }
     ],
     "prompt_number": 13
    },
    {
     "cell_type": "code",
     "collapsed": false,
     "input": [
      "# DON'T do list(count(0))  -> you'll be trying to generate an infinite list\n",
      "# but use an upper limit\n",
      "\n",
      "list(islice(count(0),10))"
     ],
     "language": "python",
     "metadata": {},
     "outputs": [
      {
       "metadata": {},
       "output_type": "pyout",
       "prompt_number": 14,
       "text": [
        "[0, 1, 2, 3, 4, 5, 6, 7, 8, 9]"
       ]
      }
     ],
     "prompt_number": 14
    },
    {
     "cell_type": "code",
     "collapsed": false,
     "input": [
      "# start, stop\n",
      "list(islice(count(),1,3))"
     ],
     "language": "python",
     "metadata": {},
     "outputs": [
      {
       "metadata": {},
       "output_type": "pyout",
       "prompt_number": 15,
       "text": [
        "[1, 2]"
       ]
      }
     ],
     "prompt_number": 15
    },
    {
     "cell_type": "heading",
     "level": 1,
     "metadata": {},
     "source": [
      "Generator for US Counties"
     ]
    },
    {
     "cell_type": "code",
     "collapsed": false,
     "input": [
      "# get the syntax down for getting counties from CA -- so that then we can use it later\n",
      "\n",
      "r = c.sf1.get('NAME,P0010001', geo={'for':'county:*',\n",
      "                                'in':'state:{fips}'.format(fips=us.states.CA.fips)})\n",
      "r[:5]"
     ],
     "language": "python",
     "metadata": {},
     "outputs": [
      {
       "ename": "ValueError",
       "evalue": "No JSON object could be decoded",
       "output_type": "pyerr",
       "traceback": [
        "\u001b[0;31m---------------------------------------------------------------------------\u001b[0m\n\u001b[0;31mValueError\u001b[0m                                Traceback (most recent call last)",
        "\u001b[0;32m<ipython-input-18-1b21de804254>\u001b[0m in \u001b[0;36m<module>\u001b[0;34m()\u001b[0m\n\u001b[1;32m      2\u001b[0m \u001b[0;34m\u001b[0m\u001b[0m\n\u001b[1;32m      3\u001b[0m r = c.sf1.get('NAME,P0010001', geo={'for':'county:*',\n\u001b[0;32m----> 4\u001b[0;31m                                 'in':'state:{fips}'.format(fips=us.states.CA.fips)})\n\u001b[0m\u001b[1;32m      5\u001b[0m \u001b[0mr\u001b[0m\u001b[0;34m[\u001b[0m\u001b[0;34m:\u001b[0m\u001b[0;36m5\u001b[0m\u001b[0;34m]\u001b[0m\u001b[0;34m\u001b[0m\u001b[0m\n",
        "\u001b[0;32m/Users/shreyas/anaconda/envs/opendata/lib/python2.7/site-packages/census/core.pyc\u001b[0m in \u001b[0;36mget\u001b[0;34m(self, fields, geo, year)\u001b[0m\n\u001b[1;32m    124\u001b[0m         \u001b[0;32mif\u001b[0m \u001b[0mresp\u001b[0m\u001b[0;34m.\u001b[0m\u001b[0mstatus_code\u001b[0m \u001b[0;34m==\u001b[0m \u001b[0;36m200\u001b[0m\u001b[0;34m:\u001b[0m\u001b[0;34m\u001b[0m\u001b[0m\n\u001b[1;32m    125\u001b[0m \u001b[0;34m\u001b[0m\u001b[0m\n\u001b[0;32m--> 126\u001b[0;31m             \u001b[0mdata\u001b[0m \u001b[0;34m=\u001b[0m \u001b[0mjson\u001b[0m\u001b[0;34m.\u001b[0m\u001b[0mloads\u001b[0m\u001b[0;34m(\u001b[0m\u001b[0mresp\u001b[0m\u001b[0;34m.\u001b[0m\u001b[0mtext\u001b[0m\u001b[0;34m)\u001b[0m\u001b[0;34m\u001b[0m\u001b[0m\n\u001b[0m\u001b[1;32m    127\u001b[0m \u001b[0;34m\u001b[0m\u001b[0m\n\u001b[1;32m    128\u001b[0m             \u001b[0mheaders\u001b[0m \u001b[0;34m=\u001b[0m \u001b[0mdata\u001b[0m\u001b[0;34m[\u001b[0m\u001b[0;36m0\u001b[0m\u001b[0;34m]\u001b[0m\u001b[0;34m\u001b[0m\u001b[0m\n",
        "\u001b[0;32m/Users/shreyas/anaconda/envs/opendata/python.app/Contents/lib/python2.7/json/__init__.pyc\u001b[0m in \u001b[0;36mloads\u001b[0;34m(s, encoding, cls, object_hook, parse_float, parse_int, parse_constant, object_pairs_hook, **kw)\u001b[0m\n\u001b[1;32m    336\u001b[0m             \u001b[0mparse_int\u001b[0m \u001b[0;32mis\u001b[0m \u001b[0mNone\u001b[0m \u001b[0;32mand\u001b[0m \u001b[0mparse_float\u001b[0m \u001b[0;32mis\u001b[0m \u001b[0mNone\u001b[0m \u001b[0;32mand\u001b[0m\u001b[0;34m\u001b[0m\u001b[0m\n\u001b[1;32m    337\u001b[0m             parse_constant is None and object_pairs_hook is None and not kw):\n\u001b[0;32m--> 338\u001b[0;31m         \u001b[0;32mreturn\u001b[0m \u001b[0m_default_decoder\u001b[0m\u001b[0;34m.\u001b[0m\u001b[0mdecode\u001b[0m\u001b[0;34m(\u001b[0m\u001b[0ms\u001b[0m\u001b[0;34m)\u001b[0m\u001b[0;34m\u001b[0m\u001b[0m\n\u001b[0m\u001b[1;32m    339\u001b[0m     \u001b[0;32mif\u001b[0m \u001b[0mcls\u001b[0m \u001b[0;32mis\u001b[0m \u001b[0mNone\u001b[0m\u001b[0;34m:\u001b[0m\u001b[0;34m\u001b[0m\u001b[0m\n\u001b[1;32m    340\u001b[0m         \u001b[0mcls\u001b[0m \u001b[0;34m=\u001b[0m \u001b[0mJSONDecoder\u001b[0m\u001b[0;34m\u001b[0m\u001b[0m\n",
        "\u001b[0;32m/Users/shreyas/anaconda/envs/opendata/python.app/Contents/lib/python2.7/json/decoder.pyc\u001b[0m in \u001b[0;36mdecode\u001b[0;34m(self, s, _w)\u001b[0m\n\u001b[1;32m    363\u001b[0m \u001b[0;34m\u001b[0m\u001b[0m\n\u001b[1;32m    364\u001b[0m         \"\"\"\n\u001b[0;32m--> 365\u001b[0;31m         \u001b[0mobj\u001b[0m\u001b[0;34m,\u001b[0m \u001b[0mend\u001b[0m \u001b[0;34m=\u001b[0m \u001b[0mself\u001b[0m\u001b[0;34m.\u001b[0m\u001b[0mraw_decode\u001b[0m\u001b[0;34m(\u001b[0m\u001b[0ms\u001b[0m\u001b[0;34m,\u001b[0m \u001b[0midx\u001b[0m\u001b[0;34m=\u001b[0m\u001b[0m_w\u001b[0m\u001b[0;34m(\u001b[0m\u001b[0ms\u001b[0m\u001b[0;34m,\u001b[0m \u001b[0;36m0\u001b[0m\u001b[0;34m)\u001b[0m\u001b[0;34m.\u001b[0m\u001b[0mend\u001b[0m\u001b[0;34m(\u001b[0m\u001b[0;34m)\u001b[0m\u001b[0;34m)\u001b[0m\u001b[0;34m\u001b[0m\u001b[0m\n\u001b[0m\u001b[1;32m    366\u001b[0m         \u001b[0mend\u001b[0m \u001b[0;34m=\u001b[0m \u001b[0m_w\u001b[0m\u001b[0;34m(\u001b[0m\u001b[0ms\u001b[0m\u001b[0;34m,\u001b[0m \u001b[0mend\u001b[0m\u001b[0;34m)\u001b[0m\u001b[0;34m.\u001b[0m\u001b[0mend\u001b[0m\u001b[0;34m(\u001b[0m\u001b[0;34m)\u001b[0m\u001b[0;34m\u001b[0m\u001b[0m\n\u001b[1;32m    367\u001b[0m         \u001b[0;32mif\u001b[0m \u001b[0mend\u001b[0m \u001b[0;34m!=\u001b[0m \u001b[0mlen\u001b[0m\u001b[0;34m(\u001b[0m\u001b[0ms\u001b[0m\u001b[0;34m)\u001b[0m\u001b[0;34m:\u001b[0m\u001b[0;34m\u001b[0m\u001b[0m\n",
        "\u001b[0;32m/Users/shreyas/anaconda/envs/opendata/python.app/Contents/lib/python2.7/json/decoder.pyc\u001b[0m in \u001b[0;36mraw_decode\u001b[0;34m(self, s, idx)\u001b[0m\n\u001b[1;32m    381\u001b[0m             \u001b[0mobj\u001b[0m\u001b[0;34m,\u001b[0m \u001b[0mend\u001b[0m \u001b[0;34m=\u001b[0m \u001b[0mself\u001b[0m\u001b[0;34m.\u001b[0m\u001b[0mscan_once\u001b[0m\u001b[0;34m(\u001b[0m\u001b[0ms\u001b[0m\u001b[0;34m,\u001b[0m \u001b[0midx\u001b[0m\u001b[0;34m)\u001b[0m\u001b[0;34m\u001b[0m\u001b[0m\n\u001b[1;32m    382\u001b[0m         \u001b[0;32mexcept\u001b[0m \u001b[0mStopIteration\u001b[0m\u001b[0;34m:\u001b[0m\u001b[0;34m\u001b[0m\u001b[0m\n\u001b[0;32m--> 383\u001b[0;31m             \u001b[0;32mraise\u001b[0m \u001b[0mValueError\u001b[0m\u001b[0;34m(\u001b[0m\u001b[0;34m\"No JSON object could be decoded\"\u001b[0m\u001b[0;34m)\u001b[0m\u001b[0;34m\u001b[0m\u001b[0m\n\u001b[0m\u001b[1;32m    384\u001b[0m         \u001b[0;32mreturn\u001b[0m \u001b[0mobj\u001b[0m\u001b[0;34m,\u001b[0m \u001b[0mend\u001b[0m\u001b[0;34m\u001b[0m\u001b[0m\n",
        "\u001b[0;31mValueError\u001b[0m: No JSON object could be decoded"
       ]
      }
     ],
     "prompt_number": 18
    },
    {
     "cell_type": "markdown",
     "metadata": {},
     "source": [
      "With the census API, you can get the counties with one single call to the census API or state-by-state.  The `counties` generator below takes the first approach while `counties2` takes the second approach. Although `counties` is more efficient in most cases I can think of, it will be useful to know how to do calls on a state-by-state basis.  For example, when we to query on a census tract level or below, we will need to work on a state-by-state basis. "
     ]
    },
    {
     "cell_type": "code",
     "collapsed": false,
     "input": [
      "def counties(variables='NAME'):\n",
      "    \"\"\"ask for all the states\"\"\"\n",
      "    \n",
      "    # tabulate a set of fips codes for the states\n",
      "    states_fips = set([s.fips for s in us.states.STATES])\n",
      "    \n",
      "    geo={'for':'county:*',\n",
      "             'in':'state:*'}    \n",
      "    for county in c.sf1.get(variables, geo=geo):\n",
      "        # eliminate counties whose states aren't in a state or DC\n",
      "        if county['state'] in states_fips:\n",
      "            yield county\n",
      "        \n",
      "\n",
      "def counties2(variables='NAME'):\n",
      "    \"\"\"generator for all counties\"\"\"\n",
      "    \n",
      "    # since we can get all the counties in one call, \n",
      "    # this function is for demonstrating the use of walking through \n",
      "    # the states to get at the counties\n",
      "\n",
      "    for state in us.states.STATES:\n",
      "        geo={'for':'county:*',\n",
      "             'in':'state:{fips}'.format(fips=state.fips)}\n",
      "        for county in c.sf1.get(variables, geo=geo):\n",
      "            yield county\n",
      "        "
     ],
     "language": "python",
     "metadata": {},
     "outputs": [],
     "prompt_number": 20
    },
    {
     "cell_type": "code",
     "collapsed": false,
     "input": [
      "counties_list = list(counties('NAME,P0010001'))"
     ],
     "language": "python",
     "metadata": {},
     "outputs": [],
     "prompt_number": 21
    },
    {
     "cell_type": "code",
     "collapsed": false,
     "input": [
      "# add up the population to make sure we have the total right\n",
      "counties_df = DataFrame(counties_list)\n",
      "counties_df.P0010001 = counties_df.P0010001.astype('int')\n",
      "counties_df.P0010001.sum()"
     ],
     "language": "python",
     "metadata": {},
     "outputs": [
      {
       "metadata": {},
       "output_type": "pyout",
       "prompt_number": 22,
       "text": [
        "308745538"
       ]
      }
     ],
     "prompt_number": 22
    },
    {
     "cell_type": "markdown",
     "metadata": {},
     "source": [
      "One reason for writing all the counties in the form of a Python generator is tha you can easily control the number of counties we work with at any given time -- and then easily scaling out to get all of them. "
     ]
    },
    {
     "cell_type": "code",
     "collapsed": false,
     "input": [
      "# make a list of the first ten counties\n",
      "\n",
      "from itertools import islice\n",
      "list(islice(counties2(),10))"
     ],
     "language": "python",
     "metadata": {},
     "outputs": [
      {
       "metadata": {},
       "output_type": "pyout",
       "prompt_number": 23,
       "text": [
        "[{u'NAME': u'Autauga County', u'county': u'001', u'state': u'01'},\n",
        " {u'NAME': u'Baldwin County', u'county': u'003', u'state': u'01'},\n",
        " {u'NAME': u'Barbour County', u'county': u'005', u'state': u'01'},\n",
        " {u'NAME': u'Bibb County', u'county': u'007', u'state': u'01'},\n",
        " {u'NAME': u'Blount County', u'county': u'009', u'state': u'01'},\n",
        " {u'NAME': u'Bullock County', u'county': u'011', u'state': u'01'},\n",
        " {u'NAME': u'Butler County', u'county': u'013', u'state': u'01'},\n",
        " {u'NAME': u'Calhoun County', u'county': u'015', u'state': u'01'},\n",
        " {u'NAME': u'Chambers County', u'county': u'017', u'state': u'01'},\n",
        " {u'NAME': u'Cherokee County', u'county': u'019', u'state': u'01'}]"
       ]
      }
     ],
     "prompt_number": 23
    },
    {
     "cell_type": "heading",
     "level": 1,
     "metadata": {},
     "source": [
      "Generator for Census Tracts"
     ]
    },
    {
     "cell_type": "markdown",
     "metadata": {},
     "source": [
      "The following generator loops through all the states to get at the individual counties to then get at the census tracts."
     ]
    },
    {
     "cell_type": "code",
     "collapsed": false,
     "input": [
      "def tracts(variables='NAME'):\n",
      "    for state in us.states.STATES:\n",
      "        \n",
      "        # handy to print out state to monitor progress\n",
      "        print state.fips, state\n",
      "        counties_in_state={'for':'county:*',\n",
      "             'in':'state:{fips}'.format(fips=state.fips)}\n",
      "        \n",
      "        for county in c.sf1.get('NAME', geo=counties_in_state):\n",
      "            \n",
      "            # print county['state'], county['NAME']\n",
      "            tracts_in_county = {'for':'tract:*',\n",
      "              'in': 'state:{s_fips} county:{c_fips}'.format(s_fips=state.fips, \n",
      "                                                            c_fips=county['county'])}\n",
      "            \n",
      "            for tract in c.sf1.get(variables,geo=tracts_in_county):\n",
      "                yield tract\n",
      "        "
     ],
     "language": "python",
     "metadata": {},
     "outputs": [],
     "prompt_number": 24
    },
    {
     "cell_type": "code",
     "collapsed": false,
     "input": [
      "r = list(islice(tracts('NAME,P0010001'),10))\n",
      "tracts_df = DataFrame(r)\n",
      "tracts_df.P0010001 = tracts_df.P0010001.astype('int')\n",
      "tracts_df['FIPS'] = tracts_df.apply(lambda s: s['state']+s['county']+s['tract'], axis=1)\n",
      "print \"number of tracts\", len(tracts_df)\n",
      "print \"total pop\", tracts_df.P0010001.sum()\n",
      "tracts_df.head()"
     ],
     "language": "python",
     "metadata": {},
     "outputs": [
      {
       "output_type": "stream",
       "stream": "stdout",
       "text": [
        "01 Alabama\n",
        "number of tracts"
       ]
      },
      {
       "output_type": "stream",
       "stream": "stdout",
       "text": [
        " 10\n",
        "total pop 48357\n"
       ]
      },
      {
       "html": [
        "<div style=\"max-height:1000px;max-width:1500px;overflow:auto;\">\n",
        "<table border=\"1\" class=\"dataframe\">\n",
        "  <thead>\n",
        "    <tr style=\"text-align: right;\">\n",
        "      <th></th>\n",
        "      <th>NAME</th>\n",
        "      <th>P0010001</th>\n",
        "      <th>county</th>\n",
        "      <th>state</th>\n",
        "      <th>tract</th>\n",
        "      <th>FIPS</th>\n",
        "    </tr>\n",
        "  </thead>\n",
        "  <tbody>\n",
        "    <tr>\n",
        "      <th>0</th>\n",
        "      <td> Census Tract 201</td>\n",
        "      <td>  1912</td>\n",
        "      <td> 001</td>\n",
        "      <td> 01</td>\n",
        "      <td> 020100</td>\n",
        "      <td> 01001020100</td>\n",
        "    </tr>\n",
        "    <tr>\n",
        "      <th>1</th>\n",
        "      <td> Census Tract 202</td>\n",
        "      <td>  2170</td>\n",
        "      <td> 001</td>\n",
        "      <td> 01</td>\n",
        "      <td> 020200</td>\n",
        "      <td> 01001020200</td>\n",
        "    </tr>\n",
        "    <tr>\n",
        "      <th>2</th>\n",
        "      <td> Census Tract 203</td>\n",
        "      <td>  3373</td>\n",
        "      <td> 001</td>\n",
        "      <td> 01</td>\n",
        "      <td> 020300</td>\n",
        "      <td> 01001020300</td>\n",
        "    </tr>\n",
        "    <tr>\n",
        "      <th>3</th>\n",
        "      <td> Census Tract 204</td>\n",
        "      <td>  4386</td>\n",
        "      <td> 001</td>\n",
        "      <td> 01</td>\n",
        "      <td> 020400</td>\n",
        "      <td> 01001020400</td>\n",
        "    </tr>\n",
        "    <tr>\n",
        "      <th>4</th>\n",
        "      <td> Census Tract 205</td>\n",
        "      <td> 10766</td>\n",
        "      <td> 001</td>\n",
        "      <td> 01</td>\n",
        "      <td> 020500</td>\n",
        "      <td> 01001020500</td>\n",
        "    </tr>\n",
        "  </tbody>\n",
        "</table>\n",
        "</div>"
       ],
       "metadata": {},
       "output_type": "pyout",
       "prompt_number": 25,
       "text": [
        "               NAME  P0010001 county state   tract         FIPS\n",
        "0  Census Tract 201      1912    001    01  020100  01001020100\n",
        "1  Census Tract 202      2170    001    01  020200  01001020200\n",
        "2  Census Tract 203      3373    001    01  020300  01001020300\n",
        "3  Census Tract 204      4386    001    01  020400  01001020400\n",
        "4  Census Tract 205     10766    001    01  020500  01001020500"
       ]
      }
     ],
     "prompt_number": 25
    },
    {
     "cell_type": "markdown",
     "metadata": {},
     "source": [
      "Good to save the DataFrame so we can load up the census tracts without having call the census api again.\n",
      "\n",
      "I/O: http://pandas.pydata.org/pandas-docs/dev/io.html\n",
      "\n",
      "Today, we'll use [pickle format](http://docs.python.org/2/library/pickle.html) and look at other formats.\n"
     ]
    },
    {
     "cell_type": "code",
     "collapsed": false,
     "input": [
      "TRACT_FILE_PICKLE = \"tracts.pickle\"\n",
      "\n",
      "# UNCOMMENT THIS LINE TO SAVE YOUR FILE\n",
      "# tracts_df.to_pickle(TRACT_FILE_PICKLE)"
     ],
     "language": "python",
     "metadata": {},
     "outputs": [],
     "prompt_number": 26
    },
    {
     "cell_type": "markdown",
     "metadata": {},
     "source": [
      "Let's read the DataFrame from disk to confirm that we were able to save the file properly."
     ]
    },
    {
     "cell_type": "code",
     "collapsed": false,
     "input": [
      "df = pd.read_pickle(TRACT_FILE_PICKLE)\n",
      "df.head()"
     ],
     "language": "python",
     "metadata": {},
     "outputs": [
      {
       "html": [
        "<div style=\"max-height:1000px;max-width:1500px;overflow:auto;\">\n",
        "<table border=\"1\" class=\"dataframe\">\n",
        "  <thead>\n",
        "    <tr style=\"text-align: right;\">\n",
        "      <th></th>\n",
        "      <th>NAME</th>\n",
        "      <th>P0010001</th>\n",
        "      <th>county</th>\n",
        "      <th>state</th>\n",
        "      <th>tract</th>\n",
        "      <th>FIPS</th>\n",
        "    </tr>\n",
        "  </thead>\n",
        "  <tbody>\n",
        "    <tr>\n",
        "      <th>0</th>\n",
        "      <td> Census Tract 201</td>\n",
        "      <td>  1912</td>\n",
        "      <td> 001</td>\n",
        "      <td> 01</td>\n",
        "      <td> 020100</td>\n",
        "      <td> 01001020100</td>\n",
        "    </tr>\n",
        "    <tr>\n",
        "      <th>1</th>\n",
        "      <td> Census Tract 202</td>\n",
        "      <td>  2170</td>\n",
        "      <td> 001</td>\n",
        "      <td> 01</td>\n",
        "      <td> 020200</td>\n",
        "      <td> 01001020200</td>\n",
        "    </tr>\n",
        "    <tr>\n",
        "      <th>2</th>\n",
        "      <td> Census Tract 203</td>\n",
        "      <td>  3373</td>\n",
        "      <td> 001</td>\n",
        "      <td> 01</td>\n",
        "      <td> 020300</td>\n",
        "      <td> 01001020300</td>\n",
        "    </tr>\n",
        "    <tr>\n",
        "      <th>3</th>\n",
        "      <td> Census Tract 204</td>\n",
        "      <td>  4386</td>\n",
        "      <td> 001</td>\n",
        "      <td> 01</td>\n",
        "      <td> 020400</td>\n",
        "      <td> 01001020400</td>\n",
        "    </tr>\n",
        "    <tr>\n",
        "      <th>4</th>\n",
        "      <td> Census Tract 205</td>\n",
        "      <td> 10766</td>\n",
        "      <td> 001</td>\n",
        "      <td> 01</td>\n",
        "      <td> 020500</td>\n",
        "      <td> 01001020500</td>\n",
        "    </tr>\n",
        "  </tbody>\n",
        "</table>\n",
        "</div>"
       ],
       "metadata": {},
       "output_type": "pyout",
       "prompt_number": 27,
       "text": [
        "               NAME  P0010001 county state   tract         FIPS\n",
        "0  Census Tract 201      1912    001    01  020100  01001020100\n",
        "1  Census Tract 202      2170    001    01  020200  01001020200\n",
        "2  Census Tract 203      3373    001    01  020300  01001020300\n",
        "3  Census Tract 204      4386    001    01  020400  01001020400\n",
        "4  Census Tract 205     10766    001    01  020500  01001020500"
       ]
      }
     ],
     "prompt_number": 27
    },
    {
     "cell_type": "code",
     "collapsed": false,
     "input": [
      "# UNCOMMENT TO DO COMPARISON\n",
      "# you can compare the saved file to the file from disk\n",
      "# np.all(tracts_df == df)"
     ],
     "language": "python",
     "metadata": {},
     "outputs": [],
     "prompt_number": 28
    }
   ],
   "metadata": {}
  }
 ]
}