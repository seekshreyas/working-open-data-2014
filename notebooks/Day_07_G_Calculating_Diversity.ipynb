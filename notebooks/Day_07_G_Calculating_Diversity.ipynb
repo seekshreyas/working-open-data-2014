{
 "metadata": {
  "name": "",
  "signature": "sha256:20862a8fdae32d268a93a87d575c77ca37600f6fe6eb755d6875ac87687ec3d0"
 },
 "nbformat": 3,
 "nbformat_minor": 0,
 "worksheets": [
  {
   "cells": [
    {
     "cell_type": "heading",
     "level": 1,
     "metadata": {},
     "source": [
      "Goals"
     ]
    },
    {
     "cell_type": "markdown",
     "metadata": {},
     "source": [
      "* Learn about how to use the Census variables around Hispanic origin to calculate quantities around diversity (remembering the [Racial Dot Map](http://bit.ly/rdotmapintro) as our framing example)"
     ]
    },
    {
     "cell_type": "code",
     "collapsed": false,
     "input": [
      "%pylab --no-import-all inline"
     ],
     "language": "python",
     "metadata": {},
     "outputs": []
    },
    {
     "cell_type": "code",
     "collapsed": false,
     "input": [
      "import numpy as np\n",
      "import matplotlib.pyplot as plt\n",
      "from pandas import DataFrame, Series, Index\n",
      "import pandas as pd\n",
      "\n",
      "from itertools import islice"
     ],
     "language": "python",
     "metadata": {},
     "outputs": []
    },
    {
     "cell_type": "code",
     "collapsed": false,
     "input": [
      "import census\n",
      "import us\n",
      "\n",
      "import settings"
     ],
     "language": "python",
     "metadata": {},
     "outputs": []
    },
    {
     "cell_type": "markdown",
     "metadata": {},
     "source": [
      "The census documentation has example URLs but needs your API key to work.  In this notebook, we'll use the IPython notebook HTML display mechanism to help out.\n"
     ]
    },
    {
     "cell_type": "code",
     "collapsed": false,
     "input": [
      "c = census.Census(key=settings.CENSUS_KEY)"
     ],
     "language": "python",
     "metadata": {},
     "outputs": []
    },
    {
     "cell_type": "code",
     "collapsed": false,
     "input": [
      "# generators for the various census geographic entities of interest\n",
      "\n",
      "def states(variables='NAME'):\n",
      "    geo={'for':'state:*'}\n",
      "    states_fips = set([state.fips for state in us.states.STATES])\n",
      "    # need to filter out non-states\n",
      "    for r in c.sf1.get(variables, geo=geo):\n",
      "        if r['state'] in states_fips:\n",
      "            yield r\n",
      "            \n",
      "def counties(variables='NAME'):\n",
      "    \"\"\"ask for all the states in one call\"\"\"\n",
      "    \n",
      "    # tabulate a set of fips codes for the states\n",
      "    states_fips = set([s.fips for s in us.states.STATES])\n",
      "    \n",
      "    geo={'for':'county:*',\n",
      "             'in':'state:*'}    \n",
      "    for county in c.sf1.get(variables, geo=geo):\n",
      "        # eliminate counties whose states aren't in a state or DC\n",
      "        if county['state'] in states_fips:\n",
      "            yield county\n",
      "        \n",
      "\n",
      "def counties2(variables='NAME'):\n",
      "    \"\"\"generator for all counties\"\"\"\n",
      "    \n",
      "    # since we can get all the counties in one call, \n",
      "    # this function is for demonstrating the use of walking through \n",
      "    # the states to get at the counties\n",
      "\n",
      "    for state in us.states.STATES:\n",
      "        geo={'for':'county:*',\n",
      "             'in':'state:{fips}'.format(fips=state.fips)}\n",
      "        for county in c.sf1.get(variables, geo=geo):\n",
      "            yield county\n",
      "\n",
      "            \n",
      "def tracts(variables='NAME'):\n",
      "    for state in us.states.STATES:\n",
      "        \n",
      "        # handy to print out state to monitor progress\n",
      "        # print state.fips, state\n",
      "        counties_in_state={'for':'county:*',\n",
      "             'in':'state:{fips}'.format(fips=state.fips)}\n",
      "        \n",
      "        for county in c.sf1.get('NAME', geo=counties_in_state):\n",
      "            \n",
      "            # print county['state'], county['NAME']\n",
      "            tracts_in_county = {'for':'tract:*',\n",
      "              'in': 'state:{s_fips} county:{c_fips}'.format(s_fips=state.fips, \n",
      "                                                            c_fips=county['county'])}\n",
      "            \n",
      "            for tract in c.sf1.get(variables,geo=tracts_in_county):\n",
      "                yield tract\n",
      "\n"
     ],
     "language": "python",
     "metadata": {},
     "outputs": []
    },
    {
     "cell_type": "code",
     "collapsed": false,
     "input": [
      "def block_groups(variables='NAME'):\n",
      "    # http://api.census.gov/data/2010/sf1?get=P0010001&for=block+group:*&in=state:02+county:170\n",
      "    # let's use the county generator\n",
      "    for county in counties(variables):\n",
      "        geo = {'for':'block group:*',\n",
      "               'in':'state:{state} county:{county}'.format(state=county['state'],\n",
      "                                                county=county['county'])\n",
      "               }\n",
      "        for block_group in c.sf1.get(variables, geo):\n",
      "            yield block_group\n",
      "    \n",
      "    \n",
      "def blocks(variables='NAME'):\n",
      "    # http://api.census.gov/data/2010/sf1?get=P0010001&for=block:*&in=state:02+county:290+tract:00100\n",
      "    \n",
      "    # make use of the tract generator\n",
      "    for tract in tracts(variables):\n",
      "        geo={'for':'block:*',\n",
      "             'in':'state:{state} county:{county} tract:{tract}'.format(state=tract['state'],\n",
      "                                                                       county=tract['county'],\n",
      "                                                                       tract=tract['tract'])\n",
      "             }\n",
      "        for block in c.sf1.get(variables, geo):\n",
      "            yield block\n",
      "        \n",
      "       "
     ],
     "language": "python",
     "metadata": {},
     "outputs": []
    },
    {
     "cell_type": "code",
     "collapsed": false,
     "input": [
      "# msa, csas, districts, zip_codes\n",
      "\n",
      "def msas(variables=\"NAME\"):\n",
      "    \n",
      "     for state in us.STATES:\n",
      "        geo = {'for':'metropolitan statistical area/micropolitan statistical area:*', \n",
      "               'in':'state:{state_fips}'.format(state_fips=state.fips)\n",
      "               }\n",
      "    \n",
      "        for msa in c.sf1.get(variables, geo=geo):\n",
      "            yield msa\n",
      "\n",
      "def csas(variables=\"NAME\"):\n",
      "    # http://api.census.gov/data/2010/sf1?get=P0010001&for=combined+statistical+area:*&in=state:24\n",
      "    for state in us.STATES:\n",
      "        geo = {'for':'combined statistical area:*', \n",
      "               'in':'state:{state_fips}'.format(state_fips=state.fips)\n",
      "               }\n",
      "    \n",
      "        for csa in c.sf1.get(variables, geo=geo):\n",
      "            yield csa\n",
      "\n",
      "def districts(variables=\"NAME\"):\n",
      "    # http://api.census.gov/data/2010/sf1?get=P0010001&for=congressional+district:*&in=state:24\n",
      "    for state in us.STATES:\n",
      "        geo = {'for':'congressional district:*', \n",
      "               'in':'state:{state_fips}'.format(state_fips=state.fips)\n",
      "               }\n",
      "    \n",
      "        for district in c.sf1.get(variables, geo=geo):\n",
      "            yield district    \n",
      "            \n",
      "def zip_code_tabulation_areas(variables=\"NAME\"):\n",
      "    # http://api.census.gov/data/2010/sf1?get=P0010001&for=zip+code+tabulation+area:*&in=state:02\n",
      "    for state in us.STATES:\n",
      "        geo = {'for':'zip code tabulation area:*', \n",
      "               'in':'state:{state_fips}'.format(state_fips=state.fips)\n",
      "               }\n",
      "    \n",
      "        for zip_code_tabulation_area in c.sf1.get(variables, geo=geo):\n",
      "            yield zip_code_tabulation_area    "
     ],
     "language": "python",
     "metadata": {},
     "outputs": []
    },
    {
     "cell_type": "code",
     "collapsed": false,
     "input": [
      "list(islice(msas(), 1))"
     ],
     "language": "python",
     "metadata": {},
     "outputs": []
    },
    {
     "cell_type": "code",
     "collapsed": false,
     "input": [
      "list(islice(csas(), 1))"
     ],
     "language": "python",
     "metadata": {},
     "outputs": []
    },
    {
     "cell_type": "code",
     "collapsed": false,
     "input": [
      "districts_list = list(islice(districts(), 1))\n",
      "districts_list"
     ],
     "language": "python",
     "metadata": {},
     "outputs": []
    },
    {
     "cell_type": "code",
     "collapsed": false,
     "input": [
      "list(islice(zip_code_tabulation_areas(), 1))"
     ],
     "language": "python",
     "metadata": {},
     "outputs": []
    },
    {
     "cell_type": "markdown",
     "metadata": {},
     "source": [
      "**Note**: There are definitely improvements to be made in these generators.  One of the most important would be to limit the generators to specific geographies -- typically, we don't want to have all the blocks in the country but the ones in a specific area.  A good exercise to rewrite our generators to allow for limited geography."
     ]
    },
    {
     "cell_type": "markdown",
     "metadata": {},
     "source": [
      "We can compare the total number of tracts we calculate to:\n",
      "\n",
      "https://www.census.gov/geo/maps-data/data/tallies/tractblock.html\n",
      "\n",
      "and\n",
      "\n",
      "https://www.census.gov/geo/maps-data/data/docs/geo_tallies/Tract_Block2010.txt"
     ]
    },
    {
     "cell_type": "heading",
     "level": 1,
     "metadata": {},
     "source": [
      "Hispanic or Latino Origin and Racial Subcategories"
     ]
    },
    {
     "cell_type": "markdown",
     "metadata": {},
     "source": [
      "http://www.census.gov/developers/data/sf1.xml\n",
      "\n",
      "compare to http://www.census.gov/prod/cen2010/briefs/c2010br-02.pdf \n",
      "\n",
      "I think the P0050001 might be the key category\n",
      "\n",
      "* P0010001 = P0050001\n",
      "* P0050001 = P0050002 + P0050010\n",
      "\n",
      "P0050002 Not Hispanic or Latino (total) = \n",
      "\n",
      "* P0050003 Not Hispanic White only \n",
      "* P0050004 Not Hispanic Black only\n",
      "* P0050006 Not Hispanic Asian only\n",
      "* Not Hispanic Other (should also be P0050002 - (P0050003 + P0050004 + P0050006)\n",
      "     * P0050005 Not Hispanic: American Indian/ American Indian and Alaska Native alone\n",
      "     * P0050007 Not Hispanic: Native Hawaiian and Other Pacific Islander alone\n",
      "     * P0050008 Not Hispanic: Some Other Race alone\n",
      "     * P0050009 Not Hispanic: Two or More Races\n",
      "\n",
      "* P0050010 Hispanic or Latino\n",
      "  \n",
      "P0050010 = P0050011...P0050017\n",
      "\n",
      "From [Hispanic and Latino Americans (Wikipedia)](https://en.wikipedia.org/w/index.php?title=Hispanic_and_Latino_Americans&oldid=595018646):  \n",
      "\n",
      "<blockquote>While the two terms are sometimes used interchangeably, Hispanic is a narrower term which mostly refers to persons of Spanish speaking origin or ancestry, while Latino is more frequently used to refer more generally to anyone of Latin American origin or ancestry, including Brazilians.</blockquote>\n",
      "\n",
      "and\n",
      "\n",
      "<blockquote>The Census Bureau's 2010 census does provide a definition of the terms Latino or Hispanic and is as follows: \u201cHispanic or Latino\u201d refers to a person of Cuban, Mexican, Puerto Rican, South or Central American, or other Spanish culture or origin regardless of race. It allows respondents to self-define whether they were Latino or Hispanic and then identify their specific country or place of origin.[52] On its website, the Census Bureau defines \"Hispanic\" or \"Latino\" persons as being \"persons who trace their origin [to]... Spanish speaking Central and South America countries, and other Spanish cultures\".</blockquote>\n",
      "\n",
      "In the [Racial Dot Map](http://bit.ly/rdotmap): \"Whites are coded as blue; African-Americans, green; Asians, red; Hispanics, orange; and all other racial categories are coded as brown.\"  \n",
      "\n",
      "In this notebook, we will relate the Racial Dot Map 5-category scheme to the P005\\* variables."
     ]
    },
    {
     "cell_type": "code",
     "collapsed": false,
     "input": [
      "# let's get the total population -- tabulated in two variables: P0010001, P0050001\n",
      "# P0050002 Not Hispanic or Latino (total) \n",
      "# P0050010 Hispanic or Latino\n",
      "\n",
      "r = list(states(('NAME','P0010001','P0050001','P0050002','P0050010')))\n",
      "r[:5]"
     ],
     "language": "python",
     "metadata": {},
     "outputs": []
    },
    {
     "cell_type": "code",
     "collapsed": false,
     "input": [
      "# Hispanic/Latino origin vs not-Hispanic/Latino\n",
      "# Compare with http://www.census.gov/prod/cen2010/briefs/c2010br-02.pdf Table 1\n",
      "# Hispanic/Latino: 50477594\n",
      "# non-Hispanic/Latino: 258267944\n",
      "\n",
      "df=DataFrame(r)\n",
      "df[['P0010001', 'P0050001','P0050002','P0050010']] = \\\n",
      "    df[['P0010001', 'P0050001','P0050002','P0050010']].astype('int')\n",
      "df[['P0010001', 'P0050001', 'P0050002', 'P0050010']].sum()"
     ],
     "language": "python",
     "metadata": {},
     "outputs": []
    },
    {
     "cell_type": "code",
     "collapsed": false,
     "input": [
      "# is the total Hispanic/Latino population and non-Hispanic populations the same as reported in \n",
      "# http://www.census.gov/prod/cen2010/briefs/c2010br-02.pdf Table 1\n",
      "(df['P0050010'].sum() == 50477594,\n",
      " df['P0050002'].sum() == 258267944)"
     ],
     "language": "python",
     "metadata": {},
     "outputs": []
    },
    {
     "cell_type": "code",
     "collapsed": false,
     "input": [
      "# How about the non-Hispanic/Latino White only category?\n",
      "# P0050003\n",
      "# total should be 196817552\n",
      "\n",
      "df = DataFrame(list(states('NAME,P0050003')))\n",
      "df['P0050003'] = df['P0050003'].astype('int')\n",
      "df.P0050003.sum()"
     ],
     "language": "python",
     "metadata": {},
     "outputs": []
    },
    {
     "cell_type": "heading",
     "level": 1,
     "metadata": {},
     "source": [
      "Converting to Racial Dot Map Categories"
     ]
    },
    {
     "cell_type": "markdown",
     "metadata": {},
     "source": [
      "SUGGESTED EXERCISE:  write a function `convert_to_rdotmap(row)` tha takes an input Python dict that has the keys:\n",
      "    * NAME\n",
      "    * P005001, P005002...,P0050016, P0050017 \n",
      "    \n",
      "and that returns a Pandas Series with the following columns:\n",
      "\n",
      "    * Total\n",
      "    * White\n",
      "    * Black\n",
      "    * Asian\n",
      "    * Hispanic\n",
      "    * Other\n",
      "    * Name  (note lowercase)\n",
      "    \n",
      "that correspond to those used in the Racial Dot Map.\n",
      "\n",
      "Also write a function def convert_P005_to_int(df) that converts all the P005\\* columns to `int`"
     ]
    },
    {
     "cell_type": "code",
     "collapsed": false,
     "input": [
      "# USE a little convience function to calculate the variable names to be used\n",
      "\n",
      "def P005_range(n0,n1): \n",
      "    return tuple(('P005'+ \"{i:04d}\".format(i=i) for i in xrange(n0,n1)))\n",
      "\n",
      "P005_vars = P005_range(1,18)\n",
      "P005_vars_str = \",\".join(P005_vars)\n",
      "P005_vars_with_name = ['NAME'] + list(P005_vars)\n",
      "\n",
      "P005_vars_with_name"
     ],
     "language": "python",
     "metadata": {},
     "outputs": []
    },
    {
     "cell_type": "code",
     "collapsed": false,
     "input": [
      "# HAVE YOU TRIED THE EXERCISE....IF NOT....TRY IT....HERE'S ONE POSSIBLE ANSWER# \n",
      "\n",
      "# http://manishamde.github.io/blog/2013/03/07/pandas-and-python-top-10/#create\n",
      "\n",
      "def convert_P005_to_int(df):\n",
      "    # do conversion in place\n",
      "    df[list(P005_vars)] = df[list(P005_vars)].astype('int')\n",
      "    return df\n",
      "\n",
      "def convert_to_rdotmap(row):\n",
      "    \"\"\"takes the P005 variables and maps to a series with White, Black, Asian, Hispanic, Other\n",
      "    Total and Name\"\"\"\n",
      "    return pd.Series({'Total':row['P0050001'],\n",
      "                      'White':row['P0050003'],\n",
      "                      'Black':row['P0050004'],\n",
      "                      'Asian':row['P0050006'],\n",
      "                      'Hispanic':row['P0050010'],\n",
      "                      'Other': row['P0050005'] + row['P0050007'] + row['P0050008'] + row['P0050009'],\n",
      "                      'Name': row['NAME']\n",
      "                      }, index=['Name', 'Total', 'White', 'Black', 'Hispanic', 'Asian', 'Other'])"
     ],
     "language": "python",
     "metadata": {},
     "outputs": []
    },
    {
     "cell_type": "code",
     "collapsed": false,
     "input": [
      "\n",
      "\n",
      "from census import Census\n",
      "\n",
      "import settings\n",
      "from settings import CENSUS_KEY\n",
      "\n",
      "import time\n",
      "from itertools import islice\n",
      "\n",
      "def P005_range(n0,n1): \n",
      "    return tuple(('P005'+ \"{i:04d}\".format(i=i) for i in xrange(n0,n1)))\n",
      "\n",
      "P005_vars = P005_range(1,18)\n",
      "P005_vars_str = \",\".join(P005_vars)\n",
      "\n",
      "\n",
      "# http://manishamde.github.io/blog/2013/03/07/pandas-and-python-top-10/#create\n",
      "def convert_to_rdotmap(row):\n",
      "    \"\"\"takes the P005 variables and maps to a series with White, Black, Asian, Hispanic, Other\n",
      "    Total and Name\"\"\"\n",
      "    return pd.Series({'Total':row['P0050001'],\n",
      "                      'White':row['P0050003'],\n",
      "                      'Black':row['P0050004'],\n",
      "                      'Asian':row['P0050006'],\n",
      "                      'Hispanic':row['P0050010'],\n",
      "                      'Other': row['P0050005'] + row['P0050007'] + row['P0050008'] + row['P0050009'],\n",
      "                      'Name': row['NAME']\n",
      "                      }, index=['Name', 'Total', 'White', 'Black', 'Hispanic', 'Asian', 'Other'])\n",
      "\n",
      "\n",
      "def normalize(s):\n",
      "    \"\"\"take a Series and divide each item by the sum so that the new series adds up to 1.0\"\"\"\n",
      "    total = np.sum(s)\n",
      "    return s.astype('float') / total\n",
      "\n",
      "\n",
      "def entropy(series):\n",
      "    \"\"\"Normalized Shannon Index\"\"\"\n",
      "    # a series in which all the entries are equal should result in normalized entropy of 1.0\n",
      "    \n",
      "    # eliminate 0s\n",
      "    series1 = series[series!=0]\n",
      "\n",
      "    # if len(series) < 2 (i.e., 0 or 1) then return 0\n",
      "    \n",
      "    if len(series) > 1:\n",
      "        # calculate the maximum possible entropy for given length of input series\n",
      "        max_s = -np.log(1.0/len(series))\n",
      "    \n",
      "        total = float(sum(series1))\n",
      "        p = series1.astype('float')/float(total)\n",
      "        return sum(-p*np.log(p))/max_s\n",
      "    else:\n",
      "        return 0.0\n",
      "\n",
      "    \n",
      "def convert_P005_to_int(df):\n",
      "    # do conversion in place\n",
      "    df[list(P005_vars)] = df[list(P005_vars)].astype('int')\n",
      "    return df\n",
      "    \n",
      "\n",
      "def diversity(r):\n",
      "\n",
      "    \"\"\"Returns a DataFrame with the following columns\n",
      "    \"\"\"\n",
      "    df = DataFrame(r)\n",
      "    df = convert_P005_to_int(df)\n",
      "    # df[list(P005_vars)] = df[list(P005_vars)].astype('int')\n",
      "    df1 = df.apply(convert_to_rdotmap, axis=1)\n",
      "    \n",
      "    df1['entropy5'] = df1[['Asian','Black','Hispanic','White','Other']].apply(entropy,axis=1)\n",
      "    df1['entropy4'] = df1[['Asian','Black','Hispanic','White']].apply(entropy,axis=1)\n",
      "    return df1\n"
     ],
     "language": "python",
     "metadata": {},
     "outputs": []
    },
    {
     "cell_type": "code",
     "collapsed": false,
     "input": [
      "# states\n",
      "\n",
      "r=list(states(P005_vars_with_name))\n",
      "diversity(r)"
     ],
     "language": "python",
     "metadata": {},
     "outputs": []
    },
    {
     "cell_type": "code",
     "collapsed": false,
     "input": [
      "# counties\n",
      "\n",
      "r = list(counties(P005_vars_with_name))"
     ],
     "language": "python",
     "metadata": {},
     "outputs": []
    },
    {
     "cell_type": "code",
     "collapsed": false,
     "input": [
      "df2 = diversity(r)"
     ],
     "language": "python",
     "metadata": {},
     "outputs": []
    },
    {
     "cell_type": "code",
     "collapsed": false,
     "input": [
      "df2.sort_index(by='entropy5',ascending=False)"
     ],
     "language": "python",
     "metadata": {},
     "outputs": []
    }
   ],
   "metadata": {}
  }
 ]
}