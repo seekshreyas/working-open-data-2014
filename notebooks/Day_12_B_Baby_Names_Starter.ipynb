{
 "metadata": {
  "name": "",
  "signature": "sha256:bc2f2e4168ab141554cd443aa7f5b73587bbe64ede03c0ef062a4ca1b7e1f24d"
 },
 "nbformat": 3,
 "nbformat_minor": 0,
 "worksheets": [
  {
   "cells": [
    {
     "cell_type": "heading",
     "level": 1,
     "metadata": {},
     "source": [
      "Goals"
     ]
    },
    {
     "cell_type": "markdown",
     "metadata": {},
     "source": [
      "* learn from how `PfDA` treats the baby names database\n",
      "* focus on a specific problem with the baby names database: compute the change in the sex of persons with given names"
     ]
    },
    {
     "cell_type": "code",
     "collapsed": false,
     "input": [
      "%pylab --no-import-all inline"
     ],
     "language": "python",
     "metadata": {},
     "outputs": []
    },
    {
     "cell_type": "code",
     "collapsed": false,
     "input": [
      "import matplotlib.pyplot as plt\n",
      "import numpy as np\n",
      "\n",
      "from pylab import figure, show\n",
      "\n",
      "from pandas import DataFrame, Series\n",
      "import pandas as pd"
     ],
     "language": "python",
     "metadata": {},
     "outputs": []
    },
    {
     "cell_type": "heading",
     "level": 1,
     "metadata": {},
     "source": [
      "Preliminaries: Assumed location of pydata-book files"
     ]
    },
    {
     "cell_type": "markdown",
     "metadata": {},
     "source": [
      "To make it more practical for me to look at your homework, I'm again going to assume a relative placement of files.  I placed the files from \n",
      "\n",
      "https://github.com/pydata/pydata-book\n",
      "\n",
      "in a local directory, which in my case is \"/Users/raymondyee/D/Document/Working_with_Open_Data/pydata-book/\" \n",
      "\n",
      "and then symbolically linked (`ln -s`) to the the pydata-book from the root directory of the working-open-data folder.  i.e., on OS X\n",
      "\n",
      "    cd /Users/raymondyee/D/Document/Working_with_Open_Data/working-open-data\n",
      "    ln -s /Users/raymondyee/D/Document/Working_with_Open_Data/pydata-book/ pydata-book\n",
      "\n",
      "That way the files from the pydata-book repository look like they sit in the working-open-data directory -- without having to actually copy the files.\n",
      "\n",
      "With this arrangment, I should then be able to drop your notebook into my own notebooks directory and run them without having to mess around with paths."
     ]
    },
    {
     "cell_type": "code",
     "collapsed": false,
     "input": [
      "import os\n",
      "\n",
      "NAMES_DIR = os.path.join(os.pardir, \"pydata-book\", \"ch02\", \"names\")\n",
      "\n",
      "assert os.path.exists(NAMES_DIR)"
     ],
     "language": "python",
     "metadata": {},
     "outputs": []
    },
    {
     "cell_type": "markdown",
     "metadata": {},
     "source": [
      "**Please make sure the above assertion works.**"
     ]
    },
    {
     "cell_type": "heading",
     "level": 1,
     "metadata": {},
     "source": [
      "Baby names dataset"
     ]
    },
    {
     "cell_type": "markdown",
     "metadata": {},
     "source": [
      "discussed in p. 35 of `PfDA` book"
     ]
    },
    {
     "cell_type": "markdown",
     "metadata": {},
     "source": [
      "To download all the data, including that for 2011 and 2012: [Popular Baby Names](http://www.ssa.gov/OACT/babynames/limits.html) --> includes state by state data."
     ]
    },
    {
     "cell_type": "heading",
     "level": 2,
     "metadata": {},
     "source": [
      "Start with one year 1880"
     ]
    },
    {
     "cell_type": "code",
     "collapsed": false,
     "input": [
      "# take a look at some lines from each of the names files\n",
      "\n",
      "import os\n",
      "os.path.join(NAMES_DIR,'yob1880.txt')\n",
      "yob1880_path = os.path.join(NAMES_DIR,'yob1880.txt')\n",
      "!head $yob1880_path"
     ],
     "language": "python",
     "metadata": {},
     "outputs": []
    },
    {
     "cell_type": "code",
     "collapsed": false,
     "input": [
      "# create a DataFrame for 1880 data\n",
      "\n",
      "import pandas as pd\n",
      "import codecs\n",
      "\n",
      "names1880_file = codecs.open(os.path.join(NAMES_DIR,'yob1880.txt'), encoding='iso-8859-1')\n",
      "names1880 = pd.read_csv(names1880_file, names=['name', 'sex', 'births'])\n",
      "\n",
      "names1880.head()"
     ],
     "language": "python",
     "metadata": {},
     "outputs": []
    },
    {
     "cell_type": "code",
     "collapsed": false,
     "input": [
      "# how many females represented in the 1880 data?\n",
      "\n",
      "names1880[names1880.sex=='F']['births'].sum()"
     ],
     "language": "python",
     "metadata": {},
     "outputs": []
    },
    {
     "cell_type": "code",
     "collapsed": false,
     "input": [
      "# number of names in 1880 file\n",
      "\n",
      "len(names1880.groupby('name')) "
     ],
     "language": "python",
     "metadata": {},
     "outputs": []
    },
    {
     "cell_type": "code",
     "collapsed": false,
     "input": [
      "# group by name to find out which names are both M and F -- by looking at which names have more \n",
      "# than one sex represented.\n",
      "\n",
      "name_count = names1880.groupby('name').apply(lambda s: len(s))\n",
      "set(name_count[name_count > 1].index)"
     ],
     "language": "python",
     "metadata": {},
     "outputs": []
    },
    {
     "cell_type": "code",
     "collapsed": false,
     "input": [
      "# number of births by sex for 1880\n",
      "\n",
      "names1880.groupby('sex').sum()"
     ],
     "language": "python",
     "metadata": {},
     "outputs": []
    },
    {
     "cell_type": "code",
     "collapsed": false,
     "input": [
      "# total number of births in 1880\n",
      "\n",
      "names1880['births'].sum()"
     ],
     "language": "python",
     "metadata": {},
     "outputs": []
    },
    {
     "cell_type": "code",
     "collapsed": false,
     "input": [
      "# sort by number of births to get most popular names \n",
      "\n",
      "names1880.sort('births', ascending=False)[:10]"
     ],
     "language": "python",
     "metadata": {},
     "outputs": []
    },
    {
     "cell_type": "code",
     "collapsed": false,
     "input": [
      "# most popular female names\n",
      "\n",
      "names1880[names1880.sex == 'F'].sort('births', ascending=False)[:10]"
     ],
     "language": "python",
     "metadata": {},
     "outputs": []
    },
    {
     "cell_type": "code",
     "collapsed": false,
     "input": [
      "# try out seaborn if you want\n",
      "# import seaborn as sns"
     ],
     "language": "python",
     "metadata": {},
     "outputs": []
    },
    {
     "cell_type": "code",
     "collapsed": false,
     "input": [
      "num_names1880 = len(names1880['births'].order(ascending=False))\n",
      "plt.plot(np.arange(num_names1880), names1880['births'].order(ascending=False), 'ro', ms=1)\n",
      "plt.yscale('log')\n",
      "plt.xlabel('order of name')\n",
      "plt.ylabel('number of babies')"
     ],
     "language": "python",
     "metadata": {},
     "outputs": []
    },
    {
     "cell_type": "heading",
     "level": 1,
     "metadata": {},
     "source": [
      "Loading all data into Pandas"
     ]
    },
    {
     "cell_type": "code",
     "collapsed": false,
     "input": [
      "!ls $NAMES_DIR"
     ],
     "language": "python",
     "metadata": {},
     "outputs": []
    },
    {
     "cell_type": "code",
     "collapsed": false,
     "input": [
      "# 2010 is the last available year in the pydata-book repo\n",
      "import os\n",
      "\n",
      "years = range(1880, 2011)\n",
      "\n",
      "pieces = []\n",
      "columns = ['name', 'sex', 'births']\n",
      "\n",
      "for year in years:\n",
      "    path = os.path.join(NAMES_DIR, 'yob%d.txt' % year)\n",
      "    frame = pd.read_csv(path, names=columns)\n",
      "\n",
      "    frame['year'] = year\n",
      "    pieces.append(frame)\n",
      "\n",
      "# Concatenate everything into a single DataFrame\n",
      "names = pd.concat(pieces, ignore_index=True)\n",
      "\n",
      "# why floats?  I'm not sure.\n",
      "names.describe()"
     ],
     "language": "python",
     "metadata": {},
     "outputs": []
    },
    {
     "cell_type": "code",
     "collapsed": false,
     "input": [
      "# how many people, names, males and females  represented in names?\n",
      "\n",
      "names.births.sum()"
     ],
     "language": "python",
     "metadata": {},
     "outputs": []
    },
    {
     "cell_type": "code",
     "collapsed": false,
     "input": [
      "# F vs M\n",
      "\n",
      "names.groupby('sex')['births'].sum()"
     ],
     "language": "python",
     "metadata": {},
     "outputs": []
    },
    {
     "cell_type": "code",
     "collapsed": false,
     "input": [
      "# total number of names\n",
      "\n",
      "len(names.groupby('name'))"
     ],
     "language": "python",
     "metadata": {},
     "outputs": []
    },
    {
     "cell_type": "code",
     "collapsed": false,
     "input": [
      "# use pivot_table to collect records by year (rows) and sex (columns)\n",
      "\n",
      "total_births = names.pivot_table('births', rows='year', cols='sex', aggfunc=sum)\n",
      "total_births.head()"
     ],
     "language": "python",
     "metadata": {},
     "outputs": []
    },
    {
     "cell_type": "code",
     "collapsed": false,
     "input": [
      "# You can use groupy to get equivalent pivot_table calculation\n",
      "\n",
      "names.groupby('year').apply(lambda s: s.groupby('sex').agg('sum')).unstack()['births']"
     ],
     "language": "python",
     "metadata": {},
     "outputs": []
    },
    {
     "cell_type": "code",
     "collapsed": false,
     "input": [
      "# how to calculate the total births / year\n",
      "\n",
      "names.groupby('year').sum().plot(title=\"total births by year\")"
     ],
     "language": "python",
     "metadata": {},
     "outputs": []
    },
    {
     "cell_type": "code",
     "collapsed": false,
     "input": [
      "names.groupby('year').apply(lambda s: s.groupby('sex').agg('sum')).unstack()['births'].plot(title=\"births (M/F) by year\")"
     ],
     "language": "python",
     "metadata": {},
     "outputs": []
    },
    {
     "cell_type": "code",
     "collapsed": false,
     "input": [
      "# number of names in 1880\n",
      "#names.groupby('year').apply(lambda s: s.groupby('name').agg('count'))\n",
      "#len(names1880.groupby('name').agg('count'))\n",
      "len(names1880.groupby('name'))"
     ],
     "language": "python",
     "metadata": {},
     "outputs": []
    },
    {
     "cell_type": "code",
     "collapsed": false,
     "input": [
      "# can groupby more than one column\n",
      "# 131 years x 2 sexes\n",
      "\n",
      "len(names.groupby(['year', 'sex']))"
     ],
     "language": "python",
     "metadata": {},
     "outputs": []
    },
    {
     "cell_type": "code",
     "collapsed": false,
     "input": [
      "# how many combo of name x year\n",
      "\n",
      "len(names.groupby(['name','year']))"
     ],
     "language": "python",
     "metadata": {},
     "outputs": []
    },
    {
     "cell_type": "code",
     "collapsed": false,
     "input": [
      "# from book: add prop to names\n",
      "\n",
      "def add_prop(group):\n",
      "    # Integer division floors\n",
      "    births = group.births.astype(float)\n",
      "\n",
      "    group['prop'] = births / births.sum()\n",
      "    return group\n",
      "\n",
      "names = names.groupby(['year', 'sex']).apply(add_prop)\n"
     ],
     "language": "python",
     "metadata": {},
     "outputs": []
    },
    {
     "cell_type": "code",
     "collapsed": false,
     "input": [
      "# verify prop --> all adds up to 1\n",
      "\n",
      "np.allclose(names.groupby(['year', 'sex']).prop.sum(), 1)"
     ],
     "language": "python",
     "metadata": {},
     "outputs": []
    },
    {
     "cell_type": "code",
     "collapsed": false,
     "input": [
      "# number of records in full names dataframe\n",
      "\n",
      "len(names)"
     ],
     "language": "python",
     "metadata": {},
     "outputs": []
    },
    {
     "cell_type": "code",
     "collapsed": false,
     "input": [
      "#  from book: useful to work with top 1000 for each year/sex combo\n",
      "# can use groupby/apply\n",
      "\n",
      "names.groupby(['year', 'sex']).apply(lambda g: g.sort_index(by='births', ascending=False)[:1000])"
     ],
     "language": "python",
     "metadata": {},
     "outputs": []
    },
    {
     "cell_type": "code",
     "collapsed": false,
     "input": [
      "def get_top1000(group):\n",
      "    return group.sort_index(by='births', ascending=False)[:1000]\n",
      "\n",
      "grouped = names.groupby(['year', 'sex'])\n",
      "top1000 = grouped.apply(get_top1000)\n",
      "top1000.head()"
     ],
     "language": "python",
     "metadata": {},
     "outputs": []
    },
    {
     "cell_type": "code",
     "collapsed": false,
     "input": [
      "# Do pivot table: row: year and cols= names for top 1000\n",
      "\n",
      "top_births = top1000.pivot_table('births', rows='year', cols='name', aggfunc=np.sum)\n",
      "top_births.tail()"
     ],
     "language": "python",
     "metadata": {},
     "outputs": []
    },
    {
     "cell_type": "code",
     "collapsed": false,
     "input": [
      "# is your name in the top_births list?\n",
      "\n",
      "top_births['Raymond'].plot(title='plot for Raymond')"
     ],
     "language": "python",
     "metadata": {},
     "outputs": []
    },
    {
     "cell_type": "code",
     "collapsed": false,
     "input": [
      "# for Aaden, which shows up at the end\n",
      "\n",
      "top_births.Aaden.plot(xlim=[1880,2010])"
     ],
     "language": "python",
     "metadata": {},
     "outputs": []
    },
    {
     "cell_type": "code",
     "collapsed": false,
     "input": [
      "# number of names represented in top_births\n",
      "\n",
      "len(top_births.columns)"
     ],
     "language": "python",
     "metadata": {},
     "outputs": []
    },
    {
     "cell_type": "code",
     "collapsed": false,
     "input": [
      "# how to get the most popular name of all time in top_births?\n",
      "\n",
      "most_common_names = top_births.sum()\n",
      "most_common_names.sort(ascending=False)\n",
      "\n",
      "most_common_names.head()"
     ],
     "language": "python",
     "metadata": {},
     "outputs": []
    },
    {
     "cell_type": "code",
     "collapsed": false,
     "input": [
      "plt.figure()\n",
      "most_common_names[:50][::-1].plot(kind='barh', figsize=(10,10))"
     ],
     "language": "python",
     "metadata": {},
     "outputs": []
    },
    {
     "cell_type": "heading",
     "level": 1,
     "metadata": {},
     "source": [
      "Starts and Ends of Names"
     ]
    },
    {
     "cell_type": "markdown",
     "metadata": {},
     "source": [
      "We go from 1880 to 2010. \n",
      "\n",
      "It might be helpful to calculate a cumulative sum for all names...\n",
      "\n",
      "* For a name start to happen --> look for the the first non-zero value \n",
      "* For a name death to happen, the cumulative sum has to reach max.\n",
      "\n"
     ]
    },
    {
     "cell_type": "code",
     "collapsed": false,
     "input": [
      "# replace n/a with 0 -- might not actually need to do this\n",
      "\n",
      "top_births = top_births.fillna(0)"
     ],
     "language": "python",
     "metadata": {},
     "outputs": []
    },
    {
     "cell_type": "code",
     "collapsed": false,
     "input": [
      "top_births_cumsum = top_births.apply(lambda s: s.cumsum(), axis=0)"
     ],
     "language": "python",
     "metadata": {},
     "outputs": []
    },
    {
     "cell_type": "code",
     "collapsed": false,
     "input": [
      "def start_year(s):\n",
      "    active_years = s.index[s > 0]\n",
      "    if len(active_years):\n",
      "        return active_years[0]\n",
      "    else:\n",
      "        return None\n",
      "    \n",
      "def end_year(s):\n",
      "    max_years = s.index[s == s.irow(-1)]\n",
      "    return max_years[0]\n",
      "\n",
      "def start_end_years(s):\n",
      "    active_years = s.index[s > 0]\n",
      "    max_years = s.index[s == s.irow(-1)]\n",
      "    return Series({'start': active_years[0] if len(active_years) else None,\n",
      "                   'end': max_years[0] })\n",
      "    \n",
      "    \n",
      "top_births_cumsum.apply(start_end_years)\n"
     ],
     "language": "python",
     "metadata": {},
     "outputs": []
    },
    {
     "cell_type": "heading",
     "level": 2,
     "metadata": {},
     "source": [
      "start/end calc with whole data set"
     ]
    },
    {
     "cell_type": "code",
     "collapsed": false,
     "input": [
      "# instead of top_birth -- get all_births\n",
      "\n",
      "all_births = names.pivot_table('births', rows='year', cols='name', aggfunc=sum)"
     ],
     "language": "python",
     "metadata": {},
     "outputs": []
    },
    {
     "cell_type": "code",
     "collapsed": false,
     "input": [
      "all_births = all_births.fillna(0)\n",
      "all_births.tail()"
     ],
     "language": "python",
     "metadata": {},
     "outputs": []
    },
    {
     "cell_type": "code",
     "collapsed": false,
     "input": [
      "# set up to do start/end calculation\n",
      "\n",
      "all_births_cumsum = all_births.apply(lambda s: s.cumsum(), axis=0)"
     ],
     "language": "python",
     "metadata": {},
     "outputs": []
    },
    {
     "cell_type": "code",
     "collapsed": false,
     "input": [
      "all_births_cumsum.tail()"
     ],
     "language": "python",
     "metadata": {},
     "outputs": []
    },
    {
     "cell_type": "code",
     "collapsed": false,
     "input": [
      "def start_end_years(s):\n",
      "    active_years = s.index[s > 0]\n",
      "    max_years = s.index[s == s.irow(-1)]\n",
      "    return Series({'start': active_years[0] if len(active_years) else None,\n",
      "                   'end': max_years[0] })\n",
      "    \n",
      "    \n",
      "all_start_end = all_births_cumsum.apply(start_end_years)"
     ],
     "language": "python",
     "metadata": {},
     "outputs": []
    },
    {
     "cell_type": "code",
     "collapsed": false,
     "input": [
      "# all_start_end.to_pickle('Day_12_Baby_Names_all_start_end.pickle')"
     ],
     "language": "python",
     "metadata": {},
     "outputs": []
    },
    {
     "cell_type": "code",
     "collapsed": false,
     "input": [
      "all_start_end.tail()"
     ],
     "language": "python",
     "metadata": {},
     "outputs": []
    },
    {
     "cell_type": "code",
     "collapsed": false,
     "input": [
      "vc_start = all_start_end.ix['start'].value_counts()\n",
      "vc_end = all_start_end.ix['end'].value_counts()\n",
      "\n",
      "fig = plt.figure()\n",
      "ax1 = fig.add_subplot(111)\n",
      "plt.ylim(0,2000)\n",
      "ax1.scatter(vc_start.index, vc_start, c='b')\n",
      "ax1.scatter(vc_end.index, vc_end, c='r')\n",
      "ax1.set_xlabel('year')\n",
      "ax1.set_xlabel('number of starts/ends')\n",
      "\n",
      "plt.tight_layout()\n",
      "\n",
      "plt.show()"
     ],
     "language": "python",
     "metadata": {},
     "outputs": []
    },
    {
     "cell_type": "heading",
     "level": 1,
     "metadata": {},
     "source": [
      "Experiments -- don't need to look at closely"
     ]
    },
    {
     "cell_type": "code",
     "collapsed": false,
     "input": [
      "# max / min totals and when? -- awkward -- must be a better way\n",
      "total_births_sum = names.groupby('year').sum()\n",
      "max_value = list(total_births_sum.max())[0]\n",
      "min_value = list(total_births_sum.min())[0]\n",
      "\n",
      "is_max = total_births_sum.births == max_value\n",
      "is_min = total_births_sum.births == min_value\n",
      "is_max[is_max], is_min[is_min]"
     ],
     "language": "python",
     "metadata": {},
     "outputs": []
    },
    {
     "cell_type": "code",
     "collapsed": false,
     "input": [
      "# a \"derivative\" -- when is there great population rate change\n",
      "\n",
      "total_births_sum.diff().plot()"
     ],
     "language": "python",
     "metadata": {},
     "outputs": []
    },
    {
     "cell_type": "code",
     "collapsed": false,
     "input": [
      "# plot multiple names on same plot or as multiple axes\n",
      "\n",
      "def name_sex_count_in_year(name,sex):\n",
      "    return names[(names.name==name) & (names.sex==sex)][['year', 'births']].set_index(keys='year')\n",
      "\n",
      "def name_sex_prop_in_year(name,sex):\n",
      "    return names[(names.name==name) & (names.sex==sex)][['year', 'prop']].set_index(keys='year')\n",
      "\n",
      "name_df = DataFrame(index=np.arange(1880,2010))\n",
      "\n",
      "name_df['Raymond'] = name_sex_count_in_year('Raymond','M')\n",
      "name_df['Laura'] = name_sex_count_in_year('Laura','F')\n",
      "\n",
      "name_df.plot()\n"
     ],
     "language": "python",
     "metadata": {},
     "outputs": []
    },
    {
     "cell_type": "code",
     "collapsed": false,
     "input": [
      "# plot proportion instead of absolute births\n",
      "\n",
      "name_df = DataFrame(index=np.arange(1880,2010))\n",
      "\n",
      "name_df['Raymond'] = name_sex_prop_in_year('Raymond','M')\n",
      "name_df['Laura'] = name_sex_prop_in_year('Laura','F')\n",
      "\n",
      "name_df.plot()"
     ],
     "language": "python",
     "metadata": {},
     "outputs": []
    },
    {
     "cell_type": "code",
     "collapsed": false,
     "input": [
      "total_births.plot(title='Total births by sex and year')"
     ],
     "language": "python",
     "metadata": {},
     "outputs": []
    },
    {
     "cell_type": "code",
     "collapsed": false,
     "input": [
      "# http://en.wikipedia.org/wiki/Human_sex_ratio\n",
      "# make an agg figure\n",
      "fig = figure()\n",
      "\n",
      "# meaning of 111: http://stackoverflow.com/a/3584933/7782\n",
      "ax = fig.add_subplot(111)\n",
      "ax.set_title('Ratio of M to F births')\n",
      "\n",
      "cum_ratio_by_sex = total_births.M.cumsum() / total_births.F.cumsum()\n",
      "cum_ratio_by_sex.plot(ax=ax, label=\"cumulative\", color=\"red\")\n",
      "\n",
      "# add instantaneous ratio\n",
      "\n",
      "annual_ratio_by_sex = total_births.M / total_births.F\n",
      "annual_ratio_by_sex.plot(ax=ax, label=\"annual\", color=\"green\")\n",
      "\n",
      "ax.legend(loc='best')\n",
      "\n",
      "fig.canvas.draw()"
     ],
     "language": "python",
     "metadata": {},
     "outputs": []
    },
    {
     "cell_type": "code",
     "collapsed": false,
     "input": [
      "# number of names over time\n",
      "\n",
      "names.groupby('year').count()[['name']].plot()"
     ],
     "language": "python",
     "metadata": {},
     "outputs": []
    },
    {
     "cell_type": "code",
     "collapsed": false,
     "input": [
      "# first attempt to calculate entropy of names\n",
      "\n",
      "fig = figure()\n",
      "\n",
      "# meaning of 111: http://stackoverflow.com/a/3584933/7782\n",
      "ax = fig.add_subplot(111)\n",
      "ax.set_title('Entropy of names')\n",
      "\n",
      "S_male = names[names.sex=='M'].groupby('year').prop.agg(lambda x: sum([-j*np.log(j) for j in x])) # apply(lambda x: -x*log(x))\n",
      "S_male.plot(ax=ax, label=\"M\", color=\"blue\")\n",
      "\n",
      "S_female = names[names.sex=='F'].groupby('year').prop.agg(lambda x: sum([-j*np.log(j) for j in x])) # apply(lambda x: -x*log(x))\n",
      "S_female.plot(ax=ax, label=\"F\", color=\"red\")\n",
      "\n",
      "ax.legend(loc='best')\n",
      "ax.set_ylim(0)\n",
      "\n",
      "fig.canvas.draw()\n"
     ],
     "language": "python",
     "metadata": {},
     "outputs": []
    },
    {
     "cell_type": "heading",
     "level": 2,
     "metadata": {},
     "source": [
      "Names that are both M and F"
     ]
    },
    {
     "cell_type": "markdown",
     "metadata": {},
     "source": [
      "Goal:  start to explore names that have been given to both male and female babies. Is there a general trend to feminization of names?  (That is, is it more likely that names start as male names become feminine names than vice versa?)"
     ]
    }
   ],
   "metadata": {}
  }
 ]
}