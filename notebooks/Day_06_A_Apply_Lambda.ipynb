{
 "metadata": {
  "name": ""
 },
 "nbformat": 3,
 "nbformat_minor": 0,
 "worksheets": [
  {
   "cells": [
    {
     "cell_type": "heading",
     "level": 1,
     "metadata": {},
     "source": [
      "Purpose of This Notebook"
     ]
    },
    {
     "cell_type": "markdown",
     "metadata": {},
     "source": [
      "* how to use `apply` on a pandas `Series` and `DataFrame`\n",
      "* show a bit about how `lambda` functions work"
     ]
    },
    {
     "cell_type": "code",
     "collapsed": false,
     "input": [
      "# numpy and pandas related imports \n",
      "\n",
      "import numpy as np\n",
      "from pandas import Series, DataFrame\n",
      "import pandas as pd\n"
     ],
     "language": "python",
     "metadata": {},
     "outputs": []
    },
    {
     "cell_type": "heading",
     "level": 1,
     "metadata": {},
     "source": [
      "Setup:  create Series and DataFrames"
     ]
    },
    {
     "cell_type": "markdown",
     "metadata": {},
     "source": [
      "Let's make two Series and a DataFrame to use for our example"
     ]
    },
    {
     "cell_type": "code",
     "collapsed": false,
     "input": [
      "# for example, using lower and uppercase English letters\n",
      "\n",
      "import string\n",
      "string.lowercase, string.uppercase"
     ],
     "language": "python",
     "metadata": {},
     "outputs": []
    },
    {
     "cell_type": "code",
     "collapsed": false,
     "input": [
      "# we can make a list composed of the individual lowercase letters \n",
      "\n",
      "list(string.lowercase)"
     ],
     "language": "python",
     "metadata": {},
     "outputs": []
    },
    {
     "cell_type": "code",
     "collapsed": false,
     "input": [
      "# create a pandas Series out of the list of lowercase letters\n",
      "\n",
      "lower = Series(list(string.lowercase), name='lower')\n",
      "print type(lower)\n",
      "lower.head()"
     ],
     "language": "python",
     "metadata": {},
     "outputs": []
    },
    {
     "cell_type": "code",
     "collapsed": false,
     "input": [
      "# create a pandas Series out of the list of lowercase letters\n",
      "\n",
      "upper = Series(list(string.uppercase), name='upper')"
     ],
     "language": "python",
     "metadata": {},
     "outputs": []
    },
    {
     "cell_type": "code",
     "collapsed": false,
     "input": [
      "# concatenate the two Series as columns, using axis=1 \n",
      "# axis = 0 would result in two rows in the DataFrame\n",
      "\n",
      "df = pd.concat((lower, upper), axis=1)\n",
      "df.head()"
     ],
     "language": "python",
     "metadata": {},
     "outputs": []
    },
    {
     "cell_type": "heading",
     "level": 1,
     "metadata": {},
     "source": [
      "Using apply"
     ]
    },
    {
     "cell_type": "heading",
     "level": 2,
     "metadata": {},
     "source": [
      "Series.apply"
     ]
    },
    {
     "cell_type": "markdown",
     "metadata": {},
     "source": [
      "http://pandas.pydata.org/pandas-docs/stable/generated/pandas.Series.apply.html:\n",
      "   \n",
      "    Series.apply(func, convert_dtype=True, args=(), **kwds)\n",
      "\n",
      "    Invoke function on values of Series."
     ]
    },
    {
     "cell_type": "code",
     "collapsed": false,
     "input": [
      "# Let's start by using Series.apply\n",
      "# http://pandas.pydata.org/pandas-docs/stable/generated/pandas.Series.apply.html\n",
      "\n",
      "# first of all, it's useful to find a way to use apply to return the exact same Series\n",
      "\n",
      "def identity(s):\n",
      "    return s\n",
      "\n",
      "lower.apply(identity)"
     ],
     "language": "python",
     "metadata": {},
     "outputs": []
    },
    {
     "cell_type": "code",
     "collapsed": false,
     "input": [
      "# show that identity yields the same Series -- first on element by element basis\n",
      "\n",
      "lower.apply(identity) == lower"
     ],
     "language": "python",
     "metadata": {},
     "outputs": []
    },
    {
     "cell_type": "code",
     "collapsed": false,
     "input": [
      "# Check that match happens for every element in the Series using numpy.all\n",
      "# http://docs.scipy.org/doc/numpy/reference/generated/numpy.all.html\n",
      "\n",
      "np.all(lower.apply(identity) == lower)"
     ],
     "language": "python",
     "metadata": {},
     "outputs": []
    },
    {
     "cell_type": "heading",
     "level": 2,
     "metadata": {},
     "source": [
      "Let's use `lambda`"
     ]
    },
    {
     "cell_type": "markdown",
     "metadata": {},
     "source": [
      "Sometimes it's convenient to write functions using `lambda`, especially short functions for doing a simple transformation of the parameters.  Only some functions can be rewritten with `lambda`. "
     ]
    },
    {
     "cell_type": "code",
     "collapsed": false,
     "input": [
      "def add_preface(s):\n",
      "    return 'letter ' + s\n",
      "\n",
      "lower.apply(add_preface)"
     ],
     "language": "python",
     "metadata": {},
     "outputs": []
    },
    {
     "cell_type": "code",
     "collapsed": false,
     "input": [
      "# rewrite with lambda\n",
      "\n",
      "lower.apply(lambda s: 'letter ' + s)"
     ],
     "language": "python",
     "metadata": {},
     "outputs": []
    },
    {
     "cell_type": "heading",
     "level": 3,
     "metadata": {},
     "source": [
      "Another illustration of apply"
     ]
    },
    {
     "cell_type": "markdown",
     "metadata": {},
     "source": [
      "Another illustration of using `apply` -- using `ord` and `chr`"
     ]
    },
    {
     "cell_type": "code",
     "collapsed": false,
     "input": [
      "# ord: Given a string of length one, return an integer representing the Unicode code \n",
      "# point of the character when the argument is a unicode object, or the value of the \n",
      "# byte when the argument is an 8-bit string. \n",
      "# http://docs.python.org/2.7/library/functions.html#ord\n",
      "\n",
      "ord('a')"
     ],
     "language": "python",
     "metadata": {},
     "outputs": []
    },
    {
     "cell_type": "code",
     "collapsed": false,
     "input": [
      "# chr: Return a string of one character whose ASCII code is the integer i.\n",
      "# http://docs.python.org/2.7/library/functions.html#chr\n",
      "\n",
      "chr(97)"
     ],
     "language": "python",
     "metadata": {},
     "outputs": []
    },
    {
     "cell_type": "code",
     "collapsed": false,
     "input": [
      "# show that for the case of 'a', chr(ord()) returns what we start with:'a'\n",
      "\n",
      "chr(ord('a')) == 'a'"
     ],
     "language": "python",
     "metadata": {},
     "outputs": []
    },
    {
     "cell_type": "code",
     "collapsed": false,
     "input": [
      "# we can test whether chr reverses ord for all the lower case letters\n",
      "# note how we chain two apply together\n",
      "\n",
      "np.all(lower.apply(ord).apply(chr) == lower)"
     ],
     "language": "python",
     "metadata": {},
     "outputs": []
    },
    {
     "cell_type": "markdown",
     "metadata": {},
     "source": [
      "Note that we read off a specific series from the DataFrame"
     ]
    },
    {
     "cell_type": "code",
     "collapsed": false,
     "input": [
      "type(df.upper)"
     ],
     "language": "python",
     "metadata": {},
     "outputs": []
    },
    {
     "cell_type": "code",
     "collapsed": false,
     "input": [
      "# transform\n",
      "df.upper.apply(lambda s: s.lower())"
     ],
     "language": "python",
     "metadata": {},
     "outputs": []
    },
    {
     "cell_type": "heading",
     "level": 2,
     "metadata": {},
     "source": [
      "DataFrame.apply"
     ]
    },
    {
     "cell_type": "markdown",
     "metadata": {},
     "source": [
      "`apply` can also be applied to a `DataFrame`\n",
      "\n",
      "http://pandas.pydata.org/pandas-docs/dev/generated/pandas.DataFrame.apply.html\n",
      "\n",
      "    DataFrame.apply(func, axis=0, broadcast=False, raw=False, reduce=None, args=(), **kwds)\n",
      "    Applies function along input axis of DataFrame.\n",
      "\n",
      "    Objects passed to functions are Series objects having index either the DataFrame\u2019s index (axis=0) or the columns (axis=1). Return type depends on whether passed function aggregates, or the reduce argument if the DataFrame is empty."
     ]
    },
    {
     "cell_type": "code",
     "collapsed": false,
     "input": [
      "# let's show that whether we use apply on columns (axis=0) or rows (axis=1), we get the same \n",
      "# result\n",
      "\n",
      "def identity(s):\n",
      "    return s\n",
      "\n",
      "np.all(df.apply(identity, axis=0) == df.apply(identity, axis=1))"
     ],
     "language": "python",
     "metadata": {},
     "outputs": []
    },
    {
     "cell_type": "code",
     "collapsed": false,
     "input": [
      "# for each column, first lower and then upper, return the index\n",
      "\n",
      "def index(s):\n",
      "    return s.index\n",
      "\n",
      "df.apply(index, axis=0)\n"
     ],
     "language": "python",
     "metadata": {},
     "outputs": []
    },
    {
     "cell_type": "code",
     "collapsed": false,
     "input": [
      "# for each row (axis=1), first lower and then upper, return the index \n",
      "# (which are the column names)\n",
      "\n",
      "def index(s):\n",
      "    return s.index\n",
      "\n",
      "df.apply(index, axis=1)\n"
     ],
     "language": "python",
     "metadata": {},
     "outputs": []
    },
    {
     "cell_type": "code",
     "collapsed": false,
     "input": [
      "# it might be easier to see the difference between axis=0 vs axis=1\n",
      "# by using join\n",
      "\n",
      "# Consider what you get with\n",
      "\n",
      "\"\".join(df.lower)"
     ],
     "language": "python",
     "metadata": {},
     "outputs": []
    },
    {
     "cell_type": "code",
     "collapsed": false,
     "input": [
      "# Now compare (axis=0)\n",
      "\n",
      "df.apply(lambda s: \"\".join(s), axis=0)"
     ],
     "language": "python",
     "metadata": {},
     "outputs": []
    },
    {
     "cell_type": "code",
     "collapsed": false,
     "input": [
      "# join with axis=1\n",
      "\n",
      "df.apply(lambda s: \"\".join(s), axis=1)"
     ],
     "language": "python",
     "metadata": {},
     "outputs": []
    },
    {
     "cell_type": "code",
     "collapsed": false,
     "input": [
      "# note that you can access use the index in your function passed to apply\n",
      "\n",
      "df.apply(lambda s: s['upper'] + s['lower'], axis=1)"
     ],
     "language": "python",
     "metadata": {},
     "outputs": []
    }
   ],
   "metadata": {}
  }
 ]
}