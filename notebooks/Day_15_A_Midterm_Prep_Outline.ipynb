{
 "metadata": {
  "name": "",
  "signature": "sha256:8c3e297b67faee0c836fd936fa3e79c0602db1f885e2bf9096b5212e1ef967e5"
 },
 "nbformat": 3,
 "nbformat_minor": 0,
 "worksheets": [
  {
   "cells": [
    {
     "cell_type": "markdown",
     "metadata": {},
     "source": [
      "# Midterm\n",
      "\n",
      "The upcoming midterm: (Day 17, 2014-03-18). It will probably consist of mostly multiple choice questions.\n",
      "\n",
      "*The goal of this notebook is to help students to prepare for the midterm* through providing highlights of what we've covered so far."
     ]
    },
    {
     "cell_type": "markdown",
     "metadata": {},
     "source": [
      "## Suggestions about How to Prepare\n",
      "\n",
      "* read through all the materials from the course so far and outline what you understand and don't.\n",
      "* focus on key concepts and those programming constructs that are repeated often."
     ]
    },
    {
     "cell_type": "markdown",
     "metadata": {},
     "source": [
      "# Open Data\n",
      "\n",
      "[Working definition of open data](http://rdhyee.github.io/wwod14/day01.html#(19)\n",
      "\n",
      "\n",
      "From <http://en.wikipedia.org/w/index.php?title=Special:Cite&page=Open_data&id=532390265>:\n",
      "\n",
      "> Open data is the idea that certain data should be freely available to everyone\n",
      "to use and republish as they wish, without restrictions from copyright, patents\n",
      "or other mechanisms of control.\n",
      "\n",
      "<http://opendefinition.org/>:\n",
      "\n",
      "> A piece of content or data is open if anyone is free to use, reuse, and\n",
      "redistribute it \u2014 subject only, at most, to the requirement to attribute and/or\n",
      "share-alike."
     ]
    },
    {
     "cell_type": "markdown",
     "metadata": {},
     "source": [
      "## Examples of Open Data\n",
      "\n",
      "[Day 1: OKFestival /OKCon as indicator of vibrancy of the international open data community](http://rdhyee.github.io/wwod14/day01.html#(20%29)\n",
      "\n",
      "[Day 1: Examples of Open Data](http://rdhyee.github.io/wwod14/day01.html#(31%29)"
     ]
    },
    {
     "cell_type": "markdown",
     "metadata": {},
     "source": [
      "## [Readings from Day 1](http://rdhyee.github.io/wwod14/day01.html#%2825%29)\n",
      "\n",
      "   * read  [Python for Data Analysis Chap 1. Preliminaries : Safari Books Online](http://my.safaribooksonline.com/book/programming/python/9781449323592/1dot-preliminaries/id2664030) The instructions for using\n",
      "     Enthought Python Distribution are out of date.  If you are\n",
      "     looking for a distribution, follow  [the installation\n",
      "     instructions for Anaconda](https://github.com/rdhyee/working-open-data-2014/wiki/IPython-Installation-Options#2-anaconda)  for your computer platform.\n",
      "   * read `PfDA`, Chap 3 [Python for Data Analysis > 3. IPython: An Interactive Computing and Development Environment](http://my.safaribooksonline.com/book/programming/python/9781449323592/3dot-ipython-an-interactive-computing-and-development-environment/id2545624)\n",
      "   * skim `PfDA`, [Appendix: Python Language Essentials](http://my.safaribooksonline.com/book/programming/python/9781449323592/adot-python-language-essentials/id2819503) -- to help remind yourself of key elements of standard Python \n",
      "   * skim `PfDA`, Chap 2 Introductory Examples\n"
     ]
    },
    {
     "cell_type": "markdown",
     "metadata": {},
     "source": [
      "# World Populations\n",
      "\n",
      "[Day_01_B_World_Population.ipynb](http://nbviewer.ipython.org/github/rdhyee/working-open-data-2014/blob/master/notebooks/Day_01_B_World_Population.ipynb)\n",
      "\n",
      "* How was the JSON data from the Wikipeida and the CIA Factbook produced?\n",
      "* Why do the totals from the two sources differ?\n"
     ]
    },
    {
     "cell_type": "markdown",
     "metadata": {},
     "source": [
      "# Racial Dot Map (as a framing example)\n",
      "\n",
      "[The Racial Dot Map: One Dot Per Person | Weldon Cooper Center for Public Service](http://www.coopercenter.org/demographics/Racial-Dot-Map)\n",
      "\n",
      "\n",
      "* What is the Racial Dot Map displaying?\n",
      "* How would you get data relevant to the Racial Dot Map from the Census API?"
     ]
    },
    {
     "cell_type": "heading",
     "level": 1,
     "metadata": {},
     "source": [
      "Census API"
     ]
    },
    {
     "cell_type": "markdown",
     "metadata": {},
     "source": [
      "[Day_02_A_US_Census_API.ipynb](http://nbviewer.ipython.org/github/rdhyee/working-open-data-2014/blob/master/notebooks/Day_02_A_US_Census_API.ipynb)\n",
      "\n",
      "* What's the purpose of an API key?\n",
      "* What is `pip` and how to use it?\n",
      "* Remember the issues of sometimes having to filter to Puerto Rico"
     ]
    },
    {
     "cell_type": "code",
     "collapsed": false,
     "input": [
      "# set up your census object\n",
      "# example from https://github.com/sunlightlabs/census\n",
      "\n",
      "from census import Census\n",
      "from us import states\n",
      "\n",
      "import settings\n",
      "\n",
      "c = Census(settings.CENSUS_KEY)\n",
      "for (i, state) in enumerate(states.STATES):\n",
      "    print i, state.name, state.fips"
     ],
     "language": "python",
     "metadata": {},
     "outputs": [
      {
       "output_type": "stream",
       "stream": "stdout",
       "text": [
        "0 Alabama 01\n",
        "1 Alaska 02\n",
        "2 Arizona 04\n",
        "3 Arkansas 05\n",
        "4 California 06\n",
        "5 Colorado 08\n",
        "6 Connecticut 09\n",
        "7 Delaware 10\n",
        "8 District of Columbia 11\n",
        "9 Florida 12\n",
        "10 Georgia 13\n",
        "11 Hawaii 15\n",
        "12 Idaho 16\n",
        "13 Illinois 17\n",
        "14 Indiana 18\n",
        "15 Iowa 19\n",
        "16 Kansas 20\n",
        "17 Kentucky 21\n",
        "18 Louisiana 22\n",
        "19 Maine 23\n",
        "20 Maryland 24\n",
        "21 Massachusetts 25\n",
        "22 Michigan 26\n",
        "23 Minnesota 27\n",
        "24 Mississippi 28\n",
        "25 Missouri 29\n",
        "26 Montana 30\n",
        "27 Nebraska 31\n",
        "28 Nevada 32\n",
        "29 New Hampshire 33\n",
        "30 New Jersey 34\n",
        "31 New Mexico 35\n",
        "32 New York 36\n",
        "33 North Carolina 37\n",
        "34 North Dakota 38\n",
        "35 Ohio 39\n",
        "36 Oklahoma 40\n",
        "37 Oregon 41\n",
        "38 Pennsylvania 42\n",
        "39 Rhode Island 44\n",
        "40 South Carolina 45\n",
        "41 South Dakota 46\n",
        "42 Tennessee 47\n",
        "43 Texas 48\n",
        "44 Utah 49\n",
        "45 Vermont 50\n",
        "46 Virginia 51\n",
        "47 Washington 53\n",
        "48 West Virginia 54\n",
        "49 Wisconsin 55\n",
        "50 Wyoming 56\n"
       ]
      }
     ],
     "prompt_number": 1
    },
    {
     "cell_type": "markdown",
     "metadata": {},
     "source": [
      "[Formulating-URL-requests-to-the-API-explicitly](http://nbviewer.ipython.org/github/rdhyee/working-open-data-2014/blob/master/notebooks/Day_02_A_US_Census_API.ipynb#Formulating-URL-requests-to-the-API-explicitly)"
     ]
    },
    {
     "cell_type": "code",
     "collapsed": false,
     "input": [
      "import requests\n",
      "# get the total population of all states\n",
      "url = \"http://api.census.gov/data/2010/sf1?key={key}&get=P0010001,NAME&for=state:*\".format(key=settings.CENSUS_KEY)\n",
      "r = requests.get(url)\n",
      "\n",
      "r.json()[:5]"
     ],
     "language": "python",
     "metadata": {},
     "outputs": [
      {
       "metadata": {},
       "output_type": "pyout",
       "prompt_number": 2,
       "text": [
        "[[u'P0010001', u'NAME', u'state'],\n",
        " [u'4779736', u'Alabama', u'01'],\n",
        " [u'710231', u'Alaska', u'02'],\n",
        " [u'6392017', u'Arizona', u'04'],\n",
        " [u'2915918', u'Arkansas', u'05']]"
       ]
      }
     ],
     "prompt_number": 2
    },
    {
     "cell_type": "markdown",
     "metadata": {},
     "source": [
      "[#Total-Population-of-California](http://nbviewer.ipython.org/github/rdhyee/working-open-data-2014/blob/master/notebooks/Day_02_A_US_Census_API.ipynb#Total-Population-of-California)"
     ]
    },
    {
     "cell_type": "code",
     "collapsed": false,
     "input": [
      "c.sf1.get(('NAME', 'P0010001'), {'for': 'state:%s' % states.CA.fips})"
     ],
     "language": "python",
     "metadata": {},
     "outputs": [
      {
       "metadata": {},
       "output_type": "pyout",
       "prompt_number": 3,
       "text": [
        "[{u'NAME': u'California', u'P0010001': u'37253956', u'state': u'06'}]"
       ]
      }
     ],
     "prompt_number": 3
    },
    {
     "cell_type": "markdown",
     "metadata": {},
     "source": [
      "# Execution environments for programs\n",
      "\n",
      "[Day 3: Key Concept for Today: Execution Environment of Python](http://rdhyee.github.io/wwod14/day03.html#(13%29)\n",
      "\n",
      "[Day 3: How I use conda](http://rdhyee.github.io/wwod14/day03.html#(17%29)"
     ]
    },
    {
     "cell_type": "heading",
     "level": 1,
     "metadata": {},
     "source": [
      "Learning the Basics of NumPy and Pandas"
     ]
    },
    {
     "cell_type": "markdown",
     "metadata": {},
     "source": [
      "   * read  [Python for Data Analysis Chap 1. Preliminaries : Safari Books Online](http://my.safaribooksonline.com/book/programming/python/9781449323592/1dot-preliminaries/id2664030) The instructions for using\n",
      "     Enthought Python Distribution are out of date.  If you are\n",
      "     looking for a distribution, follow  [the installation\n",
      "     instructions for Anaconda](https://github.com/rdhyee/working-open-data-2014/wiki/IPython-Installation-Options#2-anaconda)  for your computer platform.\n",
      "   * skim `PfDA`, [Appendix: Python Language Essentials](http://my.safaribooksonline.com/book/programming/python/9781449323592/adot-python-language-essentials/id2819503) -- to help remind yourself of key elements of standard Python \n",
      "   * read `PfDA`, Chap 3 [Python for Data Analysis > 3. IPython: An Interactive Computing and Development Environment](http://my.safaribooksonline.com/book/programming/python/9781449323592/3dot-ipython-an-interactive-computing-and-development-environment/id2545624)\n",
      "   * read `PfDA`, Chap 2 Introductory Examples"
     ]
    },
    {
     "cell_type": "markdown",
     "metadata": {},
     "source": [
      "   \n",
      "[Day 4](http://rdhyee.github.io/wwod14/day04.html#(7%29): Work through [Day_04_B_numpy_and_pandas_series.ipynb](http://nbviewer.ipython.org/github/rdhyee/working-open-data-2014/blob/master/notebooks/Day_04_B_numpy_and_pandas_series.ipynb) (everything before [Advanced: Operator Overloading](http://nbviewer.ipython.org/github/rdhyee/working-open-data-2014/blob/master/notebooks/Day_04_B_numpy_and_pandas_series.ipynb#Advanced:-Operator-Overloading))"
     ]
    },
    {
     "cell_type": "markdown",
     "metadata": {},
     "source": [
      "# Census API skills\n",
      "\n",
      "You should be able to [calculate the total population of the US](http://nbviewer.ipython.org/github/rdhyee/working-open-data-2014/blob/master/notebooks/Day_04_C_Census.ipynb#Total-Population) in the fill-in section of  [Day_04_C_Census.ipynb](http://nbviewer.ipython.org/github/rdhyee/working-open-data-2014/blob/master/notebooks/Day_04_C_Census.ipynb).\n",
      "\n",
      "You should be able to [calculate the population of California by totaling the county populations](http://nbviewer.ipython.org/github/rdhyee/working-open-data-2014/blob/master/notebooks/Day_04_C_Census.ipynb#Total-Population-of-California). \n",
      "\n",
      "For [Day 5: Geographical Hierarchies in the Census](http://rdhyee.github.io/wwod14/day05.html#(1%29), study:\n",
      "\n",
      "* [Day_05_A_Geographical_Hierarchies.ipynb](http://nbviewer.ipython.org/github/rdhyee/working-open-data-2014/blob/master/notebooks/Day_05_A_Geographical_Hierarchies.ipynb) \n",
      "* and answers ([Day_05_B_Geographical_Hierarchies.ipynb](http://nbviewer.ipython.org/github/rdhyee/working-open-data-2014/blob/master/notebooks/Day_05_B_Geographical_Hierarchies.ipynb) \n",
      "\n",
      "\n",
      "[Day_06_C_Calculating_Diversity_Preview.ipynb](http://nbviewer.ipython.org/github/rdhyee/working-open-data-2014/blob/master/notebooks/Day_06_C_Calculating_Diversity_Preview.ipynb) and \n",
      "[Day_06_D_Assignment](https://bcourses.berkeley.edu/courses/1189091/assignments/4634716)"
     ]
    },
    {
     "cell_type": "markdown",
     "metadata": {},
     "source": [
      "# Generators \n",
      "\n",
      "generators  [Day 6: Generators for Geographic Entities](http://rdhyee.github.io/wwod14/day06.html)"
     ]
    },
    {
     "cell_type": "markdown",
     "metadata": {},
     "source": [
      "[Day_06_D_Assignment.ipynb](http://nbviewer.ipython.org/github/rdhyee/working-open-data-2014/blob/master/notebooks/Day_06_D_Assignment.ipynb):  exercise to write a generator for Census Places (answer: [Day_06_E_Assignment_Answers.ipynb](http://nbviewer.ipython.org/github/rdhyee/working-open-data-2014/blob/master/notebooks/Day_06_E_Assignment_Answers.ipynb))"
     ]
    },
    {
     "cell_type": "code",
     "collapsed": false,
     "input": [
      "# You should understand how this works.\n",
      "\n",
      "import pandas as pd\n",
      "from pandas import DataFrame\n",
      "\n",
      "import census\n",
      "import settings\n",
      "import us\n",
      "\n",
      "from itertools import islice\n",
      "\n",
      "c=census.Census(settings.CENSUS_KEY)\n",
      "\n",
      "def places(variables=\"NAME\"):\n",
      "    \n",
      "    for state in us.states.STATES:\n",
      "        print state\n",
      "        geo = {'for':'place:*', 'in':'state:{s_fips}'.format(s_fips=state.fips)}\n",
      "        for place in c.sf1.get(variables, geo=geo):\n",
      "            yield place\n",
      "\n",
      "r = list(islice(places(\"NAME,P0010001\"), None))\n",
      "places_df = DataFrame(r)\n",
      "places_df.P0010001 = places_df.P0010001.astype('int')\n",
      "\n",
      "places_df['FIPS'] = places_df.apply(lambda s: s['state']+s['place'], axis=1)\n",
      "\n",
      "print \"number of places\", len(places_df)\n",
      "print \"total pop\", places_df.P0010001.sum()\n",
      "places_df.head()\n",
      "\n",
      "assert places_df.P0010001.sum() == 228457238\n",
      "# number of places in 2010 Census\n",
      "assert len(places_df) == 29261"
     ],
     "language": "python",
     "metadata": {},
     "outputs": [
      {
       "output_type": "stream",
       "stream": "stdout",
       "text": [
        "Alabama\n",
        "Alaska"
       ]
      },
      {
       "output_type": "stream",
       "stream": "stdout",
       "text": [
        "\n",
        "Arizona"
       ]
      },
      {
       "output_type": "stream",
       "stream": "stdout",
       "text": [
        "\n",
        "Arkansas"
       ]
      },
      {
       "output_type": "stream",
       "stream": "stdout",
       "text": [
        "\n",
        "California"
       ]
      },
      {
       "output_type": "stream",
       "stream": "stdout",
       "text": [
        "\n",
        "Colorado"
       ]
      },
      {
       "output_type": "stream",
       "stream": "stdout",
       "text": [
        "\n",
        "Connecticut"
       ]
      },
      {
       "output_type": "stream",
       "stream": "stdout",
       "text": [
        "\n",
        "Delaware"
       ]
      },
      {
       "output_type": "stream",
       "stream": "stdout",
       "text": [
        "\n",
        "District of Columbia"
       ]
      },
      {
       "output_type": "stream",
       "stream": "stdout",
       "text": [
        "\n",
        "Florida"
       ]
      },
      {
       "output_type": "stream",
       "stream": "stdout",
       "text": [
        "\n",
        "Georgia"
       ]
      },
      {
       "output_type": "stream",
       "stream": "stdout",
       "text": [
        "\n",
        "Hawaii"
       ]
      },
      {
       "output_type": "stream",
       "stream": "stdout",
       "text": [
        "\n",
        "Idaho"
       ]
      },
      {
       "output_type": "stream",
       "stream": "stdout",
       "text": [
        "\n",
        "Illinois"
       ]
      },
      {
       "output_type": "stream",
       "stream": "stdout",
       "text": [
        "\n",
        "Indiana"
       ]
      },
      {
       "output_type": "stream",
       "stream": "stdout",
       "text": [
        "\n",
        "Iowa"
       ]
      },
      {
       "output_type": "stream",
       "stream": "stdout",
       "text": [
        "\n",
        "Kansas"
       ]
      },
      {
       "output_type": "stream",
       "stream": "stdout",
       "text": [
        "\n",
        "Kentucky"
       ]
      },
      {
       "output_type": "stream",
       "stream": "stdout",
       "text": [
        "\n",
        "Louisiana"
       ]
      },
      {
       "output_type": "stream",
       "stream": "stdout",
       "text": [
        "\n",
        "Maine"
       ]
      },
      {
       "output_type": "stream",
       "stream": "stdout",
       "text": [
        "\n",
        "Maryland"
       ]
      },
      {
       "output_type": "stream",
       "stream": "stdout",
       "text": [
        "\n",
        "Massachusetts"
       ]
      },
      {
       "output_type": "stream",
       "stream": "stdout",
       "text": [
        "\n",
        "Michigan"
       ]
      },
      {
       "output_type": "stream",
       "stream": "stdout",
       "text": [
        "\n",
        "Minnesota"
       ]
      },
      {
       "output_type": "stream",
       "stream": "stdout",
       "text": [
        "\n",
        "Mississippi"
       ]
      },
      {
       "output_type": "stream",
       "stream": "stdout",
       "text": [
        "\n",
        "Missouri"
       ]
      },
      {
       "output_type": "stream",
       "stream": "stdout",
       "text": [
        "\n",
        "Montana"
       ]
      },
      {
       "output_type": "stream",
       "stream": "stdout",
       "text": [
        "\n",
        "Nebraska"
       ]
      },
      {
       "output_type": "stream",
       "stream": "stdout",
       "text": [
        "\n",
        "Nevada"
       ]
      },
      {
       "output_type": "stream",
       "stream": "stdout",
       "text": [
        "\n",
        "New Hampshire"
       ]
      },
      {
       "output_type": "stream",
       "stream": "stdout",
       "text": [
        "\n",
        "New Jersey"
       ]
      },
      {
       "output_type": "stream",
       "stream": "stdout",
       "text": [
        "\n",
        "New Mexico"
       ]
      },
      {
       "output_type": "stream",
       "stream": "stdout",
       "text": [
        "\n",
        "New York"
       ]
      },
      {
       "output_type": "stream",
       "stream": "stdout",
       "text": [
        "\n",
        "North Carolina"
       ]
      },
      {
       "output_type": "stream",
       "stream": "stdout",
       "text": [
        "\n",
        "North Dakota"
       ]
      },
      {
       "output_type": "stream",
       "stream": "stdout",
       "text": [
        "\n",
        "Ohio"
       ]
      },
      {
       "output_type": "stream",
       "stream": "stdout",
       "text": [
        "\n",
        "Oklahoma"
       ]
      },
      {
       "output_type": "stream",
       "stream": "stdout",
       "text": [
        "\n",
        "Oregon"
       ]
      },
      {
       "output_type": "stream",
       "stream": "stdout",
       "text": [
        "\n",
        "Pennsylvania"
       ]
      },
      {
       "output_type": "stream",
       "stream": "stdout",
       "text": [
        "\n",
        "Rhode Island"
       ]
      },
      {
       "output_type": "stream",
       "stream": "stdout",
       "text": [
        "\n",
        "South Carolina"
       ]
      },
      {
       "output_type": "stream",
       "stream": "stdout",
       "text": [
        "\n",
        "South Dakota"
       ]
      },
      {
       "output_type": "stream",
       "stream": "stdout",
       "text": [
        "\n",
        "Tennessee"
       ]
      },
      {
       "output_type": "stream",
       "stream": "stdout",
       "text": [
        "\n",
        "Texas"
       ]
      },
      {
       "output_type": "stream",
       "stream": "stdout",
       "text": [
        "\n",
        "Utah"
       ]
      },
      {
       "output_type": "stream",
       "stream": "stdout",
       "text": [
        "\n",
        "Vermont"
       ]
      },
      {
       "output_type": "stream",
       "stream": "stdout",
       "text": [
        "\n",
        "Virginia"
       ]
      },
      {
       "output_type": "stream",
       "stream": "stdout",
       "text": [
        "\n",
        "Washington"
       ]
      },
      {
       "output_type": "stream",
       "stream": "stdout",
       "text": [
        "\n",
        "West Virginia"
       ]
      },
      {
       "output_type": "stream",
       "stream": "stdout",
       "text": [
        "\n",
        "Wisconsin"
       ]
      },
      {
       "output_type": "stream",
       "stream": "stdout",
       "text": [
        "\n",
        "Wyoming"
       ]
      },
      {
       "output_type": "stream",
       "stream": "stdout",
       "text": [
        "\n",
        "number of places"
       ]
      },
      {
       "output_type": "stream",
       "stream": "stdout",
       "text": [
        " 29261\n",
        "total pop 228457238\n"
       ]
      }
     ],
     "prompt_number": 4
    },
    {
     "cell_type": "markdown",
     "metadata": {},
     "source": [
      "# Apply and lambda functions\n",
      "\n",
      "apply + lambda functions: [Day_06_A_Apply_Lambda.ipynb](http://nbviewer.ipython.org/github/rdhyee/working-open-data-2014/blob/master/notebooks/Day_06_A_Apply_Lambda.ipynb)"
     ]
    },
    {
     "cell_type": "markdown",
     "metadata": {},
     "source": [
      "# P005* variables in the census\n",
      "\n",
      "http://www.census.gov/developers/data/sf1.xml\n",
      "\n",
      "compare to http://www.census.gov/prod/cen2010/briefs/c2010br-02.pdf \n",
      "\n",
      "I think the P0050001 might be the key category\n",
      "\n",
      "* P0010001 = P0050001\n",
      "* P0050001 = P0050002 + P0050010\n",
      "\n",
      "P0050002 Not Hispanic or Latino (total) = \n",
      "\n",
      "* P0050003 Not Hispanic White only \n",
      "* P0050004 Not Hispanic Black only\n",
      "* P0050006 Not Hispanic Asian only\n",
      "* Not Hispanic Other (should also be P0050002 - (P0050003 + P0050004 + P0050006)\n",
      "     * P0050005 Not Hispanic: American Indian/ American Indian and Alaska Native alone\n",
      "     * P0050007 Not Hispanic: Native Hawaiian and Other Pacific Islander alone\n",
      "     * P0050008 Not Hispanic: Some Other Race alone\n",
      "     * P0050009 Not Hispanic: Two or More Races\n",
      "\n",
      "* P0050010 Hispanic or Latino\n",
      "  \n",
      "P0050010 = P0050011...P0050017\n",
      "\n",
      "\"Whites are coded as blue; African-Americans, green; Asians, red; Hispanics, orange; and all other racial categories are coded as brown.\""
     ]
    },
    {
     "cell_type": "markdown",
     "metadata": {},
     "source": [
      "# Some graphics demonstrations you should try\n",
      "\n",
      "[Day 7: Preview of Plotting Graphs and Maps](http://rdhyee.github.io/wwod14/day07.html#(3%29)\n",
      "\n",
      "Do the following notebooks work for you to show basic graphics.\n",
      "\n",
      "* [Day_07_A_D3_Choropleth.ipynb](http://nbviewer.ipython.org/github/rdhyee/working-open-data-2014/blob/master/notebooks/Day_07_A_D3_Choropleth.ipynb)\n",
      "\n",
      "* [Day_07_B_Google_Chart_Example.ipynb](http://nbviewer.ipython.org/github/rdhyee/working-open-data-2014/blob/master/notebooks/Day_07_B_Google_Chart_Example.ipynb)\n",
      "\n",
      "* [Day_07_C_Google_Map_API.ipynb](http://nbviewer.ipython.org/github/rdhyee/working-open-data-2014/blob/master/notebooks/Day_07_C_Google_Map_API.ipynb)\n",
      "\n",
      "* [Day_07_D_Matplotlib.ipynb](http://nbviewer.ipython.org/github/rdhyee/working-open-data-2014/blob/master/notebooks/Day_07_D_Matplotlib.ipynb)\n",
      "\n",
      "* [Day_13_D_Vincent_Examples.ipynb](http://nbviewer.ipython.org/github/rdhyee/working-open-data-2014/blob/master/notebooks/Day_13_D_Vincent_Examples.ipynb)\n"
     ]
    },
    {
     "cell_type": "markdown",
     "metadata": {},
     "source": [
      "# Census has lots of interesting data (optional)\n",
      "\n",
      "[Day_07_E_Census_fields.ipynb](http://nbviewer.ipython.org/github/rdhyee/working-open-data-2014/blob/master/notebooks/Day_07_E_Census_fields.ipynb)\n",
      "is an exploration of the concepts and variables in the 2010 Census.\n"
     ]
    },
    {
     "cell_type": "markdown",
     "metadata": {},
     "source": [
      "# Groupby\n",
      "\n",
      "[Day_07_F_Groupby.ipynb](http://nbviewer.ipython.org/github/rdhyee/working-open-data-2014/blob/master/notebooks/Day_07_F_Groupby.ipynb):  gives you background on how to understand and use `groupby` in Pandas.  Don't miss AJ's [Day_10_Groupby_Examples.ipynb](http://nbviewer.ipython.org/github/rdhyee/working-open-data-2014/blob/master/notebooks/Day_10_Groupby_Examples.ipynb), which should be helpful, especially if you found [Day_10_Groupby_Examples.ipynb](http://nbviewer.ipython.org/github/rdhyee/working-open-data-2014/blob/master/notebooks/Day_10_Groupby_Examples.ipynb) obscure."
     ]
    },
    {
     "cell_type": "markdown",
     "metadata": {},
     "source": [
      "# Census Metro Diversity Exercise\n",
      "\n",
      "[Day_07_G_Calculating_Diversity.ipynb](http://nbviewer.ipython.org/github/rdhyee/working-open-data-2014/blob/master/notebooks/Day_07_G_Calculating_Diversity.ipynb):  a prelude to the big diversity-calculation assignment [Day_08_A_Metro_Diversity.ipynb](http://nbviewer.ipython.org/github/rdhyee/working-open-data-2014/blob/master/notebooks/Day_08_A_Metro_Diversity.ipynb)"
     ]
    },
    {
     "cell_type": "markdown",
     "metadata": {},
     "source": [
      "# Projects\n",
      "\n",
      " not a focal point for the midterm (though, of course, it's good for projects to be in the background of your thinking)\n",
      "\n",
      "Relevant references:\n",
      "\n",
      "* [Day 9: Creating Projects](http://rdhyee.github.io/wwod14/day09.html)\n",
      "* [Day 9: Creating Projects: Project Topic Ideas](http://rdhyee.github.io/wwod14/day09.html#(5%29)\n",
      "* [Project-Starter_OpenContext.ipynb](http://nbviewer.ipython.org/github/rdhyee/working-open-data-2014/blob/master/notebooks/Project-Starter_OpenContext.ipynb)\n",
      "* [Day 11: Project Brainstorming](http://rdhyee.github.io/wwod14/day11.html#(6%29)\n"
     ]
    },
    {
     "cell_type": "markdown",
     "metadata": {},
     "source": [
      "# Plotting and Mapping preparation\n",
      "\n",
      "I will assume that you've read Chapter 8 of `PfDA` and can run [Day_11_B_Setting_Up_for_PfDA.ipynb](http://nbviewer.ipython.org/github/rdhyee/working-open-data-2014/blob/master/notebooks/Day_11_B_Setting_Up_for_PfDA.ipynb).\n",
      "\n",
      "study overview slide: [Day 12: Overview of Plotting Options](http://rdhyee.github.io/wwod14/day12.html#(3%29).\n",
      "\n",
      "Note some fundamental conceptual aspects to `matplotlib` (as I outline in  [Day_12_A_Matplotlib_Intro.ipynb](http://nbviewer.ipython.org/github/rdhyee/working-open-data-2014/blob/master/notebooks/Day_12_A_Matplotlib_Intro.ipynb)\n",
      "and try to make basic plots on your own (line plots, scatter plots, bar plots).\n"
     ]
    },
    {
     "cell_type": "markdown",
     "metadata": {},
     "source": [
      "# Baby Names\n",
      "\n",
      "[Day_12_B_Baby_Names_Starter.ipynb#Names-that-are-both-M-and-F](http://nbviewer.ipython.org/github/rdhyee/working-open-data-2014/blob/master/notebooks/Day_12_B_Baby_Names_Starter.ipynb#Names-that-are-both-M-and-F)\n",
      "\n",
      "Before you use [Day_13_C_Baby_Names_MF_Completed.ipynb](http://nbviewer.ipython.org/github/rdhyee/working-open-data-2014/blob/master/notebooks/Day_13_C_Baby_Names_MF_Completed.ipynb),\n",
      "try the approach in [Day_13_B_Baby_Names_MF_Starter.ipynb](http://nbviewer.ipython.org/github/rdhyee/working-open-data-2014/blob/master/notebooks/Day_13_B_Baby_Names_MF_Starter.ipynb)\n",
      "\n",
      "Assignment in [nbviewer.ipython.org/github/rdhyee/working-open-data-2014/blob/master/notebooks/Day_13_B_Baby_Names_MF_Starter.ipynb](http://nbviewer.ipython.org/github/rdhyee/working-open-data-2014/blob/master/notebooks/Day_13_B_Baby_Names_MF_Starter.ipynb):\n",
      "\n",
      "> Submit a notebook that describes what you've learned about the nature of\n",
      "ambigendered names in the baby names database. (Due date: <s>Monday, March 10</s> Wed, March 12 at\n",
      "11:5pm --> bCourses assignment) I'm interested in seeing what you do\n",
      "with the data set in this regard. At the minimum, show that you are able to run\n",
      "Day_13_C_Baby_Names_MF_Completed. Be creative and have fun.\n"
     ]
    },
    {
     "cell_type": "markdown",
     "metadata": {},
     "source": [
      "# mpld3\n",
      "\n",
      "[Day 13: mpld3 references](http://rdhyee.github.io/wwod14/day13.html#(5%29)\n",
      "\n",
      "[Day_13_A_mpl3d.ipynb](http://nbviewer.ipython.org/github/rdhyee/working-open-data-2014/blob/master/notebooks/Day_13_A_mpl3d.ipynb)\n"
     ]
    },
    {
     "cell_type": "markdown",
     "metadata": {},
     "source": [
      "# pivot_table\n",
      "\n",
      "[Day_14_A_Pivot_table_example.ipynb](http://nbviewer.ipython.org/github/rdhyee/working-open-data-2014/blob/master/notebooks/Day_14_A_Pivot_table_example.ipynb)"
     ]
    },
    {
     "cell_type": "code",
     "collapsed": false,
     "input": [],
     "language": "python",
     "metadata": {},
     "outputs": [],
     "prompt_number": 4
    }
   ],
   "metadata": {}
  }
 ]
}