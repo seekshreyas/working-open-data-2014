{
 "metadata": {
  "name": "",
  "signature": "sha256:1105da11a40c804731e937d377f2656bc48109c348d0ae7a0df22420e31a9e0a"
 },
 "nbformat": 3,
 "nbformat_minor": 0,
 "worksheets": [
  {
   "cells": [
    {
     "cell_type": "markdown",
     "metadata": {},
     "source": [
      "Goals\n",
      "\n",
      "* learn how to use matplotlib\n"
     ]
    },
    {
     "cell_type": "code",
     "collapsed": false,
     "input": [
      "%pylab --no-import-all inline"
     ],
     "language": "python",
     "metadata": {},
     "outputs": [
      {
       "output_type": "stream",
       "stream": "stdout",
       "text": [
        "Populating the interactive namespace from numpy and matplotlib\n"
       ]
      }
     ],
     "prompt_number": 8
    },
    {
     "cell_type": "code",
     "collapsed": false,
     "input": [
      "import numpy as np\n",
      "import pandas as pd\n",
      "from pandas import DataFrame, Series"
     ],
     "language": "python",
     "metadata": {},
     "outputs": [],
     "prompt_number": 83
    },
    {
     "cell_type": "code",
     "collapsed": false,
     "input": [
      "# plot different types of graphs to show distribution of populations\n",
      "# Chap 8 of PfDA\n",
      "# http://my.safaribooksonline.com/book/programming/python/9781449323592/8dot-plotting-and-visualization/id2802076\n",
      "\n",
      "# hello world of mpl\n",
      "\n",
      "plt.plot(np.arange(10))\n"
     ],
     "language": "python",
     "metadata": {},
     "outputs": [
      {
       "metadata": {},
       "output_type": "pyout",
       "prompt_number": 84,
       "text": [
        "[<matplotlib.lines.Line2D at 0x10e6f6e50>]"
       ]
      },
      {
       "metadata": {},
       "output_type": "display_data",
       "png": "[encoded data removed]",
       "text": [
        "<matplotlib.figure.Figure at 0x10dd95350>"
       ]
      }
     ],
     "prompt_number": 84
    },
    {
     "cell_type": "code",
     "collapsed": false,
     "input": [
      "fig = plt.figure()"
     ],
     "language": "python",
     "metadata": {},
     "outputs": [
      {
       "metadata": {},
       "output_type": "display_data",
       "text": [
        "<matplotlib.figure.Figure at 0x10c67a410>"
       ]
      }
     ],
     "prompt_number": 85
    },
    {
     "cell_type": "code",
     "collapsed": false,
     "input": [
      "# set up a 2x2 grid of subplots and instantiate 3 of them\n",
      "\n",
      "ax1 = fig.add_subplot(2, 2, 1)\n",
      "ax2 = fig.add_subplot(2, 2, 2)\n",
      "ax3 = fig.add_subplot(2, 2, 3)\n",
      "\n",
      "fig"
     ],
     "language": "python",
     "metadata": {},
     "outputs": [
      {
       "metadata": {},
       "output_type": "pyout",
       "png": "[encoded data removed]",
       "prompt_number": 86,
       "text": [
        "<matplotlib.figure.Figure at 0x10c67a410>"
       ]
      }
     ],
     "prompt_number": 86
    },
    {
     "cell_type": "markdown",
     "metadata": {},
     "source": [
      "PfDA: \n",
      "\n",
      "<blockquote>When you issue a plotting command like <code>plt.plot([1.5, 3.5, -2, 1.6])</code>, matplotlib draws on the last figure and subplot used (creating one if necessary), thus hiding the figure and subplot creation</blockquote>"
     ]
    },
    {
     "cell_type": "code",
     "collapsed": false,
     "input": [
      "plt.plot([1.5, 3.5, -2, 1.6])"
     ],
     "language": "python",
     "metadata": {},
     "outputs": [
      {
       "metadata": {},
       "output_type": "pyout",
       "prompt_number": 87,
       "text": [
        "[<matplotlib.lines.Line2D at 0x107323ed0>]"
       ]
      },
      {
       "metadata": {},
       "output_type": "display_data",
       "png": "[encoded data removed]",
       "text": [
        "<matplotlib.figure.Figure at 0x10e74cad0>"
       ]
      }
     ],
     "prompt_number": 87
    },
    {
     "cell_type": "code",
     "collapsed": false,
     "input": [
      "import math\n",
      "options = [None, 'k--', 'ro', 'g+']\n",
      "\n",
      "fig = plt.figure()\n",
      "\n",
      "# let's plot subplot 2 columns wide\n",
      "# try different options\n",
      "\n",
      "num_row = math.ceil(len(options)/2.0)\n",
      "\n",
      "for (i, option) in enumerate(options):\n",
      "    ax = fig.add_subplot(num_row,2, i+1)\n",
      "    \n",
      "    if option is not None:\n",
      "        ax.plot([1.5, 3.5, -2, 1.6], option)\n",
      "    else:\n",
      "        ax.plot([1.5, 3.5, -2, 1.6])\n",
      "\n",
      "fig.show()"
     ],
     "language": "python",
     "metadata": {},
     "outputs": [
      {
       "metadata": {},
       "output_type": "display_data",
       "png": "[encoded data removed]",
       "text": [
        "<matplotlib.figure.Figure at 0x10e733410>"
       ]
      }
     ],
     "prompt_number": 88
    },
    {
     "cell_type": "code",
     "collapsed": false,
     "input": [
      "from numpy.random import randn\n",
      "\n",
      "fig = plt.figure()\n",
      "\n",
      "ax1 = fig.add_subplot(2, 2, 1)\n",
      "ax2 = fig.add_subplot(2, 2, 2)\n",
      "ax3 = fig.add_subplot(2, 2, 3)\n",
      "\n",
      "ax1.hist(randn(100), bins=20, color='k', alpha=0.3)\n",
      "ax2.scatter(np.arange(30), np.arange(30) + 3 * randn(30))\n",
      "ax3.plot(randn(50).cumsum(), 'k--')\n",
      "\n",
      "fig.show()"
     ],
     "language": "python",
     "metadata": {},
     "outputs": [
      {
       "metadata": {},
       "output_type": "display_data",
       "png": "[encoded data removed]",
       "text": [
        "<matplotlib.figure.Figure at 0x107320610>"
       ]
      }
     ],
     "prompt_number": 89
    },
    {
     "cell_type": "code",
     "collapsed": false,
     "input": [
      "#http://matplotlib.org/examples/api/barchart_demo.html\n",
      "\n",
      "import numpy as np\n",
      "import matplotlib.pyplot as plt\n",
      "\n",
      "N = 5\n",
      "menMeans = (20, 35, 30, 35, 27)\n",
      "menStd =   (2, 3, 4, 1, 2)\n",
      "\n",
      "ind = np.arange(N)  # the x locations for the groups\n",
      "width = 0.35       # the width of the bars\n",
      "\n",
      "fig, ax = plt.subplots()\n",
      "rects1 = ax.bar(ind, menMeans, width, color='r', yerr=menStd)\n",
      "\n",
      "womenMeans = (25, 32, 34, 20, 25)\n",
      "womenStd =   (3, 5, 2, 3, 3)\n",
      "rects2 = ax.bar(ind+width, womenMeans, width, color='y', yerr=womenStd)\n",
      "\n",
      "# add some\n",
      "ax.set_ylabel('Scores')\n",
      "ax.set_title('Scores by group and gender')\n",
      "ax.set_xticks(ind+width)\n",
      "ax.set_xticklabels( ('G1', 'G2', 'G3', 'G4', 'G5') )\n",
      "\n",
      "ax.legend( (rects1[0], rects2[0]), ('Men', 'Women') )\n",
      "\n",
      "def autolabel(rects):\n",
      "    # attach some text labels\n",
      "    for rect in rects:\n",
      "        height = rect.get_height()\n",
      "        ax.text(rect.get_x()+rect.get_width()/2., 1.05*height, '%d'%int(height),\n",
      "                ha='center', va='bottom')\n",
      "\n",
      "autolabel(rects1)\n",
      "autolabel(rects2)\n",
      "\n",
      "plt.show()\n"
     ],
     "language": "python",
     "metadata": {},
     "outputs": [
      {
       "metadata": {},
       "output_type": "display_data",
       "png": "[encoded data removed]",
       "text": [
        "<matplotlib.figure.Figure at 0x106d5c6d0>"
       ]
      }
     ],
     "prompt_number": 44
    },
    {
     "cell_type": "heading",
     "level": 1,
     "metadata": {},
     "source": [
      "World"
     ]
    },
    {
     "cell_type": "markdown",
     "metadata": {},
     "source": [
      "going back to our calculation from [Day_01_B_World_Population.ipynb](http://nbviewer.ipython.org/github/rdhyee/working-open-data-2014/blob/master/notebooks/Day_01_B_World_Population.ipynb)"
     ]
    },
    {
     "cell_type": "code",
     "collapsed": false,
     "input": [
      "# https://gist.github.com/rdhyee/8511607/raw/f16257434352916574473e63612fcea55a0c1b1c/population_of_countries.json\n",
      "# scraping of https://en.wikipedia.org/w/index.php?title=List_of_countries_by_population_(United_Nations)&oldid=590438477\n",
      "\n",
      "# read population in\n",
      "import json\n",
      "import requests\n",
      "\n",
      "pop_json_url = \"https://gist.github.com/rdhyee/8511607/raw/f16257434352916574473e63612fcea55a0c1b1c/population_of_countries.json\"\n",
      "pop_list= requests.get(pop_json_url).json()\n",
      "pop_list"
     ],
     "language": "python",
     "metadata": {},
     "outputs": [
      {
       "metadata": {},
       "output_type": "pyout",
       "prompt_number": 90,
       "text": [
        "[[1, u'China', 1385566537],\n",
        " [2, u'India', 1252139596],\n",
        " [3, u'United States', 320050716],\n",
        " [4, u'Indonesia', 249865631],\n",
        " [5, u'Brazil', 200361925],\n",
        " [6, u'Pakistan', 182142594],\n",
        " [7, u'Nigeria', 173615345],\n",
        " [8, u'Bangladesh', 156594962],\n",
        " [9, u'Russia', 142833689],\n",
        " [10, u'Japan', 127143577],\n",
        " [11, u'Mexico', 122332399],\n",
        " [12, u'Philippines', 98393574],\n",
        " [13, u'Ethiopia', 94100756],\n",
        " [14, u'Vietnam', 91679733],\n",
        " [15, u'Germany', 82726626],\n",
        " [16, u'Egypt', 82056378],\n",
        " [17, u'Iran', 77447168],\n",
        " [18, u'Turkey', 74932641],\n",
        " [19, u'Congo, Democratic Republic of the', 67513677],\n",
        " [20, u'Thailand', 67010502],\n",
        " [21, u'France', 64291280],\n",
        " [22, u'United Kingdom', 63136265],\n",
        " [23, u'Italy', 60990277],\n",
        " [24, u'Myanmar', 53259018],\n",
        " [25, u'South Africa', 52776130],\n",
        " [26, u'Korea, South', 49262698],\n",
        " [27, u'Tanzania', 49253126],\n",
        " [28, u'Colombia', 48321405],\n",
        " [29, u'Spain', 46926963],\n",
        " [30, u'Ukraine', 45238805],\n",
        " [31, u'Kenya', 44353691],\n",
        " [32, u'Argentina', 41446246],\n",
        " [33, u'Algeria', 39208194],\n",
        " [34, u'Poland', 38216635],\n",
        " [35, u'Sudan', 37964306],\n",
        " [36, u'Uganda', 37578876],\n",
        " [37, u'Canada', 35181704],\n",
        " [38, u'Iraq', 33765232],\n",
        " [39, u'Morocco', 33008150],\n",
        " [40, u'Afghanistan', 30551674],\n",
        " [41, u'Venezuela', 30405207],\n",
        " [42, u'Peru', 30375603],\n",
        " [43, u'Malaysia', 29716965],\n",
        " [44, u'Uzbekistan', 28934102],\n",
        " [45, u'Saudi Arabia', 28828870],\n",
        " [46, u'Nepal', 27797457],\n",
        " [47, u'Ghana', 25904598],\n",
        " [48, u'Mozambique', 25833752],\n",
        " [49, u'Korea, North', 24895480],\n",
        " [50, u'Yemen', 24407381],\n",
        " [51, u'Australia', 23342553],\n",
        " [52, u'Taiwan', 23329772],\n",
        " [53, u'Madagascar', 22924851],\n",
        " [54, u'Cameroon', 22253959],\n",
        " [55, u'Syria', 21898061],\n",
        " [56, u'Romania', 21698585],\n",
        " [57, u'Angola', 21471618],\n",
        " [58, u'Sri Lanka', 21273228],\n",
        " [59, u\"C\\xf4te d'Ivoire\", 20316086],\n",
        " [60, u'Niger', 17831270],\n",
        " [61, u'Chile', 17619708],\n",
        " [62, u'Burkina Faso', 16934839],\n",
        " [63, u'Netherlands', 16759229],\n",
        " [64, u'Kazakhstan', 16440586],\n",
        " [65, u'Malawi', 16362567],\n",
        " [66, u'Ecuador', 15737878],\n",
        " [67, u'Guatemala', 15468203],\n",
        " [68, u'Mali', 15301650],\n",
        " [69, u'Cambodia', 15135169],\n",
        " [70, u'Zambia', 14538640],\n",
        " [71, u'Zimbabwe', 14149648],\n",
        " [72, u'Senegal', 14133280],\n",
        " [73, u'Chad', 12825314],\n",
        " [74, u'Rwanda', 11776522],\n",
        " [75, u'Guinea', 11745189],\n",
        " [76, u'South Sudan', 11296173],\n",
        " [77, u'Cuba', 11265629],\n",
        " [78, u'Greece', 11127990],\n",
        " [79, u'Belgium', 11104476],\n",
        " [80, u'Tunisia', 10996515],\n",
        " [81, u'Czech Republic', 10702197],\n",
        " [82, u'Bolivia', 10671200],\n",
        " [83, u'Portugal', 10608156],\n",
        " [84, u'Somalia', 10495583],\n",
        " [85, u'Dominican Republic', 10403761],\n",
        " [86, u'Benin', 10323474],\n",
        " [87, u'Haiti', 10317461],\n",
        " [88, u'Burundi', 10162532],\n",
        " [89, u'Hungary', 9954941],\n",
        " [90, u'Sweden', 9571105],\n",
        " [91, u'Serbia; Kosovo', 9510506],\n",
        " [92, u'Azerbaijan', 9413420],\n",
        " [93, u'Belarus', 9356678],\n",
        " [94, u'United Arab Emirates', 9346129],\n",
        " [95, u'Austria', 8495145],\n",
        " [96, u'Tajikistan', 8207834],\n",
        " [97, u'Honduras', 8097688],\n",
        " [98, u'Switzerland', 8077833],\n",
        " [99, u'Israel', 7733144],\n",
        " [100, u'Papua New Guinea', 7321262],\n",
        " [101, u'Jordan', 7273799],\n",
        " [102, u'Bulgaria', 7222943],\n",
        " [None, u'Hong Kong', 7203836],\n",
        " [103, u'Togo', 6816982],\n",
        " [104, u'Paraguay', 6802295],\n",
        " [105, u'Laos', 6769727],\n",
        " [106, u'El Salvador', 6340454],\n",
        " [107, u'Eritrea', 6333135],\n",
        " [108, u'Libya', 6201521],\n",
        " [109, u'Sierra Leone', 6092075],\n",
        " [110, u'Nicaragua', 6080478],\n",
        " [111, u'Denmark', 5619096],\n",
        " [112, u'Kyrgyzstan', 5547548],\n",
        " [113, u'Slovakia', 5450223],\n",
        " [114, u'Finland', 5426323],\n",
        " [115, u'Singapore', 5411737],\n",
        " [116, u'Turkmenistan', 5240072],\n",
        " [117, u'Norway', 5042671],\n",
        " [118, u'Costa Rica', 4872166],\n",
        " [119, u'Lebanon', 4821971],\n",
        " [120, u'Ireland', 4627173],\n",
        " [121, u'Central African Republic', 4616417],\n",
        " [122, u'New Zealand', 4505761],\n",
        " [123, u'Congo, Republic of the', 4447632],\n",
        " [124, u'Georgia', 4340895],\n",
        " [125, u'Palestine', 4326295],\n",
        " [126, u'Liberia', 4294077],\n",
        " [127, u'Croatia', 4289714],\n",
        " [128, u'Mauritania', 3889880],\n",
        " [129, u'Panama', 3864170],\n",
        " [130, u'Bosnia and Herzegovina', 3829307],\n",
        " [None, u'Puerto Rico', 3688318],\n",
        " [131, u'Oman', 3632444],\n",
        " [132, u'Moldova', 3487204],\n",
        " [133, u'Uruguay', 3407062],\n",
        " [134, u'Kuwait', 3368572],\n",
        " [135, u'Albania', 3173271],\n",
        " [136, u'Lithuania', 3016933],\n",
        " [137, u'Armenia', 2976566],\n",
        " [138, u'Mongolia', 2839073],\n",
        " [139, u'Jamaica', 2783888],\n",
        " [140, u'Namibia', 2303315],\n",
        " [141, u'Qatar', 2168673],\n",
        " [142, u'Macedonia', 2107158],\n",
        " [143, u'Lesotho', 2074465],\n",
        " [144, u'Slovenia', 2071997],\n",
        " [145, u'Latvia', 2050317],\n",
        " [146, u'Botswana', 2021144],\n",
        " [147, u'Gambia', 1849285],\n",
        " [148, u'Guinea-Bissau', 1704255],\n",
        " [149, u'Gabon', 1671711],\n",
        " [150, u'Trinidad and Tobago', 1341151],\n",
        " [151, u'Bahrain', 1332171],\n",
        " [152, u'Estonia', 1287251],\n",
        " [153, u'Swaziland', 1249514],\n",
        " [154, u'Mauritius', 1244403],\n",
        " [155, u'Cyprus', 1141166],\n",
        " [156, u'Timor-Leste', 1132879],\n",
        " [157, u'Fiji', 881065],\n",
        " [None, u'R\\xe9union', 875375],\n",
        " [158, u'Djibouti', 872932],\n",
        " [159, u'Guyana', 799613],\n",
        " [160, u'Equatorial Guinea', 757014],\n",
        " [161, u'Bhutan', 753947],\n",
        " [162, u'Comoros', 734917],\n",
        " [163, u'Montenegro', 621383],\n",
        " [None, u'Western Sahara', 567315],\n",
        " [None, u'Macau', 566375],\n",
        " [164, u'Solomon Islands', 561231],\n",
        " [165, u'Suriname', 539276],\n",
        " [166, u'Luxembourg', 530380],\n",
        " [167, u'Cape Verde', 498897],\n",
        " [None, u'Guadeloupe', 465800],\n",
        " [168, u'Malta', 429004],\n",
        " [169, u'Brunei', 417784],\n",
        " [None, u'Martinique', 403682],\n",
        " [170, u'Bahamas', 377374],\n",
        " [171, u'Maldives', 345023],\n",
        " [172, u'Belize', 331900],\n",
        " [173, u'Iceland', 329535],\n",
        " [174, u'Barbados', 284644],\n",
        " [None, u'French Polynesia', 276831],\n",
        " [None, u'New Caledonia', 256496],\n",
        " [175, u'Vanuatu', 252763],\n",
        " [None, u'French Guiana', 249227],\n",
        " [None, u'Mayotte', 222152],\n",
        " [176, u'S\\xe3o Tom\\xe9 and Pr\\xedncipe', 192993],\n",
        " [177, u'Samoa', 190372],\n",
        " [178, u'Saint Lucia', 182273],\n",
        " [None, u'Guam', 165124],\n",
        " [None, u'Guernsey; Jersey', 162018],\n",
        " [None, u'Cura\\xe7ao', 158760],\n",
        " [179, u'Saint Vincent and the Grenadines', 109373],\n",
        " [None, u'Virgin Islands, United States', 106627],\n",
        " [180, u'Grenada', 105897],\n",
        " [181, u'Tonga', 105323],\n",
        " [182, u'Micronesia, Federated States of', 103549],\n",
        " [None, u'Aruba', 102911],\n",
        " [183, u'Kiribati', 102351],\n",
        " [184, u'Seychelles', 92838],\n",
        " [185, u'Antigua and Barbuda', 89985],\n",
        " [None, u'Isle of Man', 85888],\n",
        " [186, u'Andorra', 79218],\n",
        " [187, u'Dominica', 72003],\n",
        " [None, u'Bermuda', 65341],\n",
        " [None, u'Cayman Islands', 58435],\n",
        " [None, u'Greenland', 56987],\n",
        " [None, u'American Samoa', 55165],\n",
        " [188, u'Saint Kitts and Nevis', 54191],\n",
        " [None, u'Northern Mariana Islands', 53855],\n",
        " [189, u'Marshall Islands', 52634],\n",
        " [None, u'Faroe Islands', 49469],\n",
        " [None, u'Sint Maarten', 45233],\n",
        " [190, u'Monaco', 37831],\n",
        " [191, u'Liechtenstein', 36925],\n",
        " [None, u'Turks and Caicos Islands', 33098],\n",
        " [192, u'San Marino', 31448],\n",
        " [None, u'Gibraltar', 29310],\n",
        " [None, u'Virgin Islands, British', 28341],\n",
        " [193, u'Palau', 20918],\n",
        " [None, u'Cook Islands', 20629],\n",
        " [None, u'Caribbean Netherlands', 19130],\n",
        " [None, u'Anguilla', 14300],\n",
        " [None, u'Wallis and Futuna', 13272],\n",
        " [194, u'Nauru', 10051],\n",
        " [195, u'Tuvalu', 9876],\n",
        " [None, u'Saint Pierre and Miquelon', 6043],\n",
        " [None, u'Montserrat', 5091],\n",
        " [None, u'Saint Helena, Ascension and Tristan da Cunha', 4129],\n",
        " [None, u'Falkland Islands', 3044],\n",
        " [None, u'Niue', 1344],\n",
        " [None, u'Tokelau', 1195],\n",
        " [196, u'Vatican City', 799]]"
       ]
      }
     ],
     "prompt_number": 90
    },
    {
     "cell_type": "code",
     "collapsed": false,
     "input": [
      "country_num = range(len(pop_list))\n",
      "country_names = [c[1] for c in pop_list]\n",
      "country_pops = [int(c[2]) for c in pop_list]"
     ],
     "language": "python",
     "metadata": {},
     "outputs": [],
     "prompt_number": 91
    },
    {
     "cell_type": "code",
     "collapsed": false,
     "input": [
      "plt.plot(country_pops)"
     ],
     "language": "python",
     "metadata": {},
     "outputs": [
      {
       "metadata": {},
       "output_type": "pyout",
       "prompt_number": 92,
       "text": [
        "[<matplotlib.lines.Line2D at 0x10e9d9850>]"
       ]
      },
      {
       "metadata": {},
       "output_type": "display_data",
       "png": "[encoded data removed]",
       "text": [
        "<matplotlib.figure.Figure at 0x10e70a7d0>"
       ]
      }
     ],
     "prompt_number": 92
    },
    {
     "cell_type": "code",
     "collapsed": false,
     "input": [
      "from itertools import izip, islice\n",
      "sampled_country_tuples = list(islice(izip(country_num, country_names),0,None,10))\n",
      "sampled_i = [s[0] for s in sampled_country_tuples]\n",
      "sampled_countries = [s[1] for s in sampled_country_tuples]"
     ],
     "language": "python",
     "metadata": {},
     "outputs": [],
     "prompt_number": 93
    },
    {
     "cell_type": "code",
     "collapsed": false,
     "input": [
      "# bar charts\n",
      "# can find barh: http://matplotlib.org/examples/lines_bars_and_markers/barh_demo.html\n",
      "# http://matplotlib.org/api/pyplot_api.html#matplotlib.pyplot.bar\n",
      "\n",
      "plt.bar(left=map(lambda x: x, range(len(country_pops))),height=country_pops, width=2, log='x')\n",
      "#plt.xticks(range(len(country_pops)), country_names, rotation='vertical')\n",
      "plt.xticks(sampled_i, sampled_countries, rotation='vertical')\n",
      "plt.ylabel('Population')\n",
      "plt.show()"
     ],
     "language": "python",
     "metadata": {},
     "outputs": [
      {
       "metadata": {},
       "output_type": "display_data",
       "png": "[encoded data removed]",
       "text": [
        "<matplotlib.figure.Figure at 0x10eba2e50>"
       ]
      }
     ],
     "prompt_number": 99
    },
    {
     "cell_type": "code",
     "collapsed": false,
     "input": [
      "# what if we make a DataFrame from pop_list\n",
      "df = DataFrame(pop_list)"
     ],
     "language": "python",
     "metadata": {},
     "outputs": [],
     "prompt_number": 95
    },
    {
     "cell_type": "code",
     "collapsed": false,
     "input": [
      "plt.plot(df[2])"
     ],
     "language": "python",
     "metadata": {},
     "outputs": [
      {
       "metadata": {},
       "output_type": "pyout",
       "prompt_number": 98,
       "text": [
        "[<matplotlib.lines.Line2D at 0x10ef14b10>]"
       ]
      },
      {
       "metadata": {},
       "output_type": "display_data",
       "png": "[encoded data removed]",
       "text": [
        "<matplotlib.figure.Figure at 0x10e790d50>"
       ]
      }
     ],
     "prompt_number": 98
    },
    {
     "cell_type": "code",
     "collapsed": false,
     "input": [
      "plt.plot(df[2].cumsum())"
     ],
     "language": "python",
     "metadata": {},
     "outputs": [
      {
       "metadata": {},
       "output_type": "pyout",
       "prompt_number": 100,
       "text": [
        "[<matplotlib.lines.Line2D at 0x10ea9e110>]"
       ]
      },
      {
       "metadata": {},
       "output_type": "display_data",
       "png": "[encoded data removed]",
       "text": [
        "<matplotlib.figure.Figure at 0x10e92e6d0>"
       ]
      }
     ],
     "prompt_number": 100
    }
   ],
   "metadata": {}
  }
 ]
}